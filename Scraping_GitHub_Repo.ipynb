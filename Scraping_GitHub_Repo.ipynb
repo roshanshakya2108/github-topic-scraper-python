{
 "cells": [
  {
   "cell_type": "markdown",
   "id": "c34d1650-c968-41df-890f-4d153429e78f",
   "metadata": {},
   "source": [
    "# Scraping Top Repositories for Topics on GitHub\n",
    "\n",
    "**TODO (Intro):**\n",
    "\n",
    "* Introduction about web scraping\n",
    "* Introduction about GitHub and the problem statement\n",
    "* Mention the tools you're using (Python, requests, Beautiful Soup, Pandas)\n",
    "\n",
    "---\n",
    "\n",
    "**Here are the steps we'll follow:**\n",
    "\n",
    "* We're going to scrape [https://github.com/topics](https://github.com/topics)\n",
    "* We'll get a list of topics. For each topic, we'll get topic title, topic page URL, and topic description.\n",
    "* For each topic, we'll get the top 25 repositories in the topic from the topic page.\n",
    "* For each repository, we'll grab the repo name, username, stars, and repo URL.\n",
    "* For each topic, we'll create a CSV file in the following format:\n",
    "\n",
    "```csv\n",
    "Repo Name,Username,Stars,Repo URL\n",
    "three.js,mrdoob,69700,[https://github.com/mrdoob/three.js](https://github.com/mrdoob/three.js)\n",
    "libgdx,libgdx,18300,[https://github.com/libgdx/libgdx](https://github.com/libgdx/libgdx)"
   ]
  },
  {
   "cell_type": "markdown",
   "id": "dd52c92b-a6da-4ddc-9392-ee3ccb20fda6",
   "metadata": {},
   "source": [
    "## Use the request library to download web pages"
   ]
  },
  {
   "cell_type": "code",
   "execution_count": 1,
   "id": "a103abf3-b9ba-4bf1-95ea-7b23b6379f87",
   "metadata": {},
   "outputs": [],
   "source": [
    "import requests\n",
    "from bs4 import BeautifulSoup"
   ]
  },
  {
   "cell_type": "code",
   "execution_count": 2,
   "id": "7056b96f-8ff2-4e5f-86af-1aee4a8447a1",
   "metadata": {},
   "outputs": [],
   "source": [
    "topics_url = \"https://github.com/topics\""
   ]
  },
  {
   "cell_type": "code",
   "execution_count": 3,
   "id": "13760b9f-b3cc-4a18-83d8-79ff517a52c1",
   "metadata": {},
   "outputs": [],
   "source": [
    "response = requests.get(topics_url)"
   ]
  },
  {
   "cell_type": "code",
   "execution_count": 4,
   "id": "a8fb17b6-f625-486b-a41c-d55ce1a17ab9",
   "metadata": {},
   "outputs": [
    {
     "data": {
      "text/plain": [
       "200"
      ]
     },
     "execution_count": 4,
     "metadata": {},
     "output_type": "execute_result"
    }
   ],
   "source": [
    "response.status_code"
   ]
  },
  {
   "cell_type": "code",
   "execution_count": 5,
   "id": "4167dcc0-43e5-49c2-b8cc-14f39010f2ea",
   "metadata": {
    "scrolled": true
   },
   "outputs": [
    {
     "data": {
      "text/plain": [
       "'\\n\\n<!DOCTYPE html>\\n<html\\n  lang=\"en\"\\n  \\n  data-color-mode=\"auto\" data-light-theme=\"light\" data-dark-theme=\"dark\"\\n  data-a11y-animated-images=\"system\" data-a11y-link-underlines=\"true\"\\n  data-css-features=\"prs_diff_containment\"\\n  >\\n\\n\\n\\n  <head>\\n    <meta charset=\"utf-8\">\\n  <link rel=\"dns-prefetch\" href=\"https://github.githubassets.com\">\\n  <link rel=\"dns-prefetch\" href=\"https://avatars.githubusercontent.com\">\\n  <link rel=\"dns-prefetch\" href=\"https://github-cloud.s3.amazonaws.com\">\\n  <link rel=\"dns-prefetch\" href=\"https://user-images.githubusercontent.com/\">\\n  <link rel=\"preconnect\" href=\"https://github.githubassets.com\" crossorigin>\\n  <link rel=\"preconnect\" href=\"https://avatars.githubusercontent.com\">\\n\\n  \\n\\n  <link crossorigin=\"anonymous\" media=\"all\" rel=\"stylesheet\" href=\"https://github.githubassets.com/assets/light-c59dc71e3a4c.css\" /><link crossorigin=\"anonymous\" media=\"all\" rel=\"stylesheet\" href=\"https://github.githubassets.com/assets/light_high_contrast-4bf0cb726930.css\" /><link crossorigin=\"anonymous\" media=\"all\" rel=\"stylesheet\" href=\"https://github.githubassets.com/assets/dark-89751e879f8b.css\" /><link crossorigin=\"anonymous\" media=\"all\" rel=\"stylesheet\" href=\"https://github.githubassets.com/assets/dark_high_contrast-67c7180a598a.css\" /><link data-color-theme=\"light\" crossorigin=\"anonymous\" media=\"all\" rel=\"stylesheet\" data-href=\"https://github.githubassets.com/assets/light-c59dc71e3a4c.css\" /><link data-color-theme=\"light_high_contrast\" crossorigin=\"anonymous\" media=\"all\" rel=\"stylesheet\" data-href=\"https://github.githubassets.com/assets/light_high_contrast-4bf0cb726930.css\" /><link data-color-theme=\"light_colorblind\" crossorigin=\"anonymous\" media=\"all\" rel=\"stylesheet\" data-href=\"https://github.githubassets.com/assets/light_colorblind-6060e905eb78.css\" /><link data-color-theme=\"light_colorblind_high_contrast\" crossorigin=\"anonymous\" media=\"all\" rel=\"stylesheet\" data-href=\"https://github.githubassets.com/assets/light_colorblind_high_contrast-04e818620b9c.css\" /><link data-color-theme=\"light_tritanopia\" crossorigin=\"anonymous\" media=\"all\" rel=\"stylesheet\" data-href=\"https://github.githubassets.com/assets/light_tritanopia-ae65df249e0f.css\" /><link data-color-theme=\"light_tritanopia_high_contrast\" crossorigin=\"anonymous\" media=\"all\" rel=\"stylesheet\" data-href=\"https://github.githubassets.com/assets/light_tritanopia_high_contrast-fdadc12a1ec2.css\" /><link data-color-theme=\"dark\" crossorigin=\"anonymous\" media=\"all\" rel=\"stylesheet\" data-href=\"https://github.githubassets.com/assets/dark-89751e879f8b.css\" /><link data-color-theme=\"dark_high_contrast\" crossorigin=\"anonymous\" media=\"all\" rel=\"stylesheet\" data-href=\"https://github.githubassets.com/assets/dark_high_contrast-67c7180a598a.css\" /><link data-color-theme=\"dark_colorblind\" crossorigin=\"anonymous\" media=\"all\" rel=\"stylesheet\" data-href=\"https://github.githubassets.com/assets/dark_colorblind-4277e18a7c75.css\" /><link data-color-theme=\"dark_colorblind_high_contrast\" crossorigin=\"anonymous\" media=\"all\" rel=\"stylesheet\" data-href=\"https://github.githubassets.com/assets/dark_colorblind_high_contrast-2e33ed61bc8c.css\" /><link data-color-theme=\"dark_tritanopia\" crossorigin=\"anonymous\" media=\"all\" rel=\"stylesheet\" data-href=\"https://github.githubassets.com/assets/dark_tritanopia-48d44d87614d.css\" /><link data-color-theme=\"dark_tritanopia_high_contrast\" crossorigin=\"anonymous\" media=\"all\" rel=\"stylesheet\" data-href=\"https://github.githubassets.com/assets/dark_tritanopia_high_contrast-6adcb5080302.css\" /><link data-color-theme=\"dark_dimmed\" crossorigin=\"anonymous\" media=\"all\" rel=\"stylesheet\" data-href=\"https://github.githubassets.com/assets/dark_dimmed-250cee4c1ea8.css\" /><link data-color-theme=\"dark_dimmed_high_contrast\" crossorigin=\"anonymous\" media=\"all\" rel=\"stylesheet\" data-href=\"https://github.githubassets.com/assets/dark_dimmed_high_contrast-e3802beb8c06.css\" />\\n\\n    <link crossorigin=\"anonymous\" media=\"all\" rel=\"stylesheet\" href=\"https://github.githubassets.com/assets/primer-primitives-225433424a87.css\" />\\n    <link crossorigin=\"anonymous\" media=\"all\" rel=\"stylesheet\" href=\"https://github.githubassets.com/assets/primer-b8b91660c29d.css\" />\\n    <link crossorigin=\"anonymous\" media=\"all\" rel=\"stylesheet\" href=\"https://github.githubassets.com/assets/global-9069755a434c.css\" />\\n    <link crossorigin=\"anonymous\" media=\"all\" rel=\"stylesheet\" href=\"https://github.githubassets.com/assets/github-ef14fd9f242b.css\" />\\n  <link crossorigin=\"anonymous\" media=\"all\" rel=\"stylesheet\" href=\"https://github.githubassets.com/assets/site-f67316d89a98.css\" />\\n<link crossorigin=\"anonymous\" media=\"all\" rel=\"stylesheet\" href=\"https://github.githubassets.com/assets/explore-742a7653565b.css\" />\\n<link crossorigin=\"anonymous\" media=\"all\" rel=\"stylesheet\" href=\"https://github.githubassets.com/assets/dashboard-5b63fd1f0f94.css\" />\\n<link crossorigin=\"anonymous\" media=\"all\" rel=\"stylesheet\" href=\"https://github.githubassets.com/assets/discussions-dae9ae1a46a6.css\" />\\n\\n  \\n\\n\\n  <script type=\"application/json\" id=\"client-env\">{\"locale\":\"en\",\"featureFlags\":[\"alternate_user_config_repo\",\"api_insights_show_missing_data_banner\",\"appearance_settings\",\"codespaces_prebuild_region_target_update\",\"contact_requests_implicit_opt_in\",\"contentful_lp_footnotes\",\"copilot_chat_attach_multiple_images\",\"copilot_chat_autocomplete\",\"copilot_chat_custom_instructions\",\"copilot_chat_repo_custom_instructions_preview\",\"copilot_chat_vision_in_claude\",\"copilot_chat_wholearea_dd\",\"copilot_custom_copilots_feature_preview\",\"copilot_custom_copilots_org_owned\",\"copilot_custom_copilots_visibility\",\"copilot_duplicate_thread\",\"copilot_f2p_marketing_cta\",\"copilot_free_to_paid_telem\",\"copilot_ftp_settings_upgrade\",\"copilot_ftp_upgrade_to_pro_from_models\",\"copilot_header_button_to_immersive\",\"copilot_immersive_draft_issue_template_required\",\"copilot_immersive_issue_preview\",\"copilot_new_conversation_starters\",\"copilot_new_immersive_references_ui\",\"copilot_no_floating_button\",\"copilot_read_shared_conversation\",\"copilot_showcase_icebreakers\",\"copilot_task_oriented_assistive_prompts\",\"copilot_topics_as_references\",\"copilot_ui_refs\",\"copilot_workbench_iterate_panel\",\"copilot_workbench_preview_analytics\",\"copilot_workbench_refresh_on_wsod\",\"copilot_workbench_user_limits\",\"direct_to_salesforce\",\"dotcom_chat_client_side_skills\",\"ghost_pilot_confidence_truncation_25\",\"ghost_pilot_confidence_truncation_40\",\"insert_before_patch\",\"issues_react_blur_item_picker_on_close\",\"issues_react_create_milestone\",\"issues_react_prohibit_title_fallback\",\"issues_react_remove_placeholders\",\"lifecycle_label_name_updates\",\"link_contact_sales_swp_marketo\",\"marketing_pages_search_explore_provider\",\"memex_mwl_filter_field_delimiter\",\"nonreporting_relay_graphql_status_codes\",\"primer_primitives_experimental\",\"primer_react_css_modules_ga\",\"primer_react_select_panel_with_modern_action_list\",\"remove_child_patch\",\"sample_network_conn_type\",\"send_app_type_header\",\"site_homepage_contentful\",\"site_msbuild_hide_integrations\",\"site_msbuild_launch\",\"site_msbuild_webgl_hero\",\"spark_commit_on_default_branch\",\"swp_enterprise_contact_form\",\"use_copilot_avatar\",\"use_paginated_repo_picker_cost_center_form\",\"viewscreen_sandbox\"]}</script>\\n<script crossorigin=\"anonymous\" defer=\"defer\" type=\"application/javascript\" src=\"https://github.githubassets.com/assets/wp-runtime-39c4490e8333.js\"></script>\\n<script crossorigin=\"anonymous\" defer=\"defer\" type=\"application/javascript\" src=\"https://github.githubassets.com/assets/vendors-node_modules_oddbird_popover-polyfill_dist_popover-fn_js-81211bd82278.js\"></script>\\n<script crossorigin=\"anonymous\" defer=\"defer\" type=\"application/javascript\" src=\"https://github.githubassets.com/assets/vendors-node_modules_github_mini-throttle_dist_index_js-node_modules_stacktrace-parser_dist_s-1d3d52-4be8ffe9a34a.js\"></script>\\n<script crossorigin=\"anonymous\" defer=\"defer\" type=\"application/javascript\" src=\"https://github.githubassets.com/assets/ui_packages_failbot_failbot_ts-b653dbc4ad7c.js\"></script>\\n<script crossorigin=\"anonymous\" defer=\"defer\" type=\"application/javascript\" src=\"https://github.githubassets.com/assets/environment-b57777ff3eb5.js\"></script>\\n<script crossorigin=\"anonymous\" defer=\"defer\" type=\"application/javascript\" src=\"https://github.githubassets.com/assets/vendors-node_modules_primer_behaviors_dist_esm_index_mjs-0dbb79f97f8f.js\"></script>\\n<script crossorigin=\"anonymous\" defer=\"defer\" type=\"application/javascript\" src=\"https://github.githubassets.com/assets/vendors-node_modules_github_selector-observer_dist_index_esm_js-f690fd9ae3d5.js\"></script>\\n<script crossorigin=\"anonymous\" defer=\"defer\" type=\"application/javascript\" src=\"https://github.githubassets.com/assets/vendors-node_modules_github_relative-time-element_dist_index_js-fd884d19bf73.js\"></script>\\n<script crossorigin=\"anonymous\" defer=\"defer\" type=\"application/javascript\" src=\"https://github.githubassets.com/assets/vendors-node_modules_github_text-expander-element_dist_index_js-b4ed7224d804.js\"></script>\\n<script crossorigin=\"anonymous\" defer=\"defer\" type=\"application/javascript\" src=\"https://github.githubassets.com/assets/vendors-node_modules_github_auto-complete-element_dist_index_js-node_modules_github_catalyst_-8e9f78-a90ac05d2469.js\"></script>\\n<script crossorigin=\"anonymous\" defer=\"defer\" type=\"application/javascript\" src=\"https://github.githubassets.com/assets/vendors-node_modules_github_filter-input-element_dist_index_js-node_modules_github_remote-inp-b5f1d7-a1760ffda83d.js\"></script>\\n<script crossorigin=\"anonymous\" defer=\"defer\" type=\"application/javascript\" src=\"https://github.githubassets.com/assets/vendors-node_modules_github_markdown-toolbar-element_dist_index_js-ceef33f593fa.js\"></script>\\n<script crossorigin=\"anonymous\" defer=\"defer\" type=\"application/javascript\" src=\"https://github.githubassets.com/assets/vendors-node_modules_github_file-attachment-element_dist_index_js-node_modules_primer_view-co-f03a40-7aa390a76d76.js\"></script>\\n<script crossorigin=\"anonymous\" defer=\"defer\" type=\"application/javascript\" src=\"https://github.githubassets.com/assets/github-elements-aeda4db17558.js\"></script>\\n<script crossorigin=\"anonymous\" defer=\"defer\" type=\"application/javascript\" src=\"https://github.githubassets.com/assets/element-registry-cc25ddd7c20a.js\"></script>\\n<script crossorigin=\"anonymous\" defer=\"defer\" type=\"application/javascript\" src=\"https://github.githubassets.com/assets/vendors-node_modules_braintree_browser-detection_dist_browser-detection_js-node_modules_githu-bb80ec-72267f4e3ff9.js\"></script>\\n<script crossorigin=\"anonymous\" defer=\"defer\" type=\"application/javascript\" src=\"https://github.githubassets.com/assets/vendors-node_modules_lit-html_lit-html_js-be8cb88f481b.js\"></script>\\n<script crossorigin=\"anonymous\" defer=\"defer\" type=\"application/javascript\" src=\"https://github.githubassets.com/assets/vendors-node_modules_morphdom_dist_morphdom-esm_js-0c08218c7d5f.js\"></script>\\n<script crossorigin=\"anonymous\" defer=\"defer\" type=\"application/javascript\" src=\"https://github.githubassets.com/assets/vendors-node_modules_github_turbo_dist_turbo_es2017-esm_js-a03ee12d659a.js\"></script>\\n<script crossorigin=\"anonymous\" defer=\"defer\" type=\"application/javascript\" src=\"https://github.githubassets.com/assets/vendors-node_modules_github_remote-form_dist_index_js-node_modules_delegated-events_dist_inde-893f9f-b6294cf703b7.js\"></script>\\n<script crossorigin=\"anonymous\" defer=\"defer\" type=\"application/javascript\" src=\"https://github.githubassets.com/assets/vendors-node_modules_color-convert_index_js-e3180fe3bcb3.js\"></script>\\n<script crossorigin=\"anonymous\" defer=\"defer\" type=\"application/javascript\" src=\"https://github.githubassets.com/assets/vendors-node_modules_github_quote-selection_dist_index_js-node_modules_github_session-resume_-b02a44-2dfe7ee0c022.js\"></script>\\n<script crossorigin=\"anonymous\" defer=\"defer\" type=\"application/javascript\" src=\"https://github.githubassets.com/assets/ui_packages_updatable-content_updatable-content_ts-bb5383563a3c.js\"></script>\\n<script crossorigin=\"anonymous\" defer=\"defer\" type=\"application/javascript\" src=\"https://github.githubassets.com/assets/app_assets_modules_github_behaviors_task-list_ts-app_assets_modules_github_sso_ts-ui_packages-900dde-0f330f308c9c.js\"></script>\\n<script crossorigin=\"anonymous\" defer=\"defer\" type=\"application/javascript\" src=\"https://github.githubassets.com/assets/app_assets_modules_github_sticky-scroll-into-view_ts-a2b7203f436f.js\"></script>\\n<script crossorigin=\"anonymous\" defer=\"defer\" type=\"application/javascript\" src=\"https://github.githubassets.com/assets/app_assets_modules_github_behaviors_ajax-error_ts-app_assets_modules_github_behaviors_include-d0d0a6-6b47393a7e1d.js\"></script>\\n<script crossorigin=\"anonymous\" defer=\"defer\" type=\"application/javascript\" src=\"https://github.githubassets.com/assets/app_assets_modules_github_behaviors_commenting_edit_ts-app_assets_modules_github_behaviors_ht-83c235-b3cc6ea822ae.js\"></script>\\n<script crossorigin=\"anonymous\" defer=\"defer\" type=\"application/javascript\" src=\"https://github.githubassets.com/assets/behaviors-7ab0380793bb.js\"></script>\\n<script crossorigin=\"anonymous\" defer=\"defer\" type=\"application/javascript\" src=\"https://github.githubassets.com/assets/vendors-node_modules_delegated-events_dist_index_js-node_modules_github_catalyst_lib_index_js-ea8eaa-ae0dbe787ad8.js\"></script>\\n<script crossorigin=\"anonymous\" defer=\"defer\" type=\"application/javascript\" src=\"https://github.githubassets.com/assets/notifications-global-5b54ad57626b.js\"></script>\\n  \\n\\n  <title>Topics on GitHub · GitHub</title>\\n\\n\\n\\n  <meta name=\"route-pattern\" content=\"/topics(.:format)\" data-turbo-transient>\\n  <meta name=\"route-controller\" content=\"topics\" data-turbo-transient>\\n  <meta name=\"route-action\" content=\"index\" data-turbo-transient>\\n  <meta name=\"fetch-nonce\" content=\"v2:a2316ae2-5df0-faed-342e-e90237face66\">\\n\\n    \\n  <meta name=\"current-catalog-service-hash\" content=\"82c569b93da5c18ed649ebd4c2c79437db4611a6a1373e805a3cb001c64130b7\">\\n\\n\\n  <meta name=\"request-id\" content=\"F6F7:1D8327:1778905:1C3A6C8:684267CF\" data-pjax-transient=\"true\"/><meta name=\"html-safe-nonce\" content=\"f74f1f38900720898de2e84054779bcce32c51794dab6583b577d117d8136793\" data-pjax-transient=\"true\"/><meta name=\"visitor-payload\" content=\"eyJyZWZlcnJlciI6IiIsInJlcXVlc3RfaWQiOiJGNkY3OjFEODMyNzoxNzc4OTA1OjFDM0E2Qzg6Njg0MjY3Q0YiLCJ2aXNpdG9yX2lkIjoiMzExODExNDUwMTY1Njk5NTc5MSIsInJlZ2lvbl9lZGdlIjoiY2VudHJhbGluZGlhIiwicmVnaW9uX3JlbmRlciI6ImNlbnRyYWxpbmRpYSJ9\" data-pjax-transient=\"true\"/><meta name=\"visitor-hmac\" content=\"239e3da509fa2d587ada0f97ffc63afe261874cf8b0751a88c0b40d20b35b41f\" data-pjax-transient=\"true\"/>\\n\\n\\n\\n\\n  <meta name=\"github-keyboard-shortcuts\" content=\"copilot\" data-turbo-transient=\"true\" />\\n  \\n\\n  <meta name=\"selected-link\" value=\"/topics\" data-turbo-transient>\\n  <link rel=\"assets\" href=\"https://github.githubassets.com/\">\\n\\n    <meta name=\"google-site-verification\" content=\"Apib7-x98H0j5cPqHWwSMm6dNU4GmODRoqxLiDzdx9I\">\\n\\n<meta name=\"octolytics-url\" content=\"https://collector.github.com/github/collect\" />\\n\\n  \\n\\n  \\n\\n\\n\\n\\n    <meta name=\"user-login\" content=\"\">\\n\\n  \\n\\n    <meta name=\"viewport\" content=\"width=device-width\">\\n\\n    \\n\\n      <meta name=\"description\" content=\"GitHub is where people build software. More than 150 million people use GitHub to discover, fork, and contribute to over 420 million projects.\">\\n\\n      <link rel=\"search\" type=\"application/opensearchdescription+xml\" href=\"/opensearch.xml\" title=\"GitHub\">\\n\\n    <link rel=\"fluid-icon\" href=\"https://github.com/fluidicon.png\" title=\"GitHub\">\\n    <meta property=\"fb:app_id\" content=\"1401488693436528\">\\n    <meta name=\"apple-itunes-app\" content=\"app-id=1477376905, app-argument=https://github.com/topics\" />\\n\\n      <meta property=\"og:url\" content=\"https://github.com\">\\n  <meta property=\"og:site_name\" content=\"GitHub\">\\n  <meta property=\"og:title\" content=\"Build software better, together\">\\n  <meta property=\"og:description\" content=\"GitHub is where people build software. More than 150 million people use GitHub to discover, fork, and contribute to over 420 million projects.\">\\n  <meta property=\"og:image\" content=\"https://github.githubassets.com/assets/github-logo-55c5b9a1fe52.png\">\\n  <meta property=\"og:image:type\" content=\"image/png\">\\n  <meta property=\"og:image:width\" content=\"1200\">\\n  <meta property=\"og:image:height\" content=\"1200\">\\n  <meta property=\"og:image\" content=\"https://github.githubassets.com/assets/github-mark-57519b92ca4e.png\">\\n  <meta property=\"og:image:type\" content=\"image/png\">\\n  <meta property=\"og:image:width\" content=\"1200\">\\n  <meta property=\"og:image:height\" content=\"620\">\\n  <meta property=\"og:image\" content=\"https://github.githubassets.com/assets/github-octocat-13c86b8b336d.png\">\\n  <meta property=\"og:image:type\" content=\"image/png\">\\n  <meta property=\"og:image:width\" content=\"1200\">\\n  <meta property=\"og:image:height\" content=\"620\">\\n\\n  <meta property=\"twitter:site\" content=\"github\">\\n  <meta property=\"twitter:site:id\" content=\"13334762\">\\n  <meta property=\"twitter:creator\" content=\"github\">\\n  <meta property=\"twitter:creator:id\" content=\"13334762\">\\n  <meta property=\"twitter:card\" content=\"summary_large_image\">\\n  <meta property=\"twitter:title\" content=\"GitHub\">\\n  <meta property=\"twitter:description\" content=\"GitHub is where people build software. More than 150 million people use GitHub to discover, fork, and contribute to over 420 million projects.\">\\n  <meta property=\"twitter:image\" content=\"https://github.githubassets.com/assets/github-logo-55c5b9a1fe52.png\">\\n  <meta property=\"twitter:image:width\" content=\"1200\">\\n  <meta property=\"twitter:image:height\" content=\"1200\">\\n\\n\\n\\n\\n      <meta name=\"hostname\" content=\"github.com\">\\n\\n\\n\\n        <meta name=\"expected-hostname\" content=\"github.com\">\\n\\n\\n  <meta http-equiv=\"x-pjax-version\" content=\"9417b44b5a1b454831571a4913487fcc92d7e78c4c885ac98dcd99fe6772a744\" data-turbo-track=\"reload\">\\n  <meta http-equiv=\"x-pjax-csp-version\" content=\"352e51c42d5f5727a7c545752bf34d1f83f40219e7036c6959817149a51651bc\" data-turbo-track=\"reload\">\\n  <meta http-equiv=\"x-pjax-css-version\" content=\"8ab2e6cad94709c545fd2b69b94a97f1d15a47b448ee432c1c8bd69acb3d33c4\" data-turbo-track=\"reload\">\\n  <meta http-equiv=\"x-pjax-js-version\" content=\"b5f64b6010abc4638bf78eb49260051db4eef290eca29d10d5322fbfcc3c5335\" data-turbo-track=\"reload\">\\n\\n  <meta name=\"turbo-cache-control\" content=\"no-preview\" data-turbo-transient=\"\">\\n\\n\\n\\n      <link rel=\"canonical\" href=\"https://github.com/topics\" data-turbo-transient>\\n\\n\\n    <meta name=\"turbo-body-classes\" content=\"logged-out env-production page-responsive\">\\n\\n\\n  <meta name=\"browser-stats-url\" content=\"https://api.github.com/_private/browser/stats\">\\n\\n  <meta name=\"browser-errors-url\" content=\"https://api.github.com/_private/browser/errors\">\\n\\n  <meta name=\"release\" content=\"3b3752985ecd9ff6719983c86602adbd3b38c97e\">\\n\\n  <link rel=\"mask-icon\" href=\"https://github.githubassets.com/assets/pinned-octocat-093da3e6fa40.svg\" color=\"#000000\">\\n  <link rel=\"alternate icon\" class=\"js-site-favicon\" type=\"image/png\" href=\"https://github.githubassets.com/favicons/favicon.png\">\\n  <link rel=\"icon\" class=\"js-site-favicon\" type=\"image/svg+xml\" href=\"https://github.githubassets.com/favicons/favicon.svg\" data-base-href=\"https://github.githubassets.com/favicons/favicon\">\\n\\n<meta name=\"theme-color\" content=\"#1e2327\">\\n<meta name=\"color-scheme\" content=\"light dark\" />\\n\\n\\n  <link rel=\"manifest\" href=\"/manifest.json\" crossOrigin=\"use-credentials\">\\n\\n  </head>\\n\\n  <body class=\"logged-out env-production page-responsive\" style=\"word-wrap: break-word;\">\\n    <div data-turbo-body class=\"logged-out env-production page-responsive\" style=\"word-wrap: break-word;\">\\n      \\n\\n\\n\\n    <div class=\"position-relative header-wrapper js-header-wrapper \">\\n      <a href=\"#start-of-content\" data-skip-target-assigned=\"false\" class=\"px-2 py-4 color-bg-accent-emphasis color-fg-on-emphasis show-on-focus js-skip-to-content\">Skip to content</a>\\n\\n      <span data-view-component=\"true\" class=\"progress-pjax-loader Progress position-fixed width-full\">\\n    <span style=\"width: 0%;\" data-view-component=\"true\" class=\"Progress-item progress-pjax-loader-bar left-0 top-0 color-bg-accent-emphasis\"></span>\\n</span>      \\n      \\n      <script crossorigin=\"anonymous\" defer=\"defer\" type=\"application/javascript\" src=\"https://github.githubassets.com/assets/primer-react-52d10e69adbe.js\"></script>\\n<script crossorigin=\"anonymous\" defer=\"defer\" type=\"application/javascript\" src=\"https://github.githubassets.com/assets/react-core-c0aef4dbfff7.js\"></script>\\n<script crossorigin=\"anonymous\" defer=\"defer\" type=\"application/javascript\" src=\"https://github.githubassets.com/assets/react-lib-80430c87778a.js\"></script>\\n<script crossorigin=\"anonymous\" defer=\"defer\" type=\"application/javascript\" src=\"https://github.githubassets.com/assets/octicons-react-cf2f2ab8dab4.js\"></script>\\n<script crossorigin=\"anonymous\" defer=\"defer\" type=\"application/javascript\" src=\"https://github.githubassets.com/assets/vendors-node_modules_emotion_is-prop-valid_dist_emotion-is-prop-valid_esm_js-node_modules_emo-b1c483-30bc59af3a76.js\"></script>\\n<script crossorigin=\"anonymous\" defer=\"defer\" type=\"application/javascript\" src=\"https://github.githubassets.com/assets/vendors-node_modules_github_catalyst_lib_index_js-node_modules_primer_live-region-element_dis-b2aea6-22827f205bdc.js\"></script>\\n<script crossorigin=\"anonymous\" defer=\"defer\" type=\"application/javascript\" src=\"https://github.githubassets.com/assets/ui_packages_ui-commands_ui-commands_ts-1f671be00065.js\"></script>\\n<script crossorigin=\"anonymous\" defer=\"defer\" type=\"application/javascript\" src=\"https://github.githubassets.com/assets/keyboard-shortcuts-dialog-8cffd5fd8d88.js\"></script>\\n<link crossorigin=\"anonymous\" media=\"all\" rel=\"stylesheet\" href=\"https://github.githubassets.com/assets/primer-react.b5e8a54636271e908e27.module.css\" />\\n<link crossorigin=\"anonymous\" media=\"all\" rel=\"stylesheet\" href=\"https://github.githubassets.com/assets/keyboard-shortcuts-dialog.47de85e2c17af43cefd5.module.css\" />\\n\\n<react-partial\\n  partial-name=\"keyboard-shortcuts-dialog\"\\n  data-ssr=\"false\"\\n  data-attempted-ssr=\"false\"\\n>\\n  \\n  <script type=\"application/json\" data-target=\"react-partial.embeddedData\">{\"props\":{\"docsUrl\":\"https://docs.github.com/get-started/accessibility/keyboard-shortcuts\"}}</script>\\n  <div data-target=\"react-partial.reactRoot\"></div>\\n</react-partial>\\n\\n\\n\\n\\n      \\n\\n          \\n\\n              \\n<script crossorigin=\"anonymous\" defer=\"defer\" type=\"application/javascript\" src=\"https://github.githubassets.com/assets/vendors-node_modules_github_remote-form_dist_index_js-node_modules_delegated-events_dist_inde-94fd67-e789af5a4655.js\"></script>\\n<script crossorigin=\"anonymous\" defer=\"defer\" type=\"application/javascript\" src=\"https://github.githubassets.com/assets/sessions-d044b7c46be3.js\"></script>\\n<header class=\"HeaderMktg header-logged-out js-details-container js-header Details f4 py-3\" role=\"banner\" data-is-top=\"true\" data-color-mode=light data-light-theme=light data-dark-theme=dark>\\n  <h2 class=\"sr-only\">Navigation Menu</h2>\\n\\n  <button type=\"button\" class=\"HeaderMktg-backdrop d-lg-none border-0 position-fixed top-0 left-0 width-full height-full js-details-target\" aria-label=\"Toggle navigation\">\\n    <span class=\"d-none\">Toggle navigation</span>\\n  </button>\\n\\n  <div class=\"d-flex flex-column flex-lg-row flex-items-center px-3 px-md-4 px-lg-5 height-full position-relative z-1\">\\n    <div class=\"d-flex flex-justify-between flex-items-center width-full width-lg-auto\">\\n      <div class=\"flex-1\">\\n        <button aria-label=\"Toggle navigation\" aria-expanded=\"false\" type=\"button\" data-view-component=\"true\" class=\"js-details-target js-nav-padding-recalculate js-header-menu-toggle Button--link Button--medium Button d-lg-none color-fg-inherit p-1\">  <span class=\"Button-content\">\\n    <span class=\"Button-label\"><div class=\"HeaderMenu-toggle-bar rounded my-1\"></div>\\n            <div class=\"HeaderMenu-toggle-bar rounded my-1\"></div>\\n            <div class=\"HeaderMenu-toggle-bar rounded my-1\"></div></span>\\n  </span>\\n</button>\\n      </div>\\n\\n      <a class=\"mr-lg-3 color-fg-inherit flex-order-2 js-prevent-focus-on-mobile-nav\"\\n        href=\"/\"\\n        aria-label=\"Homepage\"\\n        data-analytics-event=\"{&quot;category&quot;:&quot;Marketing nav&quot;,&quot;action&quot;:&quot;click to go to homepage&quot;,&quot;label&quot;:&quot;ref_page:Marketing;ref_cta:Logomark;ref_loc:Header&quot;}\">\\n        <svg height=\"32\" aria-hidden=\"true\" viewBox=\"0 0 24 24\" version=\"1.1\" width=\"32\" data-view-component=\"true\" class=\"octicon octicon-mark-github\">\\n    <path d=\"M12 1C5.9225 1 1 5.9225 1 12C1 16.8675 4.14875 20.9787 8.52125 22.4362C9.07125 22.5325 9.2775 22.2025 9.2775 21.9137C9.2775 21.6525 9.26375 20.7862 9.26375 19.865C6.5 20.3737 5.785 19.1912 5.565 18.5725C5.44125 18.2562 4.905 17.28 4.4375 17.0187C4.0525 16.8125 3.5025 16.3037 4.42375 16.29C5.29 16.2762 5.90875 17.0875 6.115 17.4175C7.105 19.0812 8.68625 18.6137 9.31875 18.325C9.415 17.61 9.70375 17.1287 10.02 16.8537C7.5725 16.5787 5.015 15.63 5.015 11.4225C5.015 10.2262 5.44125 9.23625 6.1425 8.46625C6.0325 8.19125 5.6475 7.06375 6.2525 5.55125C6.2525 5.55125 7.17375 5.2625 9.2775 6.67875C10.1575 6.43125 11.0925 6.3075 12.0275 6.3075C12.9625 6.3075 13.8975 6.43125 14.7775 6.67875C16.8813 5.24875 17.8025 5.55125 17.8025 5.55125C18.4075 7.06375 18.0225 8.19125 17.9125 8.46625C18.6138 9.23625 19.04 10.2125 19.04 11.4225C19.04 15.6437 16.4688 16.5787 14.0213 16.8537C14.42 17.1975 14.7638 17.8575 14.7638 18.8887C14.7638 20.36 14.75 21.5425 14.75 21.9137C14.75 22.2025 14.9563 22.5462 15.5063 22.4362C19.8513 20.9787 23 16.8537 23 12C23 5.9225 18.0775 1 12 1Z\"></path>\\n</svg>\\n      </a>\\n\\n      <div class=\"d-flex flex-1 flex-order-2 text-right d-lg-none gap-2 flex-justify-end\">\\n          <a\\n            href=\"/login?return_to=https%3A%2F%2Fgithub.com%2Ftopics\"\\n            class=\"HeaderMenu-link HeaderMenu-button d-inline-flex f5 no-underline border color-border-default rounded-2 px-2 py-1 color-fg-inherit js-prevent-focus-on-mobile-nav\"\\n            data-hydro-click=\"{&quot;event_type&quot;:&quot;authentication.click&quot;,&quot;payload&quot;:{&quot;location_in_page&quot;:&quot;site header menu&quot;,&quot;repository_id&quot;:null,&quot;auth_type&quot;:&quot;SIGN_UP&quot;,&quot;originating_url&quot;:&quot;https://github.com/topics&quot;,&quot;user_id&quot;:null}}\" data-hydro-click-hmac=\"be24ac4990e8cac9a74ee7032b910f8f38a1cea9154e0dbbe2347ce0b38a6adc\"\\n            data-analytics-event=\"{&quot;category&quot;:&quot;Marketing nav&quot;,&quot;action&quot;:&quot;click to Sign in&quot;,&quot;label&quot;:&quot;ref_page:Marketing;ref_cta:Sign in;ref_loc:Header&quot;}\"\\n          >\\n            Sign in\\n          </a>\\n              <div class=\"AppHeader-appearanceSettings\">\\n    <react-partial-anchor>\\n      <button data-target=\"react-partial-anchor.anchor\" id=\"icon-button-8b03ff3b-3847-482c-a706-c6d4abd697d8\" aria-labelledby=\"tooltip-78ddcc0b-7be5-400e-9b63-3769367fe54a\" type=\"button\" disabled=\"disabled\" data-view-component=\"true\" class=\"Button Button--iconOnly Button--invisible Button--medium AppHeader-button HeaderMenu-link border cursor-wait\">  <svg aria-hidden=\"true\" height=\"16\" viewBox=\"0 0 16 16\" version=\"1.1\" width=\"16\" data-view-component=\"true\" class=\"octicon octicon-sliders Button-visual\">\\n    <path d=\"M15 2.75a.75.75 0 0 1-.75.75h-4a.75.75 0 0 1 0-1.5h4a.75.75 0 0 1 .75.75Zm-8.5.75v1.25a.75.75 0 0 0 1.5 0v-4a.75.75 0 0 0-1.5 0V2H1.75a.75.75 0 0 0 0 1.5H6.5Zm1.25 5.25a.75.75 0 0 0 0-1.5h-6a.75.75 0 0 0 0 1.5h6ZM15 8a.75.75 0 0 1-.75.75H11.5V10a.75.75 0 1 1-1.5 0V6a.75.75 0 0 1 1.5 0v1.25h2.75A.75.75 0 0 1 15 8Zm-9 5.25v-2a.75.75 0 0 0-1.5 0v1.25H1.75a.75.75 0 0 0 0 1.5H4.5v1.25a.75.75 0 0 0 1.5 0v-2Zm9 0a.75.75 0 0 1-.75.75h-6a.75.75 0 0 1 0-1.5h6a.75.75 0 0 1 .75.75Z\"></path>\\n</svg>\\n</button><tool-tip id=\"tooltip-78ddcc0b-7be5-400e-9b63-3769367fe54a\" for=\"icon-button-8b03ff3b-3847-482c-a706-c6d4abd697d8\" popover=\"manual\" data-direction=\"s\" data-type=\"label\" data-view-component=\"true\" class=\"sr-only position-absolute\">Appearance settings</tool-tip>\\n\\n      <template data-target=\"react-partial-anchor.template\">\\n        <script crossorigin=\"anonymous\" defer=\"defer\" type=\"application/javascript\" src=\"https://github.githubassets.com/assets/ui_packages_document-metadata_document-metadata_ts-ui_packages_promise-with-resolvers-polyfil-40d47c-aa9dcb76e0e6.js\"></script>\\n<script crossorigin=\"anonymous\" defer=\"defer\" type=\"application/javascript\" src=\"https://github.githubassets.com/assets/appearance-settings-f44e672f7bc3.js\"></script>\\n<link crossorigin=\"anonymous\" media=\"all\" rel=\"stylesheet\" href=\"https://github.githubassets.com/assets/primer-react.b5e8a54636271e908e27.module.css\" />\\n<link crossorigin=\"anonymous\" media=\"all\" rel=\"stylesheet\" href=\"https://github.githubassets.com/assets/appearance-settings.4e1ca273f504ba849f8c.module.css\" />\\n\\n<react-partial\\n  partial-name=\"appearance-settings\"\\n  data-ssr=\"false\"\\n  data-attempted-ssr=\"false\"\\n>\\n  \\n  <script type=\"application/json\" data-target=\"react-partial.embeddedData\">{\"props\":{}}</script>\\n  <div data-target=\"react-partial.reactRoot\"></div>\\n</react-partial>\\n\\n      </template>\\n    </react-partial-anchor>\\n  </div>\\n\\n      </div>\\n    </div>\\n\\n\\n    <div class=\"HeaderMenu js-header-menu height-fit position-lg-relative d-lg-flex flex-column flex-auto top-0\">\\n      <div class=\"HeaderMenu-wrapper d-flex flex-column flex-self-start flex-lg-row flex-auto rounded rounded-lg-0\">\\n          <nav class=\"HeaderMenu-nav\" aria-label=\"Global\">\\n            <ul class=\"d-lg-flex list-style-none\">\\n\\n\\n                <li class=\"HeaderMenu-item position-relative flex-wrap flex-justify-between flex-items-center d-block d-lg-flex flex-lg-nowrap flex-lg-items-center js-details-container js-header-menu-item\">\\n      <button type=\"button\" class=\"HeaderMenu-link border-0 width-full width-lg-auto px-0 px-lg-2 py-lg-2 no-wrap d-flex flex-items-center flex-justify-between js-details-target\" aria-expanded=\"false\">\\n        Product\\n        <svg opacity=\"0.5\" aria-hidden=\"true\" height=\"16\" viewBox=\"0 0 16 16\" version=\"1.1\" width=\"16\" data-view-component=\"true\" class=\"octicon octicon-chevron-down HeaderMenu-icon ml-1\">\\n    <path d=\"M12.78 5.22a.749.749 0 0 1 0 1.06l-4.25 4.25a.749.749 0 0 1-1.06 0L3.22 6.28a.749.749 0 1 1 1.06-1.06L8 8.939l3.72-3.719a.749.749 0 0 1 1.06 0Z\"></path>\\n</svg>\\n      </button>\\n\\n      <div class=\"HeaderMenu-dropdown dropdown-menu rounded m-0 p-0 pt-2 pt-lg-4 position-relative position-lg-absolute left-0 left-lg-n3 pb-2 pb-lg-4 d-lg-flex flex-wrap dropdown-menu-wide\">\\n          <div class=\"HeaderMenu-column px-lg-4 border-lg-right mb-4 mb-lg-0 pr-lg-7\">\\n              <div class=\"border-bottom pb-3 pb-lg-0 border-lg-bottom-0\">\\n\\n                <ul class=\"list-style-none f5\" >\\n                    <li>\\n  <a class=\"HeaderMenu-dropdown-link d-block no-underline position-relative py-2 Link--secondary d-flex flex-items-center Link--has-description pb-lg-3\" data-analytics-event=\"{&quot;location&quot;:&quot;navbar&quot;,&quot;action&quot;:&quot;github_copilot&quot;,&quot;context&quot;:&quot;product&quot;,&quot;tag&quot;:&quot;link&quot;,&quot;label&quot;:&quot;github_copilot_link_product_navbar&quot;}\" href=\"https://github.com/features/copilot\">\\n      <svg aria-hidden=\"true\" height=\"24\" viewBox=\"0 0 24 24\" version=\"1.1\" width=\"24\" data-view-component=\"true\" class=\"octicon octicon-copilot color-fg-subtle mr-3\">\\n    <path d=\"M23.922 16.992c-.861 1.495-5.859 5.023-11.922 5.023-6.063 0-11.061-3.528-11.922-5.023A.641.641 0 0 1 0 16.736v-2.869a.841.841 0 0 1 .053-.22c.372-.935 1.347-2.292 2.605-2.656.167-.429.414-1.055.644-1.517a10.195 10.195 0 0 1-.052-1.086c0-1.331.282-2.499 1.132-3.368.397-.406.89-.717 1.474-.952 1.399-1.136 3.392-2.093 6.122-2.093 2.731 0 4.767.957 6.166 2.093.584.235 1.077.546 1.474.952.85.869 1.132 2.037 1.132 3.368 0 .368-.014.733-.052 1.086.23.462.477 1.088.644 1.517 1.258.364 2.233 1.721 2.605 2.656a.832.832 0 0 1 .053.22v2.869a.641.641 0 0 1-.078.256ZM12.172 11h-.344a4.323 4.323 0 0 1-.355.508C10.703 12.455 9.555 13 7.965 13c-1.725 0-2.989-.359-3.782-1.259a2.005 2.005 0 0 1-.085-.104L4 11.741v6.585c1.435.779 4.514 2.179 8 2.179 3.486 0 6.565-1.4 8-2.179v-6.585l-.098-.104s-.033.045-.085.104c-.793.9-2.057 1.259-3.782 1.259-1.59 0-2.738-.545-3.508-1.492a4.323 4.323 0 0 1-.355-.508h-.016.016Zm.641-2.935c.136 1.057.403 1.913.878 2.497.442.544 1.134.938 2.344.938 1.573 0 2.292-.337 2.657-.751.384-.435.558-1.15.558-2.361 0-1.14-.243-1.847-.705-2.319-.477-.488-1.319-.862-2.824-1.025-1.487-.161-2.192.138-2.533.529-.269.307-.437.808-.438 1.578v.021c0 .265.021.562.063.893Zm-1.626 0c.042-.331.063-.628.063-.894v-.02c-.001-.77-.169-1.271-.438-1.578-.341-.391-1.046-.69-2.533-.529-1.505.163-2.347.537-2.824 1.025-.462.472-.705 1.179-.705 2.319 0 1.211.175 1.926.558 2.361.365.414 1.084.751 2.657.751 1.21 0 1.902-.394 2.344-.938.475-.584.742-1.44.878-2.497Z\"></path><path d=\"M14.5 14.25a1 1 0 0 1 1 1v2a1 1 0 0 1-2 0v-2a1 1 0 0 1 1-1Zm-5 0a1 1 0 0 1 1 1v2a1 1 0 0 1-2 0v-2a1 1 0 0 1 1-1Z\"></path>\\n</svg>\\n      <div>\\n          <div class=\"color-fg-default h4\">\\n            GitHub Copilot\\n          </div>\\n        Write better code with AI\\n      </div>\\n\\n    \\n</a></li>\\n\\n                    <li>\\n  <a class=\"HeaderMenu-dropdown-link d-block no-underline position-relative py-2 Link--secondary d-flex flex-items-center Link--has-description pb-lg-3\" data-analytics-event=\"{&quot;location&quot;:&quot;navbar&quot;,&quot;action&quot;:&quot;github_models&quot;,&quot;context&quot;:&quot;product&quot;,&quot;tag&quot;:&quot;link&quot;,&quot;label&quot;:&quot;github_models_link_product_navbar&quot;}\" href=\"https://github.com/features/models\">\\n      <svg aria-hidden=\"true\" height=\"24\" viewBox=\"0 0 24 24\" version=\"1.1\" width=\"24\" data-view-component=\"true\" class=\"octicon octicon-ai-model color-fg-subtle mr-3\">\\n    <path d=\"M19.375 8.5a3.25 3.25 0 1 1-3.163 4h-3a3.252 3.252 0 0 1-4.443 2.509L7.214 17.76a3.25 3.25 0 1 1-1.342-.674l1.672-2.957A3.238 3.238 0 0 1 6.75 12c0-.907.371-1.727.97-2.316L6.117 6.846A3.253 3.253 0 0 1 1.875 3.75a3.25 3.25 0 1 1 5.526 2.32l1.603 2.836A3.25 3.25 0 0 1 13.093 11h3.119a3.252 3.252 0 0 1 3.163-2.5ZM10 10.25a1.75 1.75 0 1 0-.001 3.499A1.75 1.75 0 0 0 10 10.25ZM5.125 2a1.75 1.75 0 1 0 0 3.5 1.75 1.75 0 0 0 0-3.5Zm12.5 9.75a1.75 1.75 0 1 0 3.5 0 1.75 1.75 0 0 0-3.5 0Zm-14.25 8.5a1.75 1.75 0 1 0 3.501-.001 1.75 1.75 0 0 0-3.501.001Z\"></path>\\n</svg>\\n      <div>\\n          <div class=\"color-fg-default h4\">\\n            GitHub Models\\n              <span class=\"HeaderMenu-label\">\\n                New\\n              </span>\\n          </div>\\n        Manage and compare prompts\\n      </div>\\n\\n    \\n</a></li>\\n\\n                    <li>\\n  <a class=\"HeaderMenu-dropdown-link d-block no-underline position-relative py-2 Link--secondary d-flex flex-items-center Link--has-description pb-lg-3\" data-analytics-event=\"{&quot;location&quot;:&quot;navbar&quot;,&quot;action&quot;:&quot;github_advanced_security&quot;,&quot;context&quot;:&quot;product&quot;,&quot;tag&quot;:&quot;link&quot;,&quot;label&quot;:&quot;github_advanced_security_link_product_navbar&quot;}\" href=\"https://github.com/security/advanced-security\">\\n      <svg aria-hidden=\"true\" height=\"24\" viewBox=\"0 0 24 24\" version=\"1.1\" width=\"24\" data-view-component=\"true\" class=\"octicon octicon-shield-check color-fg-subtle mr-3\">\\n    <path d=\"M16.53 9.78a.75.75 0 0 0-1.06-1.06L11 13.19l-1.97-1.97a.75.75 0 0 0-1.06 1.06l2.5 2.5a.75.75 0 0 0 1.06 0l5-5Z\"></path><path d=\"m12.54.637 8.25 2.675A1.75 1.75 0 0 1 22 4.976V10c0 6.19-3.771 10.704-9.401 12.83a1.704 1.704 0 0 1-1.198 0C5.77 20.705 2 16.19 2 10V4.976c0-.758.489-1.43 1.21-1.664L11.46.637a1.748 1.748 0 0 1 1.08 0Zm-.617 1.426-8.25 2.676a.249.249 0 0 0-.173.237V10c0 5.46 3.28 9.483 8.43 11.426a.199.199 0 0 0 .14 0C17.22 19.483 20.5 15.461 20.5 10V4.976a.25.25 0 0 0-.173-.237l-8.25-2.676a.253.253 0 0 0-.154 0Z\"></path>\\n</svg>\\n      <div>\\n          <div class=\"color-fg-default h4\">\\n            GitHub Advanced Security\\n          </div>\\n        Find and fix vulnerabilities\\n      </div>\\n\\n    \\n</a></li>\\n\\n                    <li>\\n  <a class=\"HeaderMenu-dropdown-link d-block no-underline position-relative py-2 Link--secondary d-flex flex-items-center Link--has-description pb-lg-3\" data-analytics-event=\"{&quot;location&quot;:&quot;navbar&quot;,&quot;action&quot;:&quot;actions&quot;,&quot;context&quot;:&quot;product&quot;,&quot;tag&quot;:&quot;link&quot;,&quot;label&quot;:&quot;actions_link_product_navbar&quot;}\" href=\"https://github.com/features/actions\">\\n      <svg aria-hidden=\"true\" height=\"24\" viewBox=\"0 0 24 24\" version=\"1.1\" width=\"24\" data-view-component=\"true\" class=\"octicon octicon-workflow color-fg-subtle mr-3\">\\n    <path d=\"M1 3a2 2 0 0 1 2-2h6.5a2 2 0 0 1 2 2v6.5a2 2 0 0 1-2 2H7v4.063C7 16.355 7.644 17 8.438 17H12.5v-2.5a2 2 0 0 1 2-2H21a2 2 0 0 1 2 2V21a2 2 0 0 1-2 2h-6.5a2 2 0 0 1-2-2v-2.5H8.437A2.939 2.939 0 0 1 5.5 15.562V11.5H3a2 2 0 0 1-2-2Zm2-.5a.5.5 0 0 0-.5.5v6.5a.5.5 0 0 0 .5.5h6.5a.5.5 0 0 0 .5-.5V3a.5.5 0 0 0-.5-.5ZM14.5 14a.5.5 0 0 0-.5.5V21a.5.5 0 0 0 .5.5H21a.5.5 0 0 0 .5-.5v-6.5a.5.5 0 0 0-.5-.5Z\"></path>\\n</svg>\\n      <div>\\n          <div class=\"color-fg-default h4\">\\n            Actions\\n          </div>\\n        Automate any workflow\\n      </div>\\n\\n    \\n</a></li>\\n\\n                    <li>\\n  <a class=\"HeaderMenu-dropdown-link d-block no-underline position-relative py-2 Link--secondary d-flex flex-items-center Link--has-description\" data-analytics-event=\"{&quot;location&quot;:&quot;navbar&quot;,&quot;action&quot;:&quot;codespaces&quot;,&quot;context&quot;:&quot;product&quot;,&quot;tag&quot;:&quot;link&quot;,&quot;label&quot;:&quot;codespaces_link_product_navbar&quot;}\" href=\"https://github.com/features/codespaces\">\\n      <svg aria-hidden=\"true\" height=\"24\" viewBox=\"0 0 24 24\" version=\"1.1\" width=\"24\" data-view-component=\"true\" class=\"octicon octicon-codespaces color-fg-subtle mr-3\">\\n    <path d=\"M3.5 3.75C3.5 2.784 4.284 2 5.25 2h13.5c.966 0 1.75.784 1.75 1.75v7.5A1.75 1.75 0 0 1 18.75 13H5.25a1.75 1.75 0 0 1-1.75-1.75Zm-2 12c0-.966.784-1.75 1.75-1.75h17.5c.966 0 1.75.784 1.75 1.75v4a1.75 1.75 0 0 1-1.75 1.75H3.25a1.75 1.75 0 0 1-1.75-1.75ZM5.25 3.5a.25.25 0 0 0-.25.25v7.5c0 .138.112.25.25.25h13.5a.25.25 0 0 0 .25-.25v-7.5a.25.25 0 0 0-.25-.25Zm-2 12a.25.25 0 0 0-.25.25v4c0 .138.112.25.25.25h17.5a.25.25 0 0 0 .25-.25v-4a.25.25 0 0 0-.25-.25Z\"></path><path d=\"M10 17.75a.75.75 0 0 1 .75-.75h6.5a.75.75 0 0 1 0 1.5h-6.5a.75.75 0 0 1-.75-.75Zm-4 0a.75.75 0 0 1 .75-.75h.5a.75.75 0 0 1 0 1.5h-.5a.75.75 0 0 1-.75-.75Z\"></path>\\n</svg>\\n      <div>\\n          <div class=\"color-fg-default h4\">\\n            Codespaces\\n          </div>\\n        Instant dev environments\\n      </div>\\n\\n    \\n</a></li>\\n\\n                </ul>\\n              </div>\\n          </div>\\n          <div class=\"HeaderMenu-column px-lg-4 border-lg-right mb-4 mb-lg-0 pr-lg-7\">\\n              <div class=\"border-bottom pb-3 pb-lg-0 border-lg-bottom-0\">\\n\\n                <ul class=\"list-style-none f5\" >\\n                    <li>\\n  <a class=\"HeaderMenu-dropdown-link d-block no-underline position-relative py-2 Link--secondary d-flex flex-items-center Link--has-description pb-lg-3\" data-analytics-event=\"{&quot;location&quot;:&quot;navbar&quot;,&quot;action&quot;:&quot;issues&quot;,&quot;context&quot;:&quot;product&quot;,&quot;tag&quot;:&quot;link&quot;,&quot;label&quot;:&quot;issues_link_product_navbar&quot;}\" href=\"https://github.com/features/issues\">\\n      <svg aria-hidden=\"true\" height=\"24\" viewBox=\"0 0 24 24\" version=\"1.1\" width=\"24\" data-view-component=\"true\" class=\"octicon octicon-issue-opened color-fg-subtle mr-3\">\\n    <path d=\"M12 1c6.075 0 11 4.925 11 11s-4.925 11-11 11S1 18.075 1 12 5.925 1 12 1ZM2.5 12a9.5 9.5 0 0 0 9.5 9.5 9.5 9.5 0 0 0 9.5-9.5A9.5 9.5 0 0 0 12 2.5 9.5 9.5 0 0 0 2.5 12Zm9.5 2a2 2 0 1 1-.001-3.999A2 2 0 0 1 12 14Z\"></path>\\n</svg>\\n      <div>\\n          <div class=\"color-fg-default h4\">\\n            Issues\\n          </div>\\n        Plan and track work\\n      </div>\\n\\n    \\n</a></li>\\n\\n                    <li>\\n  <a class=\"HeaderMenu-dropdown-link d-block no-underline position-relative py-2 Link--secondary d-flex flex-items-center Link--has-description pb-lg-3\" data-analytics-event=\"{&quot;location&quot;:&quot;navbar&quot;,&quot;action&quot;:&quot;code_review&quot;,&quot;context&quot;:&quot;product&quot;,&quot;tag&quot;:&quot;link&quot;,&quot;label&quot;:&quot;code_review_link_product_navbar&quot;}\" href=\"https://github.com/features/code-review\">\\n      <svg aria-hidden=\"true\" height=\"24\" viewBox=\"0 0 24 24\" version=\"1.1\" width=\"24\" data-view-component=\"true\" class=\"octicon octicon-code-review color-fg-subtle mr-3\">\\n    <path d=\"M10.3 6.74a.75.75 0 0 1-.04 1.06l-2.908 2.7 2.908 2.7a.75.75 0 1 1-1.02 1.1l-3.5-3.25a.75.75 0 0 1 0-1.1l3.5-3.25a.75.75 0 0 1 1.06.04Zm3.44 1.06a.75.75 0 1 1 1.02-1.1l3.5 3.25a.75.75 0 0 1 0 1.1l-3.5 3.25a.75.75 0 1 1-1.02-1.1l2.908-2.7-2.908-2.7Z\"></path><path d=\"M1.5 4.25c0-.966.784-1.75 1.75-1.75h17.5c.966 0 1.75.784 1.75 1.75v12.5a1.75 1.75 0 0 1-1.75 1.75h-9.69l-3.573 3.573A1.458 1.458 0 0 1 5 21.043V18.5H3.25a1.75 1.75 0 0 1-1.75-1.75ZM3.25 4a.25.25 0 0 0-.25.25v12.5c0 .138.112.25.25.25h2.5a.75.75 0 0 1 .75.75v3.19l3.72-3.72a.749.749 0 0 1 .53-.22h10a.25.25 0 0 0 .25-.25V4.25a.25.25 0 0 0-.25-.25Z\"></path>\\n</svg>\\n      <div>\\n          <div class=\"color-fg-default h4\">\\n            Code Review\\n          </div>\\n        Manage code changes\\n      </div>\\n\\n    \\n</a></li>\\n\\n                    <li>\\n  <a class=\"HeaderMenu-dropdown-link d-block no-underline position-relative py-2 Link--secondary d-flex flex-items-center Link--has-description pb-lg-3\" data-analytics-event=\"{&quot;location&quot;:&quot;navbar&quot;,&quot;action&quot;:&quot;discussions&quot;,&quot;context&quot;:&quot;product&quot;,&quot;tag&quot;:&quot;link&quot;,&quot;label&quot;:&quot;discussions_link_product_navbar&quot;}\" href=\"https://github.com/features/discussions\">\\n      <svg aria-hidden=\"true\" height=\"24\" viewBox=\"0 0 24 24\" version=\"1.1\" width=\"24\" data-view-component=\"true\" class=\"octicon octicon-comment-discussion color-fg-subtle mr-3\">\\n    <path d=\"M1.75 1h12.5c.966 0 1.75.784 1.75 1.75v9.5A1.75 1.75 0 0 1 14.25 14H8.061l-2.574 2.573A1.458 1.458 0 0 1 3 15.543V14H1.75A1.75 1.75 0 0 1 0 12.25v-9.5C0 1.784.784 1 1.75 1ZM1.5 2.75v9.5c0 .138.112.25.25.25h2a.75.75 0 0 1 .75.75v2.19l2.72-2.72a.749.749 0 0 1 .53-.22h6.5a.25.25 0 0 0 .25-.25v-9.5a.25.25 0 0 0-.25-.25H1.75a.25.25 0 0 0-.25.25Z\"></path><path d=\"M22.5 8.75a.25.25 0 0 0-.25-.25h-3.5a.75.75 0 0 1 0-1.5h3.5c.966 0 1.75.784 1.75 1.75v9.5A1.75 1.75 0 0 1 22.25 20H21v1.543a1.457 1.457 0 0 1-2.487 1.03L15.939 20H10.75A1.75 1.75 0 0 1 9 18.25v-1.465a.75.75 0 0 1 1.5 0v1.465c0 .138.112.25.25.25h5.5a.75.75 0 0 1 .53.22l2.72 2.72v-2.19a.75.75 0 0 1 .75-.75h2a.25.25 0 0 0 .25-.25v-9.5Z\"></path>\\n</svg>\\n      <div>\\n          <div class=\"color-fg-default h4\">\\n            Discussions\\n          </div>\\n        Collaborate outside of code\\n      </div>\\n\\n    \\n</a></li>\\n\\n                    <li>\\n  <a class=\"HeaderMenu-dropdown-link d-block no-underline position-relative py-2 Link--secondary d-flex flex-items-center Link--has-description\" data-analytics-event=\"{&quot;location&quot;:&quot;navbar&quot;,&quot;action&quot;:&quot;code_search&quot;,&quot;context&quot;:&quot;product&quot;,&quot;tag&quot;:&quot;link&quot;,&quot;label&quot;:&quot;code_search_link_product_navbar&quot;}\" href=\"https://github.com/features/code-search\">\\n      <svg aria-hidden=\"true\" height=\"24\" viewBox=\"0 0 24 24\" version=\"1.1\" width=\"24\" data-view-component=\"true\" class=\"octicon octicon-code-square color-fg-subtle mr-3\">\\n    <path d=\"M10.3 8.24a.75.75 0 0 1-.04 1.06L7.352 12l2.908 2.7a.75.75 0 1 1-1.02 1.1l-3.5-3.25a.75.75 0 0 1 0-1.1l3.5-3.25a.75.75 0 0 1 1.06.04Zm3.44 1.06a.75.75 0 1 1 1.02-1.1l3.5 3.25a.75.75 0 0 1 0 1.1l-3.5 3.25a.75.75 0 1 1-1.02-1.1l2.908-2.7-2.908-2.7Z\"></path><path d=\"M2 3.75C2 2.784 2.784 2 3.75 2h16.5c.966 0 1.75.784 1.75 1.75v16.5A1.75 1.75 0 0 1 20.25 22H3.75A1.75 1.75 0 0 1 2 20.25Zm1.75-.25a.25.25 0 0 0-.25.25v16.5c0 .138.112.25.25.25h16.5a.25.25 0 0 0 .25-.25V3.75a.25.25 0 0 0-.25-.25Z\"></path>\\n</svg>\\n      <div>\\n          <div class=\"color-fg-default h4\">\\n            Code Search\\n          </div>\\n        Find more, search less\\n      </div>\\n\\n    \\n</a></li>\\n\\n                </ul>\\n              </div>\\n          </div>\\n          <div class=\"HeaderMenu-column px-lg-4\">\\n              <div class=\"border-bottom pb-3 pb-lg-0 border-lg-bottom-0 border-bottom-0\">\\n                    <span class=\"d-block h4 color-fg-default my-1\" id=\"product-explore-heading\">Explore</span>\\n\\n                <ul class=\"list-style-none f5\" aria-labelledby=\"product-explore-heading\">\\n                    <li>\\n  <a class=\"HeaderMenu-dropdown-link d-block no-underline position-relative py-2 Link--secondary\" data-analytics-event=\"{&quot;location&quot;:&quot;navbar&quot;,&quot;action&quot;:&quot;why_github&quot;,&quot;context&quot;:&quot;product&quot;,&quot;tag&quot;:&quot;link&quot;,&quot;label&quot;:&quot;why_github_link_product_navbar&quot;}\" href=\"https://github.com/why-github\">\\n      Why GitHub\\n\\n    \\n</a></li>\\n\\n                    <li>\\n  <a class=\"HeaderMenu-dropdown-link d-block no-underline position-relative py-2 Link--secondary\" data-analytics-event=\"{&quot;location&quot;:&quot;navbar&quot;,&quot;action&quot;:&quot;all_features&quot;,&quot;context&quot;:&quot;product&quot;,&quot;tag&quot;:&quot;link&quot;,&quot;label&quot;:&quot;all_features_link_product_navbar&quot;}\" href=\"https://github.com/features\">\\n      All features\\n\\n    \\n</a></li>\\n\\n                    <li>\\n  <a class=\"HeaderMenu-dropdown-link d-block no-underline position-relative py-2 Link--secondary Link--external\" target=\"_blank\" data-analytics-event=\"{&quot;location&quot;:&quot;navbar&quot;,&quot;action&quot;:&quot;documentation&quot;,&quot;context&quot;:&quot;product&quot;,&quot;tag&quot;:&quot;link&quot;,&quot;label&quot;:&quot;documentation_link_product_navbar&quot;}\" href=\"https://docs.github.com\">\\n      Documentation\\n\\n    <svg aria-hidden=\"true\" height=\"16\" viewBox=\"0 0 16 16\" version=\"1.1\" width=\"16\" data-view-component=\"true\" class=\"octicon octicon-link-external HeaderMenu-external-icon color-fg-subtle\">\\n    <path d=\"M3.75 2h3.5a.75.75 0 0 1 0 1.5h-3.5a.25.25 0 0 0-.25.25v8.5c0 .138.112.25.25.25h8.5a.25.25 0 0 0 .25-.25v-3.5a.75.75 0 0 1 1.5 0v3.5A1.75 1.75 0 0 1 12.25 14h-8.5A1.75 1.75 0 0 1 2 12.25v-8.5C2 2.784 2.784 2 3.75 2Zm6.854-1h4.146a.25.25 0 0 1 .25.25v4.146a.25.25 0 0 1-.427.177L13.03 4.03 9.28 7.78a.751.751 0 0 1-1.042-.018.751.751 0 0 1-.018-1.042l3.75-3.75-1.543-1.543A.25.25 0 0 1 10.604 1Z\"></path>\\n</svg>\\n</a></li>\\n\\n                    <li>\\n  <a class=\"HeaderMenu-dropdown-link d-block no-underline position-relative py-2 Link--secondary Link--external\" target=\"_blank\" data-analytics-event=\"{&quot;location&quot;:&quot;navbar&quot;,&quot;action&quot;:&quot;github_skills&quot;,&quot;context&quot;:&quot;product&quot;,&quot;tag&quot;:&quot;link&quot;,&quot;label&quot;:&quot;github_skills_link_product_navbar&quot;}\" href=\"https://skills.github.com\">\\n      GitHub Skills\\n\\n    <svg aria-hidden=\"true\" height=\"16\" viewBox=\"0 0 16 16\" version=\"1.1\" width=\"16\" data-view-component=\"true\" class=\"octicon octicon-link-external HeaderMenu-external-icon color-fg-subtle\">\\n    <path d=\"M3.75 2h3.5a.75.75 0 0 1 0 1.5h-3.5a.25.25 0 0 0-.25.25v8.5c0 .138.112.25.25.25h8.5a.25.25 0 0 0 .25-.25v-3.5a.75.75 0 0 1 1.5 0v3.5A1.75 1.75 0 0 1 12.25 14h-8.5A1.75 1.75 0 0 1 2 12.25v-8.5C2 2.784 2.784 2 3.75 2Zm6.854-1h4.146a.25.25 0 0 1 .25.25v4.146a.25.25 0 0 1-.427.177L13.03 4.03 9.28 7.78a.751.751 0 0 1-1.042-.018.751.751 0 0 1-.018-1.042l3.75-3.75-1.543-1.543A.25.25 0 0 1 10.604 1Z\"></path>\\n</svg>\\n</a></li>\\n\\n                    <li>\\n  <a class=\"HeaderMenu-dropdown-link d-block no-underline position-relative py-2 Link--secondary Link--external\" target=\"_blank\" data-analytics-event=\"{&quot;location&quot;:&quot;navbar&quot;,&quot;action&quot;:&quot;blog&quot;,&quot;context&quot;:&quot;product&quot;,&quot;tag&quot;:&quot;link&quot;,&quot;label&quot;:&quot;blog_link_product_navbar&quot;}\" href=\"https://github.blog\">\\n      Blog\\n\\n    <svg aria-hidden=\"true\" height=\"16\" viewBox=\"0 0 16 16\" version=\"1.1\" width=\"16\" data-view-component=\"true\" class=\"octicon octicon-link-external HeaderMenu-external-icon color-fg-subtle\">\\n    <path d=\"M3.75 2h3.5a.75.75 0 0 1 0 1.5h-3.5a.25.25 0 0 0-.25.25v8.5c0 .138.112.25.25.25h8.5a.25.25 0 0 0 .25-.25v-3.5a.75.75 0 0 1 1.5 0v3.5A1.75 1.75 0 0 1 12.25 14h-8.5A1.75 1.75 0 0 1 2 12.25v-8.5C2 2.784 2.784 2 3.75 2Zm6.854-1h4.146a.25.25 0 0 1 .25.25v4.146a.25.25 0 0 1-.427.177L13.03 4.03 9.28 7.78a.751.751 0 0 1-1.042-.018.751.751 0 0 1-.018-1.042l3.75-3.75-1.543-1.543A.25.25 0 0 1 10.604 1Z\"></path>\\n</svg>\\n</a></li>\\n\\n                </ul>\\n              </div>\\n          </div>\\n\\n      </div>\\n</li>\\n\\n\\n                <li class=\"HeaderMenu-item position-relative flex-wrap flex-justify-between flex-items-center d-block d-lg-flex flex-lg-nowrap flex-lg-items-center js-details-container js-header-menu-item\">\\n      <button type=\"button\" class=\"HeaderMenu-link border-0 width-full width-lg-auto px-0 px-lg-2 py-lg-2 no-wrap d-flex flex-items-center flex-justify-between js-details-target\" aria-expanded=\"false\">\\n        Solutions\\n        <svg opacity=\"0.5\" aria-hidden=\"true\" height=\"16\" viewBox=\"0 0 16 16\" version=\"1.1\" width=\"16\" data-view-component=\"true\" class=\"octicon octicon-chevron-down HeaderMenu-icon ml-1\">\\n    <path d=\"M12.78 5.22a.749.749 0 0 1 0 1.06l-4.25 4.25a.749.749 0 0 1-1.06 0L3.22 6.28a.749.749 0 1 1 1.06-1.06L8 8.939l3.72-3.719a.749.749 0 0 1 1.06 0Z\"></path>\\n</svg>\\n      </button>\\n\\n      <div class=\"HeaderMenu-dropdown dropdown-menu rounded m-0 p-0 pt-2 pt-lg-4 position-relative position-lg-absolute left-0 left-lg-n3 d-lg-flex flex-wrap dropdown-menu-wide\">\\n          <div class=\"HeaderMenu-column px-lg-4 border-lg-right mb-4 mb-lg-0 pr-lg-7\">\\n              <div class=\"border-bottom pb-3 pb-lg-0 border-lg-bottom-0 pb-lg-3 mb-3 mb-lg-0\">\\n                    <span class=\"d-block h4 color-fg-default my-1\" id=\"solutions-by-company-size-heading\">By company size</span>\\n\\n                <ul class=\"list-style-none f5\" aria-labelledby=\"solutions-by-company-size-heading\">\\n                    <li>\\n  <a class=\"HeaderMenu-dropdown-link d-block no-underline position-relative py-2 Link--secondary\" data-analytics-event=\"{&quot;location&quot;:&quot;navbar&quot;,&quot;action&quot;:&quot;enterprises&quot;,&quot;context&quot;:&quot;solutions&quot;,&quot;tag&quot;:&quot;link&quot;,&quot;label&quot;:&quot;enterprises_link_solutions_navbar&quot;}\" href=\"https://github.com/enterprise\">\\n      Enterprises\\n\\n    \\n</a></li>\\n\\n                    <li>\\n  <a class=\"HeaderMenu-dropdown-link d-block no-underline position-relative py-2 Link--secondary\" data-analytics-event=\"{&quot;location&quot;:&quot;navbar&quot;,&quot;action&quot;:&quot;small_and_medium_teams&quot;,&quot;context&quot;:&quot;solutions&quot;,&quot;tag&quot;:&quot;link&quot;,&quot;label&quot;:&quot;small_and_medium_teams_link_solutions_navbar&quot;}\" href=\"https://github.com/team\">\\n      Small and medium teams\\n\\n    \\n</a></li>\\n\\n                    <li>\\n  <a class=\"HeaderMenu-dropdown-link d-block no-underline position-relative py-2 Link--secondary\" data-analytics-event=\"{&quot;location&quot;:&quot;navbar&quot;,&quot;action&quot;:&quot;startups&quot;,&quot;context&quot;:&quot;solutions&quot;,&quot;tag&quot;:&quot;link&quot;,&quot;label&quot;:&quot;startups_link_solutions_navbar&quot;}\" href=\"https://github.com/enterprise/startups\">\\n      Startups\\n\\n    \\n</a></li>\\n\\n                    <li>\\n  <a class=\"HeaderMenu-dropdown-link d-block no-underline position-relative py-2 Link--secondary\" data-analytics-event=\"{&quot;location&quot;:&quot;navbar&quot;,&quot;action&quot;:&quot;nonprofits&quot;,&quot;context&quot;:&quot;solutions&quot;,&quot;tag&quot;:&quot;link&quot;,&quot;label&quot;:&quot;nonprofits_link_solutions_navbar&quot;}\" href=\"/solutions/industry/nonprofits\">\\n      Nonprofits\\n\\n    \\n</a></li>\\n\\n                </ul>\\n              </div>\\n              <div class=\"border-bottom pb-3 pb-lg-0 border-lg-bottom-0\">\\n                    <span class=\"d-block h4 color-fg-default my-1\" id=\"solutions-by-use-case-heading\">By use case</span>\\n\\n                <ul class=\"list-style-none f5\" aria-labelledby=\"solutions-by-use-case-heading\">\\n                    <li>\\n  <a class=\"HeaderMenu-dropdown-link d-block no-underline position-relative py-2 Link--secondary\" data-analytics-event=\"{&quot;location&quot;:&quot;navbar&quot;,&quot;action&quot;:&quot;devsecops&quot;,&quot;context&quot;:&quot;solutions&quot;,&quot;tag&quot;:&quot;link&quot;,&quot;label&quot;:&quot;devsecops_link_solutions_navbar&quot;}\" href=\"/solutions/use-case/devsecops\">\\n      DevSecOps\\n\\n    \\n</a></li>\\n\\n                    <li>\\n  <a class=\"HeaderMenu-dropdown-link d-block no-underline position-relative py-2 Link--secondary\" data-analytics-event=\"{&quot;location&quot;:&quot;navbar&quot;,&quot;action&quot;:&quot;devops&quot;,&quot;context&quot;:&quot;solutions&quot;,&quot;tag&quot;:&quot;link&quot;,&quot;label&quot;:&quot;devops_link_solutions_navbar&quot;}\" href=\"/solutions/use-case/devops\">\\n      DevOps\\n\\n    \\n</a></li>\\n\\n                    <li>\\n  <a class=\"HeaderMenu-dropdown-link d-block no-underline position-relative py-2 Link--secondary\" data-analytics-event=\"{&quot;location&quot;:&quot;navbar&quot;,&quot;action&quot;:&quot;ci_cd&quot;,&quot;context&quot;:&quot;solutions&quot;,&quot;tag&quot;:&quot;link&quot;,&quot;label&quot;:&quot;ci_cd_link_solutions_navbar&quot;}\" href=\"/solutions/use-case/ci-cd\">\\n      CI/CD\\n\\n    \\n</a></li>\\n\\n                    <li>\\n  <a class=\"HeaderMenu-dropdown-link d-block no-underline position-relative py-2 Link--secondary\" data-analytics-event=\"{&quot;location&quot;:&quot;navbar&quot;,&quot;action&quot;:&quot;view_all_use_cases&quot;,&quot;context&quot;:&quot;solutions&quot;,&quot;tag&quot;:&quot;link&quot;,&quot;label&quot;:&quot;view_all_use_cases_link_solutions_navbar&quot;}\" href=\"/solutions/use-case\">\\n      View all use cases\\n\\n    \\n</a></li>\\n\\n                </ul>\\n              </div>\\n          </div>\\n          <div class=\"HeaderMenu-column px-lg-4\">\\n              <div class=\"border-bottom pb-3 pb-lg-0 border-lg-bottom-0\">\\n                    <span class=\"d-block h4 color-fg-default my-1\" id=\"solutions-by-industry-heading\">By industry</span>\\n\\n                <ul class=\"list-style-none f5\" aria-labelledby=\"solutions-by-industry-heading\">\\n                    <li>\\n  <a class=\"HeaderMenu-dropdown-link d-block no-underline position-relative py-2 Link--secondary\" data-analytics-event=\"{&quot;location&quot;:&quot;navbar&quot;,&quot;action&quot;:&quot;healthcare&quot;,&quot;context&quot;:&quot;solutions&quot;,&quot;tag&quot;:&quot;link&quot;,&quot;label&quot;:&quot;healthcare_link_solutions_navbar&quot;}\" href=\"/solutions/industry/healthcare\">\\n      Healthcare\\n\\n    \\n</a></li>\\n\\n                    <li>\\n  <a class=\"HeaderMenu-dropdown-link d-block no-underline position-relative py-2 Link--secondary\" data-analytics-event=\"{&quot;location&quot;:&quot;navbar&quot;,&quot;action&quot;:&quot;financial_services&quot;,&quot;context&quot;:&quot;solutions&quot;,&quot;tag&quot;:&quot;link&quot;,&quot;label&quot;:&quot;financial_services_link_solutions_navbar&quot;}\" href=\"/solutions/industry/financial-services\">\\n      Financial services\\n\\n    \\n</a></li>\\n\\n                    <li>\\n  <a class=\"HeaderMenu-dropdown-link d-block no-underline position-relative py-2 Link--secondary\" data-analytics-event=\"{&quot;location&quot;:&quot;navbar&quot;,&quot;action&quot;:&quot;manufacturing&quot;,&quot;context&quot;:&quot;solutions&quot;,&quot;tag&quot;:&quot;link&quot;,&quot;label&quot;:&quot;manufacturing_link_solutions_navbar&quot;}\" href=\"/solutions/industry/manufacturing\">\\n      Manufacturing\\n\\n    \\n</a></li>\\n\\n                    <li>\\n  <a class=\"HeaderMenu-dropdown-link d-block no-underline position-relative py-2 Link--secondary\" data-analytics-event=\"{&quot;location&quot;:&quot;navbar&quot;,&quot;action&quot;:&quot;government&quot;,&quot;context&quot;:&quot;solutions&quot;,&quot;tag&quot;:&quot;link&quot;,&quot;label&quot;:&quot;government_link_solutions_navbar&quot;}\" href=\"/solutions/industry/government\">\\n      Government\\n\\n    \\n</a></li>\\n\\n                    <li>\\n  <a class=\"HeaderMenu-dropdown-link d-block no-underline position-relative py-2 Link--secondary\" data-analytics-event=\"{&quot;location&quot;:&quot;navbar&quot;,&quot;action&quot;:&quot;view_all_industries&quot;,&quot;context&quot;:&quot;solutions&quot;,&quot;tag&quot;:&quot;link&quot;,&quot;label&quot;:&quot;view_all_industries_link_solutions_navbar&quot;}\" href=\"/solutions/industry\">\\n      View all industries\\n\\n    \\n</a></li>\\n\\n                </ul>\\n              </div>\\n          </div>\\n\\n         <div class=\"HeaderMenu-trailing-link rounded-bottom-2 flex-shrink-0 mt-lg-4 px-lg-4 py-4 py-lg-3 f5 text-semibold\">\\n            <a href=\"/solutions\">\\n              View all solutions\\n              <svg aria-hidden=\"true\" height=\"16\" viewBox=\"0 0 16 16\" version=\"1.1\" width=\"16\" data-view-component=\"true\" class=\"octicon octicon-chevron-right HeaderMenu-trailing-link-icon\">\\n    <path d=\"M6.22 3.22a.75.75 0 0 1 1.06 0l4.25 4.25a.75.75 0 0 1 0 1.06l-4.25 4.25a.751.751 0 0 1-1.042-.018.751.751 0 0 1-.018-1.042L9.94 8 6.22 4.28a.75.75 0 0 1 0-1.06Z\"></path>\\n</svg>\\n</a>         </div>\\n      </div>\\n</li>\\n\\n\\n                <li class=\"HeaderMenu-item position-relative flex-wrap flex-justify-between flex-items-center d-block d-lg-flex flex-lg-nowrap flex-lg-items-center js-details-container js-header-menu-item\">\\n      <button type=\"button\" class=\"HeaderMenu-link border-0 width-full width-lg-auto px-0 px-lg-2 py-lg-2 no-wrap d-flex flex-items-center flex-justify-between js-details-target\" aria-expanded=\"false\">\\n        Resources\\n        <svg opacity=\"0.5\" aria-hidden=\"true\" height=\"16\" viewBox=\"0 0 16 16\" version=\"1.1\" width=\"16\" data-view-component=\"true\" class=\"octicon octicon-chevron-down HeaderMenu-icon ml-1\">\\n    <path d=\"M12.78 5.22a.749.749 0 0 1 0 1.06l-4.25 4.25a.749.749 0 0 1-1.06 0L3.22 6.28a.749.749 0 1 1 1.06-1.06L8 8.939l3.72-3.719a.749.749 0 0 1 1.06 0Z\"></path>\\n</svg>\\n      </button>\\n\\n      <div class=\"HeaderMenu-dropdown dropdown-menu rounded m-0 p-0 pt-2 pt-lg-4 position-relative position-lg-absolute left-0 left-lg-n3 pb-2 pb-lg-4 d-lg-flex flex-wrap dropdown-menu-wide\">\\n          <div class=\"HeaderMenu-column px-lg-4 border-lg-right mb-4 mb-lg-0 pr-lg-7\">\\n              <div class=\"border-bottom pb-3 pb-lg-0 border-lg-bottom-0\">\\n                    <span class=\"d-block h4 color-fg-default my-1\" id=\"resources-topics-heading\">Topics</span>\\n\\n                <ul class=\"list-style-none f5\" aria-labelledby=\"resources-topics-heading\">\\n                    <li>\\n  <a class=\"HeaderMenu-dropdown-link d-block no-underline position-relative py-2 Link--secondary\" data-analytics-event=\"{&quot;location&quot;:&quot;navbar&quot;,&quot;action&quot;:&quot;ai&quot;,&quot;context&quot;:&quot;resources&quot;,&quot;tag&quot;:&quot;link&quot;,&quot;label&quot;:&quot;ai_link_resources_navbar&quot;}\" href=\"/resources/articles/ai\">\\n      AI\\n\\n    \\n</a></li>\\n\\n                    <li>\\n  <a class=\"HeaderMenu-dropdown-link d-block no-underline position-relative py-2 Link--secondary\" data-analytics-event=\"{&quot;location&quot;:&quot;navbar&quot;,&quot;action&quot;:&quot;devops&quot;,&quot;context&quot;:&quot;resources&quot;,&quot;tag&quot;:&quot;link&quot;,&quot;label&quot;:&quot;devops_link_resources_navbar&quot;}\" href=\"/resources/articles/devops\">\\n      DevOps\\n\\n    \\n</a></li>\\n\\n                    <li>\\n  <a class=\"HeaderMenu-dropdown-link d-block no-underline position-relative py-2 Link--secondary\" data-analytics-event=\"{&quot;location&quot;:&quot;navbar&quot;,&quot;action&quot;:&quot;security&quot;,&quot;context&quot;:&quot;resources&quot;,&quot;tag&quot;:&quot;link&quot;,&quot;label&quot;:&quot;security_link_resources_navbar&quot;}\" href=\"/resources/articles/security\">\\n      Security\\n\\n    \\n</a></li>\\n\\n                    <li>\\n  <a class=\"HeaderMenu-dropdown-link d-block no-underline position-relative py-2 Link--secondary\" data-analytics-event=\"{&quot;location&quot;:&quot;navbar&quot;,&quot;action&quot;:&quot;software_development&quot;,&quot;context&quot;:&quot;resources&quot;,&quot;tag&quot;:&quot;link&quot;,&quot;label&quot;:&quot;software_development_link_resources_navbar&quot;}\" href=\"/resources/articles/software-development\">\\n      Software Development\\n\\n    \\n</a></li>\\n\\n                    <li>\\n  <a class=\"HeaderMenu-dropdown-link d-block no-underline position-relative py-2 Link--secondary\" data-analytics-event=\"{&quot;location&quot;:&quot;navbar&quot;,&quot;action&quot;:&quot;view_all&quot;,&quot;context&quot;:&quot;resources&quot;,&quot;tag&quot;:&quot;link&quot;,&quot;label&quot;:&quot;view_all_link_resources_navbar&quot;}\" href=\"/resources/articles\">\\n      View all\\n\\n    \\n</a></li>\\n\\n                </ul>\\n              </div>\\n          </div>\\n          <div class=\"HeaderMenu-column px-lg-4\">\\n              <div class=\"border-bottom pb-3 pb-lg-0 border-lg-bottom-0 border-bottom-0\">\\n                    <span class=\"d-block h4 color-fg-default my-1\" id=\"resources-explore-heading\">Explore</span>\\n\\n                <ul class=\"list-style-none f5\" aria-labelledby=\"resources-explore-heading\">\\n                    <li>\\n  <a class=\"HeaderMenu-dropdown-link d-block no-underline position-relative py-2 Link--secondary Link--external\" target=\"_blank\" data-analytics-event=\"{&quot;location&quot;:&quot;navbar&quot;,&quot;action&quot;:&quot;learning_pathways&quot;,&quot;context&quot;:&quot;resources&quot;,&quot;tag&quot;:&quot;link&quot;,&quot;label&quot;:&quot;learning_pathways_link_resources_navbar&quot;}\" href=\"https://resources.github.com/learn/pathways\">\\n      Learning Pathways\\n\\n    <svg aria-hidden=\"true\" height=\"16\" viewBox=\"0 0 16 16\" version=\"1.1\" width=\"16\" data-view-component=\"true\" class=\"octicon octicon-link-external HeaderMenu-external-icon color-fg-subtle\">\\n    <path d=\"M3.75 2h3.5a.75.75 0 0 1 0 1.5h-3.5a.25.25 0 0 0-.25.25v8.5c0 .138.112.25.25.25h8.5a.25.25 0 0 0 .25-.25v-3.5a.75.75 0 0 1 1.5 0v3.5A1.75 1.75 0 0 1 12.25 14h-8.5A1.75 1.75 0 0 1 2 12.25v-8.5C2 2.784 2.784 2 3.75 2Zm6.854-1h4.146a.25.25 0 0 1 .25.25v4.146a.25.25 0 0 1-.427.177L13.03 4.03 9.28 7.78a.751.751 0 0 1-1.042-.018.751.751 0 0 1-.018-1.042l3.75-3.75-1.543-1.543A.25.25 0 0 1 10.604 1Z\"></path>\\n</svg>\\n</a></li>\\n\\n                    <li>\\n  <a class=\"HeaderMenu-dropdown-link d-block no-underline position-relative py-2 Link--secondary Link--external\" target=\"_blank\" data-analytics-event=\"{&quot;location&quot;:&quot;navbar&quot;,&quot;action&quot;:&quot;events_amp_webinars&quot;,&quot;context&quot;:&quot;resources&quot;,&quot;tag&quot;:&quot;link&quot;,&quot;label&quot;:&quot;events_amp_webinars_link_resources_navbar&quot;}\" href=\"https://resources.github.com\">\\n      Events &amp; Webinars\\n\\n    <svg aria-hidden=\"true\" height=\"16\" viewBox=\"0 0 16 16\" version=\"1.1\" width=\"16\" data-view-component=\"true\" class=\"octicon octicon-link-external HeaderMenu-external-icon color-fg-subtle\">\\n    <path d=\"M3.75 2h3.5a.75.75 0 0 1 0 1.5h-3.5a.25.25 0 0 0-.25.25v8.5c0 .138.112.25.25.25h8.5a.25.25 0 0 0 .25-.25v-3.5a.75.75 0 0 1 1.5 0v3.5A1.75 1.75 0 0 1 12.25 14h-8.5A1.75 1.75 0 0 1 2 12.25v-8.5C2 2.784 2.784 2 3.75 2Zm6.854-1h4.146a.25.25 0 0 1 .25.25v4.146a.25.25 0 0 1-.427.177L13.03 4.03 9.28 7.78a.751.751 0 0 1-1.042-.018.751.751 0 0 1-.018-1.042l3.75-3.75-1.543-1.543A.25.25 0 0 1 10.604 1Z\"></path>\\n</svg>\\n</a></li>\\n\\n                    <li>\\n  <a class=\"HeaderMenu-dropdown-link d-block no-underline position-relative py-2 Link--secondary\" data-analytics-event=\"{&quot;location&quot;:&quot;navbar&quot;,&quot;action&quot;:&quot;ebooks_amp_whitepapers&quot;,&quot;context&quot;:&quot;resources&quot;,&quot;tag&quot;:&quot;link&quot;,&quot;label&quot;:&quot;ebooks_amp_whitepapers_link_resources_navbar&quot;}\" href=\"https://github.com/resources/whitepapers\">\\n      Ebooks &amp; Whitepapers\\n\\n    \\n</a></li>\\n\\n                    <li>\\n  <a class=\"HeaderMenu-dropdown-link d-block no-underline position-relative py-2 Link--secondary\" data-analytics-event=\"{&quot;location&quot;:&quot;navbar&quot;,&quot;action&quot;:&quot;customer_stories&quot;,&quot;context&quot;:&quot;resources&quot;,&quot;tag&quot;:&quot;link&quot;,&quot;label&quot;:&quot;customer_stories_link_resources_navbar&quot;}\" href=\"https://github.com/customer-stories\">\\n      Customer Stories\\n\\n    \\n</a></li>\\n\\n                    <li>\\n  <a class=\"HeaderMenu-dropdown-link d-block no-underline position-relative py-2 Link--secondary Link--external\" target=\"_blank\" data-analytics-event=\"{&quot;location&quot;:&quot;navbar&quot;,&quot;action&quot;:&quot;partners&quot;,&quot;context&quot;:&quot;resources&quot;,&quot;tag&quot;:&quot;link&quot;,&quot;label&quot;:&quot;partners_link_resources_navbar&quot;}\" href=\"https://partner.github.com\">\\n      Partners\\n\\n    <svg aria-hidden=\"true\" height=\"16\" viewBox=\"0 0 16 16\" version=\"1.1\" width=\"16\" data-view-component=\"true\" class=\"octicon octicon-link-external HeaderMenu-external-icon color-fg-subtle\">\\n    <path d=\"M3.75 2h3.5a.75.75 0 0 1 0 1.5h-3.5a.25.25 0 0 0-.25.25v8.5c0 .138.112.25.25.25h8.5a.25.25 0 0 0 .25-.25v-3.5a.75.75 0 0 1 1.5 0v3.5A1.75 1.75 0 0 1 12.25 14h-8.5A1.75 1.75 0 0 1 2 12.25v-8.5C2 2.784 2.784 2 3.75 2Zm6.854-1h4.146a.25.25 0 0 1 .25.25v4.146a.25.25 0 0 1-.427.177L13.03 4.03 9.28 7.78a.751.751 0 0 1-1.042-.018.751.751 0 0 1-.018-1.042l3.75-3.75-1.543-1.543A.25.25 0 0 1 10.604 1Z\"></path>\\n</svg>\\n</a></li>\\n\\n                    <li>\\n  <a class=\"HeaderMenu-dropdown-link d-block no-underline position-relative py-2 Link--secondary\" data-analytics-event=\"{&quot;location&quot;:&quot;navbar&quot;,&quot;action&quot;:&quot;executive_insights&quot;,&quot;context&quot;:&quot;resources&quot;,&quot;tag&quot;:&quot;link&quot;,&quot;label&quot;:&quot;executive_insights_link_resources_navbar&quot;}\" href=\"https://github.com/solutions/executive-insights\">\\n      Executive Insights\\n\\n    \\n</a></li>\\n\\n                </ul>\\n              </div>\\n          </div>\\n\\n      </div>\\n</li>\\n\\n\\n                <li class=\"HeaderMenu-item position-relative flex-wrap flex-justify-between flex-items-center d-block d-lg-flex flex-lg-nowrap flex-lg-items-center js-details-container js-header-menu-item\">\\n      <button type=\"button\" class=\"HeaderMenu-link border-0 width-full width-lg-auto px-0 px-lg-2 py-lg-2 no-wrap d-flex flex-items-center flex-justify-between js-details-target\" aria-expanded=\"false\">\\n        Open Source\\n        <svg opacity=\"0.5\" aria-hidden=\"true\" height=\"16\" viewBox=\"0 0 16 16\" version=\"1.1\" width=\"16\" data-view-component=\"true\" class=\"octicon octicon-chevron-down HeaderMenu-icon ml-1\">\\n    <path d=\"M12.78 5.22a.749.749 0 0 1 0 1.06l-4.25 4.25a.749.749 0 0 1-1.06 0L3.22 6.28a.749.749 0 1 1 1.06-1.06L8 8.939l3.72-3.719a.749.749 0 0 1 1.06 0Z\"></path>\\n</svg>\\n      </button>\\n\\n      <div class=\"HeaderMenu-dropdown dropdown-menu rounded m-0 p-0 pt-2 pt-lg-4 position-relative position-lg-absolute left-0 left-lg-n3 pb-2 pb-lg-4 px-lg-4\">\\n          <div class=\"HeaderMenu-column\">\\n              <div class=\"border-bottom pb-3 pb-lg-0 pb-lg-3 mb-3 mb-lg-0 mb-lg-3\">\\n\\n                <ul class=\"list-style-none f5\" >\\n                    <li>\\n  <a class=\"HeaderMenu-dropdown-link d-block no-underline position-relative py-2 Link--secondary d-flex flex-items-center Link--has-description\" data-analytics-event=\"{&quot;location&quot;:&quot;navbar&quot;,&quot;action&quot;:&quot;github_sponsors&quot;,&quot;context&quot;:&quot;open_source&quot;,&quot;tag&quot;:&quot;link&quot;,&quot;label&quot;:&quot;github_sponsors_link_open_source_navbar&quot;}\" href=\"/sponsors\">\\n      \\n      <div>\\n          <div class=\"color-fg-default h4\">\\n            GitHub Sponsors\\n          </div>\\n        Fund open source developers\\n      </div>\\n\\n    \\n</a></li>\\n\\n                </ul>\\n              </div>\\n              <div class=\"border-bottom pb-3 pb-lg-0 pb-lg-3 mb-3 mb-lg-0 mb-lg-3\">\\n\\n                <ul class=\"list-style-none f5\" >\\n                    <li>\\n  <a class=\"HeaderMenu-dropdown-link d-block no-underline position-relative py-2 Link--secondary d-flex flex-items-center Link--has-description\" data-analytics-event=\"{&quot;location&quot;:&quot;navbar&quot;,&quot;action&quot;:&quot;the_readme_project&quot;,&quot;context&quot;:&quot;open_source&quot;,&quot;tag&quot;:&quot;link&quot;,&quot;label&quot;:&quot;the_readme_project_link_open_source_navbar&quot;}\" href=\"https://github.com/readme\">\\n      \\n      <div>\\n          <div class=\"color-fg-default h4\">\\n            The ReadME Project\\n          </div>\\n        GitHub community articles\\n      </div>\\n\\n    \\n</a></li>\\n\\n                </ul>\\n              </div>\\n              <div class=\"border-bottom pb-3 pb-lg-0 border-bottom-0\">\\n                    <span class=\"d-block h4 color-fg-default my-1\" id=\"open-source-repositories-heading\">Repositories</span>\\n\\n                <ul class=\"list-style-none f5\" aria-labelledby=\"open-source-repositories-heading\">\\n                    <li>\\n  <a class=\"HeaderMenu-dropdown-link d-block no-underline position-relative py-2 Link--secondary\" data-analytics-event=\"{&quot;location&quot;:&quot;navbar&quot;,&quot;action&quot;:&quot;topics&quot;,&quot;context&quot;:&quot;open_source&quot;,&quot;tag&quot;:&quot;link&quot;,&quot;label&quot;:&quot;topics_link_open_source_navbar&quot;}\" href=\"https://github.com/topics\">\\n      Topics\\n\\n    \\n</a></li>\\n\\n                    <li>\\n  <a class=\"HeaderMenu-dropdown-link d-block no-underline position-relative py-2 Link--secondary\" data-analytics-event=\"{&quot;location&quot;:&quot;navbar&quot;,&quot;action&quot;:&quot;trending&quot;,&quot;context&quot;:&quot;open_source&quot;,&quot;tag&quot;:&quot;link&quot;,&quot;label&quot;:&quot;trending_link_open_source_navbar&quot;}\" href=\"https://github.com/trending\">\\n      Trending\\n\\n    \\n</a></li>\\n\\n                    <li>\\n  <a class=\"HeaderMenu-dropdown-link d-block no-underline position-relative py-2 Link--secondary\" data-analytics-event=\"{&quot;location&quot;:&quot;navbar&quot;,&quot;action&quot;:&quot;collections&quot;,&quot;context&quot;:&quot;open_source&quot;,&quot;tag&quot;:&quot;link&quot;,&quot;label&quot;:&quot;collections_link_open_source_navbar&quot;}\" href=\"https://github.com/collections\">\\n      Collections\\n\\n    \\n</a></li>\\n\\n                </ul>\\n              </div>\\n          </div>\\n\\n      </div>\\n</li>\\n\\n\\n                <li class=\"HeaderMenu-item position-relative flex-wrap flex-justify-between flex-items-center d-block d-lg-flex flex-lg-nowrap flex-lg-items-center js-details-container js-header-menu-item\">\\n      <button type=\"button\" class=\"HeaderMenu-link border-0 width-full width-lg-auto px-0 px-lg-2 py-lg-2 no-wrap d-flex flex-items-center flex-justify-between js-details-target\" aria-expanded=\"false\">\\n        Enterprise\\n        <svg opacity=\"0.5\" aria-hidden=\"true\" height=\"16\" viewBox=\"0 0 16 16\" version=\"1.1\" width=\"16\" data-view-component=\"true\" class=\"octicon octicon-chevron-down HeaderMenu-icon ml-1\">\\n    <path d=\"M12.78 5.22a.749.749 0 0 1 0 1.06l-4.25 4.25a.749.749 0 0 1-1.06 0L3.22 6.28a.749.749 0 1 1 1.06-1.06L8 8.939l3.72-3.719a.749.749 0 0 1 1.06 0Z\"></path>\\n</svg>\\n      </button>\\n\\n      <div class=\"HeaderMenu-dropdown dropdown-menu rounded m-0 p-0 pt-2 pt-lg-4 position-relative position-lg-absolute left-0 left-lg-n3 pb-2 pb-lg-4 px-lg-4\">\\n          <div class=\"HeaderMenu-column\">\\n              <div class=\"border-bottom pb-3 pb-lg-0 pb-lg-3 mb-3 mb-lg-0 mb-lg-3\">\\n\\n                <ul class=\"list-style-none f5\" >\\n                    <li>\\n  <a class=\"HeaderMenu-dropdown-link d-block no-underline position-relative py-2 Link--secondary d-flex flex-items-center Link--has-description\" data-analytics-event=\"{&quot;location&quot;:&quot;navbar&quot;,&quot;action&quot;:&quot;enterprise_platform&quot;,&quot;context&quot;:&quot;enterprise&quot;,&quot;tag&quot;:&quot;link&quot;,&quot;label&quot;:&quot;enterprise_platform_link_enterprise_navbar&quot;}\" href=\"/enterprise\">\\n      <svg aria-hidden=\"true\" height=\"24\" viewBox=\"0 0 24 24\" version=\"1.1\" width=\"24\" data-view-component=\"true\" class=\"octicon octicon-stack color-fg-subtle mr-3\">\\n    <path d=\"M11.063 1.456a1.749 1.749 0 0 1 1.874 0l8.383 5.316a1.751 1.751 0 0 1 0 2.956l-8.383 5.316a1.749 1.749 0 0 1-1.874 0L2.68 9.728a1.751 1.751 0 0 1 0-2.956Zm1.071 1.267a.25.25 0 0 0-.268 0L3.483 8.039a.25.25 0 0 0 0 .422l8.383 5.316a.25.25 0 0 0 .268 0l8.383-5.316a.25.25 0 0 0 0-.422Z\"></path><path d=\"M1.867 12.324a.75.75 0 0 1 1.035-.232l8.964 5.685a.25.25 0 0 0 .268 0l8.964-5.685a.75.75 0 0 1 .804 1.267l-8.965 5.685a1.749 1.749 0 0 1-1.874 0l-8.965-5.685a.75.75 0 0 1-.231-1.035Z\"></path><path d=\"M1.867 16.324a.75.75 0 0 1 1.035-.232l8.964 5.685a.25.25 0 0 0 .268 0l8.964-5.685a.75.75 0 0 1 .804 1.267l-8.965 5.685a1.749 1.749 0 0 1-1.874 0l-8.965-5.685a.75.75 0 0 1-.231-1.035Z\"></path>\\n</svg>\\n      <div>\\n          <div class=\"color-fg-default h4\">\\n            Enterprise platform\\n          </div>\\n        AI-powered developer platform\\n      </div>\\n\\n    \\n</a></li>\\n\\n                </ul>\\n              </div>\\n              <div class=\"border-bottom pb-3 pb-lg-0 border-bottom-0\">\\n                    <span class=\"d-block h4 color-fg-default my-1\" id=\"enterprise-available-add-ons-heading\">Available add-ons</span>\\n\\n                <ul class=\"list-style-none f5\" aria-labelledby=\"enterprise-available-add-ons-heading\">\\n                    <li>\\n  <a class=\"HeaderMenu-dropdown-link d-block no-underline position-relative py-2 Link--secondary d-flex flex-items-center Link--has-description pb-lg-3\" data-analytics-event=\"{&quot;location&quot;:&quot;navbar&quot;,&quot;action&quot;:&quot;github_advanced_security&quot;,&quot;context&quot;:&quot;enterprise&quot;,&quot;tag&quot;:&quot;link&quot;,&quot;label&quot;:&quot;github_advanced_security_link_enterprise_navbar&quot;}\" href=\"https://github.com/security/advanced-security\">\\n      <svg aria-hidden=\"true\" height=\"24\" viewBox=\"0 0 24 24\" version=\"1.1\" width=\"24\" data-view-component=\"true\" class=\"octicon octicon-shield-check color-fg-subtle mr-3\">\\n    <path d=\"M16.53 9.78a.75.75 0 0 0-1.06-1.06L11 13.19l-1.97-1.97a.75.75 0 0 0-1.06 1.06l2.5 2.5a.75.75 0 0 0 1.06 0l5-5Z\"></path><path d=\"m12.54.637 8.25 2.675A1.75 1.75 0 0 1 22 4.976V10c0 6.19-3.771 10.704-9.401 12.83a1.704 1.704 0 0 1-1.198 0C5.77 20.705 2 16.19 2 10V4.976c0-.758.489-1.43 1.21-1.664L11.46.637a1.748 1.748 0 0 1 1.08 0Zm-.617 1.426-8.25 2.676a.249.249 0 0 0-.173.237V10c0 5.46 3.28 9.483 8.43 11.426a.199.199 0 0 0 .14 0C17.22 19.483 20.5 15.461 20.5 10V4.976a.25.25 0 0 0-.173-.237l-8.25-2.676a.253.253 0 0 0-.154 0Z\"></path>\\n</svg>\\n      <div>\\n          <div class=\"color-fg-default h4\">\\n            GitHub Advanced Security\\n          </div>\\n        Enterprise-grade security features\\n      </div>\\n\\n    \\n</a></li>\\n\\n                    <li>\\n  <a class=\"HeaderMenu-dropdown-link d-block no-underline position-relative py-2 Link--secondary d-flex flex-items-center Link--has-description pb-lg-3\" data-analytics-event=\"{&quot;location&quot;:&quot;navbar&quot;,&quot;action&quot;:&quot;copilot_for_business&quot;,&quot;context&quot;:&quot;enterprise&quot;,&quot;tag&quot;:&quot;link&quot;,&quot;label&quot;:&quot;copilot_for_business_link_enterprise_navbar&quot;}\" href=\"/features/copilot/copilot-business\">\\n      <svg aria-hidden=\"true\" height=\"24\" viewBox=\"0 0 24 24\" version=\"1.1\" width=\"24\" data-view-component=\"true\" class=\"octicon octicon-copilot color-fg-subtle mr-3\">\\n    <path d=\"M23.922 16.992c-.861 1.495-5.859 5.023-11.922 5.023-6.063 0-11.061-3.528-11.922-5.023A.641.641 0 0 1 0 16.736v-2.869a.841.841 0 0 1 .053-.22c.372-.935 1.347-2.292 2.605-2.656.167-.429.414-1.055.644-1.517a10.195 10.195 0 0 1-.052-1.086c0-1.331.282-2.499 1.132-3.368.397-.406.89-.717 1.474-.952 1.399-1.136 3.392-2.093 6.122-2.093 2.731 0 4.767.957 6.166 2.093.584.235 1.077.546 1.474.952.85.869 1.132 2.037 1.132 3.368 0 .368-.014.733-.052 1.086.23.462.477 1.088.644 1.517 1.258.364 2.233 1.721 2.605 2.656a.832.832 0 0 1 .053.22v2.869a.641.641 0 0 1-.078.256ZM12.172 11h-.344a4.323 4.323 0 0 1-.355.508C10.703 12.455 9.555 13 7.965 13c-1.725 0-2.989-.359-3.782-1.259a2.005 2.005 0 0 1-.085-.104L4 11.741v6.585c1.435.779 4.514 2.179 8 2.179 3.486 0 6.565-1.4 8-2.179v-6.585l-.098-.104s-.033.045-.085.104c-.793.9-2.057 1.259-3.782 1.259-1.59 0-2.738-.545-3.508-1.492a4.323 4.323 0 0 1-.355-.508h-.016.016Zm.641-2.935c.136 1.057.403 1.913.878 2.497.442.544 1.134.938 2.344.938 1.573 0 2.292-.337 2.657-.751.384-.435.558-1.15.558-2.361 0-1.14-.243-1.847-.705-2.319-.477-.488-1.319-.862-2.824-1.025-1.487-.161-2.192.138-2.533.529-.269.307-.437.808-.438 1.578v.021c0 .265.021.562.063.893Zm-1.626 0c.042-.331.063-.628.063-.894v-.02c-.001-.77-.169-1.271-.438-1.578-.341-.391-1.046-.69-2.533-.529-1.505.163-2.347.537-2.824 1.025-.462.472-.705 1.179-.705 2.319 0 1.211.175 1.926.558 2.361.365.414 1.084.751 2.657.751 1.21 0 1.902-.394 2.344-.938.475-.584.742-1.44.878-2.497Z\"></path><path d=\"M14.5 14.25a1 1 0 0 1 1 1v2a1 1 0 0 1-2 0v-2a1 1 0 0 1 1-1Zm-5 0a1 1 0 0 1 1 1v2a1 1 0 0 1-2 0v-2a1 1 0 0 1 1-1Z\"></path>\\n</svg>\\n      <div>\\n          <div class=\"color-fg-default h4\">\\n            Copilot for business\\n          </div>\\n        Enterprise-grade AI features\\n      </div>\\n\\n    \\n</a></li>\\n\\n                    <li>\\n  <a class=\"HeaderMenu-dropdown-link d-block no-underline position-relative py-2 Link--secondary d-flex flex-items-center Link--has-description\" data-analytics-event=\"{&quot;location&quot;:&quot;navbar&quot;,&quot;action&quot;:&quot;premium_support&quot;,&quot;context&quot;:&quot;enterprise&quot;,&quot;tag&quot;:&quot;link&quot;,&quot;label&quot;:&quot;premium_support_link_enterprise_navbar&quot;}\" href=\"/premium-support\">\\n      <svg aria-hidden=\"true\" height=\"24\" viewBox=\"0 0 24 24\" version=\"1.1\" width=\"24\" data-view-component=\"true\" class=\"octicon octicon-comment-discussion color-fg-subtle mr-3\">\\n    <path d=\"M1.75 1h12.5c.966 0 1.75.784 1.75 1.75v9.5A1.75 1.75 0 0 1 14.25 14H8.061l-2.574 2.573A1.458 1.458 0 0 1 3 15.543V14H1.75A1.75 1.75 0 0 1 0 12.25v-9.5C0 1.784.784 1 1.75 1ZM1.5 2.75v9.5c0 .138.112.25.25.25h2a.75.75 0 0 1 .75.75v2.19l2.72-2.72a.749.749 0 0 1 .53-.22h6.5a.25.25 0 0 0 .25-.25v-9.5a.25.25 0 0 0-.25-.25H1.75a.25.25 0 0 0-.25.25Z\"></path><path d=\"M22.5 8.75a.25.25 0 0 0-.25-.25h-3.5a.75.75 0 0 1 0-1.5h3.5c.966 0 1.75.784 1.75 1.75v9.5A1.75 1.75 0 0 1 22.25 20H21v1.543a1.457 1.457 0 0 1-2.487 1.03L15.939 20H10.75A1.75 1.75 0 0 1 9 18.25v-1.465a.75.75 0 0 1 1.5 0v1.465c0 .138.112.25.25.25h5.5a.75.75 0 0 1 .53.22l2.72 2.72v-2.19a.75.75 0 0 1 .75-.75h2a.25.25 0 0 0 .25-.25v-9.5Z\"></path>\\n</svg>\\n      <div>\\n          <div class=\"color-fg-default h4\">\\n            Premium Support\\n          </div>\\n        Enterprise-grade 24/7 support\\n      </div>\\n\\n    \\n</a></li>\\n\\n                </ul>\\n              </div>\\n          </div>\\n\\n      </div>\\n</li>\\n\\n\\n                <li class=\"HeaderMenu-item position-relative flex-wrap flex-justify-between flex-items-center d-block d-lg-flex flex-lg-nowrap flex-lg-items-center js-details-container js-header-menu-item\">\\n    <a class=\"HeaderMenu-link no-underline px-0 px-lg-2 py-3 py-lg-2 d-block d-lg-inline-block\" data-analytics-event=\"{&quot;location&quot;:&quot;navbar&quot;,&quot;action&quot;:&quot;pricing&quot;,&quot;context&quot;:&quot;global&quot;,&quot;tag&quot;:&quot;link&quot;,&quot;label&quot;:&quot;pricing_link_global_navbar&quot;}\" href=\"https://github.com/pricing\">Pricing</a>\\n</li>\\n\\n            </ul>\\n          </nav>\\n\\n        <div class=\"d-flex flex-column flex-lg-row width-full flex-justify-end flex-lg-items-center text-center mt-3 mt-lg-0 text-lg-left ml-lg-3\">\\n                \\n\\n\\n<qbsearch-input class=\"search-input\" data-scope=\"\" data-custom-scopes-path=\"/search/custom_scopes\" data-delete-custom-scopes-csrf=\"rag377Xyk6hU-oGguZXl-g-ZnVVVR3FYIVtShMkhWwE6oCgUhuqUtqa8GD9ub5tcWAS3d02B_RFzB6_nQ-Yreg\" data-max-custom-scopes=\"10\" data-header-redesign-enabled=\"false\" data-initial-value=\"\" data-blackbird-suggestions-path=\"/search/suggestions\" data-jump-to-suggestions-path=\"/_graphql/GetSuggestedNavigationDestinations\" data-current-repository=\"\" data-current-org=\"\" data-current-owner=\"\" data-logged-in=\"false\" data-copilot-chat-enabled=\"false\" data-nl-search-enabled=\"false\" data-retain-scroll-position=\"true\">\\n  <div\\n    class=\"search-input-container search-with-dialog position-relative d-flex flex-row flex-items-center mr-4 rounded\"\\n    data-action=\"click:qbsearch-input#searchInputContainerClicked\"\\n  >\\n      <button\\n        type=\"button\"\\n        class=\"header-search-button placeholder  input-button form-control d-flex flex-1 flex-self-stretch flex-items-center no-wrap width-full py-0 pl-2 pr-0 text-left border-0 box-shadow-none\"\\n        data-target=\"qbsearch-input.inputButton\"\\n        aria-label=\"Search or jump to…\"\\n        aria-haspopup=\"dialog\"\\n        placeholder=\"Search or jump to...\"\\n        data-hotkey=s,/\\n        autocapitalize=\"off\"\\n        data-analytics-event=\"{&quot;location&quot;:&quot;navbar&quot;,&quot;action&quot;:&quot;searchbar&quot;,&quot;context&quot;:&quot;global&quot;,&quot;tag&quot;:&quot;input&quot;,&quot;label&quot;:&quot;searchbar_input_global_navbar&quot;}\"\\n        data-action=\"click:qbsearch-input#handleExpand\"\\n      >\\n        <div class=\"mr-2 color-fg-muted\">\\n          <svg aria-hidden=\"true\" height=\"16\" viewBox=\"0 0 16 16\" version=\"1.1\" width=\"16\" data-view-component=\"true\" class=\"octicon octicon-search\">\\n    <path d=\"M10.68 11.74a6 6 0 0 1-7.922-8.982 6 6 0 0 1 8.982 7.922l3.04 3.04a.749.749 0 0 1-.326 1.275.749.749 0 0 1-.734-.215ZM11.5 7a4.499 4.499 0 1 0-8.997 0A4.499 4.499 0 0 0 11.5 7Z\"></path>\\n</svg>\\n        </div>\\n        <span class=\"flex-1\" data-target=\"qbsearch-input.inputButtonText\">Search or jump to...</span>\\n          <div class=\"d-flex\" data-target=\"qbsearch-input.hotkeyIndicator\">\\n            <svg xmlns=\"http://www.w3.org/2000/svg\" width=\"22\" height=\"20\" aria-hidden=\"true\" class=\"mr-1\"><path fill=\"none\" stroke=\"#979A9C\" opacity=\".4\" d=\"M3.5.5h12c1.7 0 3 1.3 3 3v13c0 1.7-1.3 3-3 3h-12c-1.7 0-3-1.3-3-3v-13c0-1.7 1.3-3 3-3z\"></path><path fill=\"#979A9C\" d=\"M11.8 6L8 15.1h-.9L10.8 6h1z\"></path></svg>\\n          </div>\\n      </button>\\n\\n    <input type=\"hidden\" name=\"type\" class=\"js-site-search-type-field\">\\n\\n    \\n<div class=\"Overlay--hidden \" data-modal-dialog-overlay>\\n  <modal-dialog data-action=\"close:qbsearch-input#handleClose cancel:qbsearch-input#handleClose\" data-target=\"qbsearch-input.searchSuggestionsDialog\" role=\"dialog\" id=\"search-suggestions-dialog\" aria-modal=\"true\" aria-labelledby=\"search-suggestions-dialog-header\" data-view-component=\"true\" class=\"Overlay Overlay--width-large Overlay--height-auto\">\\n      <h1 id=\"search-suggestions-dialog-header\" class=\"sr-only\">Search code, repositories, users, issues, pull requests...</h1>\\n    <div class=\"Overlay-body Overlay-body--paddingNone\">\\n      \\n          <div data-view-component=\"true\">        <div class=\"search-suggestions position-fixed width-full color-shadow-large border color-fg-default color-bg-default overflow-hidden d-flex flex-column query-builder-container\"\\n          style=\"border-radius: 12px;\"\\n          data-target=\"qbsearch-input.queryBuilderContainer\"\\n          hidden\\n        >\\n          <!-- \\'\"` --><!-- </textarea></xmp> --></option></form><form id=\"query-builder-test-form\" action=\"\" accept-charset=\"UTF-8\" method=\"get\">\\n  <query-builder data-target=\"qbsearch-input.queryBuilder\" id=\"query-builder-query-builder-test\" data-filter-key=\":\" data-view-component=\"true\" class=\"QueryBuilder search-query-builder\">\\n    <div class=\"FormControl FormControl--fullWidth\">\\n      <label id=\"query-builder-test-label\" for=\"query-builder-test\" class=\"FormControl-label sr-only\">\\n        Search\\n      </label>\\n      <div\\n        class=\"QueryBuilder-StyledInput width-fit \"\\n        data-target=\"query-builder.styledInput\"\\n      >\\n          <span id=\"query-builder-test-leadingvisual-wrap\" class=\"FormControl-input-leadingVisualWrap QueryBuilder-leadingVisualWrap\">\\n            <svg aria-hidden=\"true\" height=\"16\" viewBox=\"0 0 16 16\" version=\"1.1\" width=\"16\" data-view-component=\"true\" class=\"octicon octicon-search FormControl-input-leadingVisual\">\\n    <path d=\"M10.68 11.74a6 6 0 0 1-7.922-8.982 6 6 0 0 1 8.982 7.922l3.04 3.04a.749.749 0 0 1-.326 1.275.749.749 0 0 1-.734-.215ZM11.5 7a4.499 4.499 0 1 0-8.997 0A4.499 4.499 0 0 0 11.5 7Z\"></path>\\n</svg>\\n          </span>\\n        <div data-target=\"query-builder.styledInputContainer\" class=\"QueryBuilder-StyledInputContainer\">\\n          <div\\n            aria-hidden=\"true\"\\n            class=\"QueryBuilder-StyledInputContent\"\\n            data-target=\"query-builder.styledInputContent\"\\n          ></div>\\n          <div class=\"QueryBuilder-InputWrapper\">\\n            <div aria-hidden=\"true\" class=\"QueryBuilder-Sizer\" data-target=\"query-builder.sizer\"></div>\\n            <input id=\"query-builder-test\" name=\"query-builder-test\" value=\"\" autocomplete=\"off\" type=\"text\" role=\"combobox\" spellcheck=\"false\" aria-expanded=\"false\" aria-describedby=\"validation-be0fbbff-1b10-4747-b1b5-dfffd74ab5cb\" data-target=\"query-builder.input\" data-action=\"\\n          input:query-builder#inputChange\\n          blur:query-builder#inputBlur\\n          keydown:query-builder#inputKeydown\\n          focus:query-builder#inputFocus\\n        \" data-view-component=\"true\" class=\"FormControl-input QueryBuilder-Input FormControl-medium\" />\\n          </div>\\n        </div>\\n          <span class=\"sr-only\" id=\"query-builder-test-clear\">Clear</span>\\n          <button role=\"button\" id=\"query-builder-test-clear-button\" aria-labelledby=\"query-builder-test-clear query-builder-test-label\" data-target=\"query-builder.clearButton\" data-action=\"\\n                click:query-builder#clear\\n                focus:query-builder#clearButtonFocus\\n                blur:query-builder#clearButtonBlur\\n              \" variant=\"small\" hidden=\"hidden\" type=\"button\" data-view-component=\"true\" class=\"Button Button--iconOnly Button--invisible Button--medium mr-1 px-2 py-0 d-flex flex-items-center rounded-1 color-fg-muted\">  <svg aria-hidden=\"true\" height=\"16\" viewBox=\"0 0 16 16\" version=\"1.1\" width=\"16\" data-view-component=\"true\" class=\"octicon octicon-x-circle-fill Button-visual\">\\n    <path d=\"M2.343 13.657A8 8 0 1 1 13.658 2.343 8 8 0 0 1 2.343 13.657ZM6.03 4.97a.751.751 0 0 0-1.042.018.751.751 0 0 0-.018 1.042L6.94 8 4.97 9.97a.749.749 0 0 0 .326 1.275.749.749 0 0 0 .734-.215L8 9.06l1.97 1.97a.749.749 0 0 0 1.275-.326.749.749 0 0 0-.215-.734L9.06 8l1.97-1.97a.749.749 0 0 0-.326-1.275.749.749 0 0 0-.734.215L8 6.94Z\"></path>\\n</svg>\\n</button>\\n\\n      </div>\\n      <template id=\"search-icon\">\\n  <svg aria-hidden=\"true\" height=\"16\" viewBox=\"0 0 16 16\" version=\"1.1\" width=\"16\" data-view-component=\"true\" class=\"octicon octicon-search\">\\n    <path d=\"M10.68 11.74a6 6 0 0 1-7.922-8.982 6 6 0 0 1 8.982 7.922l3.04 3.04a.749.749 0 0 1-.326 1.275.749.749 0 0 1-.734-.215ZM11.5 7a4.499 4.499 0 1 0-8.997 0A4.499 4.499 0 0 0 11.5 7Z\"></path>\\n</svg>\\n</template>\\n\\n<template id=\"code-icon\">\\n  <svg aria-hidden=\"true\" height=\"16\" viewBox=\"0 0 16 16\" version=\"1.1\" width=\"16\" data-view-component=\"true\" class=\"octicon octicon-code\">\\n    <path d=\"m11.28 3.22 4.25 4.25a.75.75 0 0 1 0 1.06l-4.25 4.25a.749.749 0 0 1-1.275-.326.749.749 0 0 1 .215-.734L13.94 8l-3.72-3.72a.749.749 0 0 1 .326-1.275.749.749 0 0 1 .734.215Zm-6.56 0a.751.751 0 0 1 1.042.018.751.751 0 0 1 .018 1.042L2.06 8l3.72 3.72a.749.749 0 0 1-.326 1.275.749.749 0 0 1-.734-.215L.47 8.53a.75.75 0 0 1 0-1.06Z\"></path>\\n</svg>\\n</template>\\n\\n<template id=\"file-code-icon\">\\n  <svg aria-hidden=\"true\" height=\"16\" viewBox=\"0 0 16 16\" version=\"1.1\" width=\"16\" data-view-component=\"true\" class=\"octicon octicon-file-code\">\\n    <path d=\"M4 1.75C4 .784 4.784 0 5.75 0h5.586c.464 0 .909.184 1.237.513l2.914 2.914c.329.328.513.773.513 1.237v8.586A1.75 1.75 0 0 1 14.25 15h-9a.75.75 0 0 1 0-1.5h9a.25.25 0 0 0 .25-.25V6h-2.75A1.75 1.75 0 0 1 10 4.25V1.5H5.75a.25.25 0 0 0-.25.25v2.5a.75.75 0 0 1-1.5 0Zm1.72 4.97a.75.75 0 0 1 1.06 0l2 2a.75.75 0 0 1 0 1.06l-2 2a.749.749 0 0 1-1.275-.326.749.749 0 0 1 .215-.734l1.47-1.47-1.47-1.47a.75.75 0 0 1 0-1.06ZM3.28 7.78 1.81 9.25l1.47 1.47a.751.751 0 0 1-.018 1.042.751.751 0 0 1-1.042.018l-2-2a.75.75 0 0 1 0-1.06l2-2a.751.751 0 0 1 1.042.018.751.751 0 0 1 .018 1.042Zm8.22-6.218V4.25c0 .138.112.25.25.25h2.688l-.011-.013-2.914-2.914-.013-.011Z\"></path>\\n</svg>\\n</template>\\n\\n<template id=\"history-icon\">\\n  <svg aria-hidden=\"true\" height=\"16\" viewBox=\"0 0 16 16\" version=\"1.1\" width=\"16\" data-view-component=\"true\" class=\"octicon octicon-history\">\\n    <path d=\"m.427 1.927 1.215 1.215a8.002 8.002 0 1 1-1.6 5.685.75.75 0 1 1 1.493-.154 6.5 6.5 0 1 0 1.18-4.458l1.358 1.358A.25.25 0 0 1 3.896 6H.25A.25.25 0 0 1 0 5.75V2.104a.25.25 0 0 1 .427-.177ZM7.75 4a.75.75 0 0 1 .75.75v2.992l2.028.812a.75.75 0 0 1-.557 1.392l-2.5-1A.751.751 0 0 1 7 8.25v-3.5A.75.75 0 0 1 7.75 4Z\"></path>\\n</svg>\\n</template>\\n\\n<template id=\"repo-icon\">\\n  <svg aria-hidden=\"true\" height=\"16\" viewBox=\"0 0 16 16\" version=\"1.1\" width=\"16\" data-view-component=\"true\" class=\"octicon octicon-repo\">\\n    <path d=\"M2 2.5A2.5 2.5 0 0 1 4.5 0h8.75a.75.75 0 0 1 .75.75v12.5a.75.75 0 0 1-.75.75h-2.5a.75.75 0 0 1 0-1.5h1.75v-2h-8a1 1 0 0 0-.714 1.7.75.75 0 1 1-1.072 1.05A2.495 2.495 0 0 1 2 11.5Zm10.5-1h-8a1 1 0 0 0-1 1v6.708A2.486 2.486 0 0 1 4.5 9h8ZM5 12.25a.25.25 0 0 1 .25-.25h3.5a.25.25 0 0 1 .25.25v3.25a.25.25 0 0 1-.4.2l-1.45-1.087a.249.249 0 0 0-.3 0L5.4 15.7a.25.25 0 0 1-.4-.2Z\"></path>\\n</svg>\\n</template>\\n\\n<template id=\"bookmark-icon\">\\n  <svg aria-hidden=\"true\" height=\"16\" viewBox=\"0 0 16 16\" version=\"1.1\" width=\"16\" data-view-component=\"true\" class=\"octicon octicon-bookmark\">\\n    <path d=\"M3 2.75C3 1.784 3.784 1 4.75 1h6.5c.966 0 1.75.784 1.75 1.75v11.5a.75.75 0 0 1-1.227.579L8 11.722l-3.773 3.107A.751.751 0 0 1 3 14.25Zm1.75-.25a.25.25 0 0 0-.25.25v9.91l3.023-2.489a.75.75 0 0 1 .954 0l3.023 2.49V2.75a.25.25 0 0 0-.25-.25Z\"></path>\\n</svg>\\n</template>\\n\\n<template id=\"plus-circle-icon\">\\n  <svg aria-hidden=\"true\" height=\"16\" viewBox=\"0 0 16 16\" version=\"1.1\" width=\"16\" data-view-component=\"true\" class=\"octicon octicon-plus-circle\">\\n    <path d=\"M8 0a8 8 0 1 1 0 16A8 8 0 0 1 8 0ZM1.5 8a6.5 6.5 0 1 0 13 0 6.5 6.5 0 0 0-13 0Zm7.25-3.25v2.5h2.5a.75.75 0 0 1 0 1.5h-2.5v2.5a.75.75 0 0 1-1.5 0v-2.5h-2.5a.75.75 0 0 1 0-1.5h2.5v-2.5a.75.75 0 0 1 1.5 0Z\"></path>\\n</svg>\\n</template>\\n\\n<template id=\"circle-icon\">\\n  <svg aria-hidden=\"true\" height=\"16\" viewBox=\"0 0 16 16\" version=\"1.1\" width=\"16\" data-view-component=\"true\" class=\"octicon octicon-dot-fill\">\\n    <path d=\"M8 4a4 4 0 1 1 0 8 4 4 0 0 1 0-8Z\"></path>\\n</svg>\\n</template>\\n\\n<template id=\"trash-icon\">\\n  <svg aria-hidden=\"true\" height=\"16\" viewBox=\"0 0 16 16\" version=\"1.1\" width=\"16\" data-view-component=\"true\" class=\"octicon octicon-trash\">\\n    <path d=\"M11 1.75V3h2.25a.75.75 0 0 1 0 1.5H2.75a.75.75 0 0 1 0-1.5H5V1.75C5 .784 5.784 0 6.75 0h2.5C10.216 0 11 .784 11 1.75ZM4.496 6.675l.66 6.6a.25.25 0 0 0 .249.225h5.19a.25.25 0 0 0 .249-.225l.66-6.6a.75.75 0 0 1 1.492.149l-.66 6.6A1.748 1.748 0 0 1 10.595 15h-5.19a1.75 1.75 0 0 1-1.741-1.575l-.66-6.6a.75.75 0 1 1 1.492-.15ZM6.5 1.75V3h3V1.75a.25.25 0 0 0-.25-.25h-2.5a.25.25 0 0 0-.25.25Z\"></path>\\n</svg>\\n</template>\\n\\n<template id=\"team-icon\">\\n  <svg aria-hidden=\"true\" height=\"16\" viewBox=\"0 0 16 16\" version=\"1.1\" width=\"16\" data-view-component=\"true\" class=\"octicon octicon-people\">\\n    <path d=\"M2 5.5a3.5 3.5 0 1 1 5.898 2.549 5.508 5.508 0 0 1 3.034 4.084.75.75 0 1 1-1.482.235 4 4 0 0 0-7.9 0 .75.75 0 0 1-1.482-.236A5.507 5.507 0 0 1 3.102 8.05 3.493 3.493 0 0 1 2 5.5ZM11 4a3.001 3.001 0 0 1 2.22 5.018 5.01 5.01 0 0 1 2.56 3.012.749.749 0 0 1-.885.954.752.752 0 0 1-.549-.514 3.507 3.507 0 0 0-2.522-2.372.75.75 0 0 1-.574-.73v-.352a.75.75 0 0 1 .416-.672A1.5 1.5 0 0 0 11 5.5.75.75 0 0 1 11 4Zm-5.5-.5a2 2 0 1 0-.001 3.999A2 2 0 0 0 5.5 3.5Z\"></path>\\n</svg>\\n</template>\\n\\n<template id=\"project-icon\">\\n  <svg aria-hidden=\"true\" height=\"16\" viewBox=\"0 0 16 16\" version=\"1.1\" width=\"16\" data-view-component=\"true\" class=\"octicon octicon-project\">\\n    <path d=\"M1.75 0h12.5C15.216 0 16 .784 16 1.75v12.5A1.75 1.75 0 0 1 14.25 16H1.75A1.75 1.75 0 0 1 0 14.25V1.75C0 .784.784 0 1.75 0ZM1.5 1.75v12.5c0 .138.112.25.25.25h12.5a.25.25 0 0 0 .25-.25V1.75a.25.25 0 0 0-.25-.25H1.75a.25.25 0 0 0-.25.25ZM11.75 3a.75.75 0 0 1 .75.75v7.5a.75.75 0 0 1-1.5 0v-7.5a.75.75 0 0 1 .75-.75Zm-8.25.75a.75.75 0 0 1 1.5 0v5.5a.75.75 0 0 1-1.5 0ZM8 3a.75.75 0 0 1 .75.75v3.5a.75.75 0 0 1-1.5 0v-3.5A.75.75 0 0 1 8 3Z\"></path>\\n</svg>\\n</template>\\n\\n<template id=\"pencil-icon\">\\n  <svg aria-hidden=\"true\" height=\"16\" viewBox=\"0 0 16 16\" version=\"1.1\" width=\"16\" data-view-component=\"true\" class=\"octicon octicon-pencil\">\\n    <path d=\"M11.013 1.427a1.75 1.75 0 0 1 2.474 0l1.086 1.086a1.75 1.75 0 0 1 0 2.474l-8.61 8.61c-.21.21-.47.364-.756.445l-3.251.93a.75.75 0 0 1-.927-.928l.929-3.25c.081-.286.235-.547.445-.758l8.61-8.61Zm.176 4.823L9.75 4.81l-6.286 6.287a.253.253 0 0 0-.064.108l-.558 1.953 1.953-.558a.253.253 0 0 0 .108-.064Zm1.238-3.763a.25.25 0 0 0-.354 0L10.811 3.75l1.439 1.44 1.263-1.263a.25.25 0 0 0 0-.354Z\"></path>\\n</svg>\\n</template>\\n\\n<template id=\"copilot-icon\">\\n  <svg aria-hidden=\"true\" height=\"16\" viewBox=\"0 0 16 16\" version=\"1.1\" width=\"16\" data-view-component=\"true\" class=\"octicon octicon-copilot\">\\n    <path d=\"M7.998 15.035c-4.562 0-7.873-2.914-7.998-3.749V9.338c.085-.628.677-1.686 1.588-2.065.013-.07.024-.143.036-.218.029-.183.06-.384.126-.612-.201-.508-.254-1.084-.254-1.656 0-.87.128-1.769.693-2.484.579-.733 1.494-1.124 2.724-1.261 1.206-.134 2.262.034 2.944.765.05.053.096.108.139.165.044-.057.094-.112.143-.165.682-.731 1.738-.899 2.944-.765 1.23.137 2.145.528 2.724 1.261.566.715.693 1.614.693 2.484 0 .572-.053 1.148-.254 1.656.066.228.098.429.126.612.012.076.024.148.037.218.924.385 1.522 1.471 1.591 2.095v1.872c0 .766-3.351 3.795-8.002 3.795Zm0-1.485c2.28 0 4.584-1.11 5.002-1.433V7.862l-.023-.116c-.49.21-1.075.291-1.727.291-1.146 0-2.059-.327-2.71-.991A3.222 3.222 0 0 1 8 6.303a3.24 3.24 0 0 1-.544.743c-.65.664-1.563.991-2.71.991-.652 0-1.236-.081-1.727-.291l-.023.116v4.255c.419.323 2.722 1.433 5.002 1.433ZM6.762 2.83c-.193-.206-.637-.413-1.682-.297-1.019.113-1.479.404-1.713.7-.247.312-.369.789-.369 1.554 0 .793.129 1.171.308 1.371.162.181.519.379 1.442.379.853 0 1.339-.235 1.638-.54.315-.322.527-.827.617-1.553.117-.935-.037-1.395-.241-1.614Zm4.155-.297c-1.044-.116-1.488.091-1.681.297-.204.219-.359.679-.242 1.614.091.726.303 1.231.618 1.553.299.305.784.54 1.638.54.922 0 1.28-.198 1.442-.379.179-.2.308-.578.308-1.371 0-.765-.123-1.242-.37-1.554-.233-.296-.693-.587-1.713-.7Z\"></path><path d=\"M6.25 9.037a.75.75 0 0 1 .75.75v1.501a.75.75 0 0 1-1.5 0V9.787a.75.75 0 0 1 .75-.75Zm4.25.75v1.501a.75.75 0 0 1-1.5 0V9.787a.75.75 0 0 1 1.5 0Z\"></path>\\n</svg>\\n</template>\\n\\n<template id=\"copilot-error-icon\">\\n  <svg aria-hidden=\"true\" height=\"16\" viewBox=\"0 0 16 16\" version=\"1.1\" width=\"16\" data-view-component=\"true\" class=\"octicon octicon-copilot-error\">\\n    <path d=\"M16 11.24c0 .112-.072.274-.21.467L13 9.688V7.862l-.023-.116c-.49.21-1.075.291-1.727.291-.198 0-.388-.009-.571-.029L6.833 5.226a4.01 4.01 0 0 0 .17-.782c.117-.935-.037-1.395-.241-1.614-.193-.206-.637-.413-1.682-.297-.683.076-1.115.231-1.395.415l-1.257-.91c.579-.564 1.413-.877 2.485-.996 1.206-.134 2.262.034 2.944.765.05.053.096.108.139.165.044-.057.094-.112.143-.165.682-.731 1.738-.899 2.944-.765 1.23.137 2.145.528 2.724 1.261.566.715.693 1.614.693 2.484 0 .572-.053 1.148-.254 1.656.066.228.098.429.126.612.012.076.024.148.037.218.924.385 1.522 1.471 1.591 2.095Zm-5.083-8.707c-1.044-.116-1.488.091-1.681.297-.204.219-.359.679-.242 1.614.091.726.303 1.231.618 1.553.299.305.784.54 1.638.54.922 0 1.28-.198 1.442-.379.179-.2.308-.578.308-1.371 0-.765-.123-1.242-.37-1.554-.233-.296-.693-.587-1.713-.7Zm2.511 11.074c-1.393.776-3.272 1.428-5.43 1.428-4.562 0-7.873-2.914-7.998-3.749V9.338c.085-.628.677-1.686 1.588-2.065.013-.07.024-.143.036-.218.029-.183.06-.384.126-.612-.18-.455-.241-.963-.252-1.475L.31 4.107A.747.747 0 0 1 0 3.509V3.49a.748.748 0 0 1 .625-.73c.156-.026.306.047.435.139l14.667 10.578a.592.592 0 0 1 .227.264.752.752 0 0 1 .046.249v.022a.75.75 0 0 1-1.19.596Zm-1.367-.991L5.635 7.964a5.128 5.128 0 0 1-.889.073c-.652 0-1.236-.081-1.727-.291l-.023.116v4.255c.419.323 2.722 1.433 5.002 1.433 1.539 0 3.089-.505 4.063-.934Z\"></path>\\n</svg>\\n</template>\\n\\n<template id=\"workflow-icon\">\\n  <svg aria-hidden=\"true\" height=\"16\" viewBox=\"0 0 16 16\" version=\"1.1\" width=\"16\" data-view-component=\"true\" class=\"octicon octicon-workflow\">\\n    <path d=\"M0 1.75C0 .784.784 0 1.75 0h3.5C6.216 0 7 .784 7 1.75v3.5A1.75 1.75 0 0 1 5.25 7H4v4a1 1 0 0 0 1 1h4v-1.25C9 9.784 9.784 9 10.75 9h3.5c.966 0 1.75.784 1.75 1.75v3.5A1.75 1.75 0 0 1 14.25 16h-3.5A1.75 1.75 0 0 1 9 14.25v-.75H5A2.5 2.5 0 0 1 2.5 11V7h-.75A1.75 1.75 0 0 1 0 5.25Zm1.75-.25a.25.25 0 0 0-.25.25v3.5c0 .138.112.25.25.25h3.5a.25.25 0 0 0 .25-.25v-3.5a.25.25 0 0 0-.25-.25Zm9 9a.25.25 0 0 0-.25.25v3.5c0 .138.112.25.25.25h3.5a.25.25 0 0 0 .25-.25v-3.5a.25.25 0 0 0-.25-.25Z\"></path>\\n</svg>\\n</template>\\n\\n<template id=\"book-icon\">\\n  <svg aria-hidden=\"true\" height=\"16\" viewBox=\"0 0 16 16\" version=\"1.1\" width=\"16\" data-view-component=\"true\" class=\"octicon octicon-book\">\\n    <path d=\"M0 1.75A.75.75 0 0 1 .75 1h4.253c1.227 0 2.317.59 3 1.501A3.743 3.743 0 0 1 11.006 1h4.245a.75.75 0 0 1 .75.75v10.5a.75.75 0 0 1-.75.75h-4.507a2.25 2.25 0 0 0-1.591.659l-.622.621a.75.75 0 0 1-1.06 0l-.622-.621A2.25 2.25 0 0 0 5.258 13H.75a.75.75 0 0 1-.75-.75Zm7.251 10.324.004-5.073-.002-2.253A2.25 2.25 0 0 0 5.003 2.5H1.5v9h3.757a3.75 3.75 0 0 1 1.994.574ZM8.755 4.75l-.004 7.322a3.752 3.752 0 0 1 1.992-.572H14.5v-9h-3.495a2.25 2.25 0 0 0-2.25 2.25Z\"></path>\\n</svg>\\n</template>\\n\\n<template id=\"code-review-icon\">\\n  <svg aria-hidden=\"true\" height=\"16\" viewBox=\"0 0 16 16\" version=\"1.1\" width=\"16\" data-view-component=\"true\" class=\"octicon octicon-code-review\">\\n    <path d=\"M1.75 1h12.5c.966 0 1.75.784 1.75 1.75v8.5A1.75 1.75 0 0 1 14.25 13H8.061l-2.574 2.573A1.458 1.458 0 0 1 3 14.543V13H1.75A1.75 1.75 0 0 1 0 11.25v-8.5C0 1.784.784 1 1.75 1ZM1.5 2.75v8.5c0 .138.112.25.25.25h2a.75.75 0 0 1 .75.75v2.19l2.72-2.72a.749.749 0 0 1 .53-.22h6.5a.25.25 0 0 0 .25-.25v-8.5a.25.25 0 0 0-.25-.25H1.75a.25.25 0 0 0-.25.25Zm5.28 1.72a.75.75 0 0 1 0 1.06L5.31 7l1.47 1.47a.751.751 0 0 1-.018 1.042.751.751 0 0 1-1.042.018l-2-2a.75.75 0 0 1 0-1.06l2-2a.75.75 0 0 1 1.06 0Zm2.44 0a.75.75 0 0 1 1.06 0l2 2a.75.75 0 0 1 0 1.06l-2 2a.751.751 0 0 1-1.042-.018.751.751 0 0 1-.018-1.042L10.69 7 9.22 5.53a.75.75 0 0 1 0-1.06Z\"></path>\\n</svg>\\n</template>\\n\\n<template id=\"codespaces-icon\">\\n  <svg aria-hidden=\"true\" height=\"16\" viewBox=\"0 0 16 16\" version=\"1.1\" width=\"16\" data-view-component=\"true\" class=\"octicon octicon-codespaces\">\\n    <path d=\"M0 11.25c0-.966.784-1.75 1.75-1.75h12.5c.966 0 1.75.784 1.75 1.75v3A1.75 1.75 0 0 1 14.25 16H1.75A1.75 1.75 0 0 1 0 14.25Zm2-9.5C2 .784 2.784 0 3.75 0h8.5C13.216 0 14 .784 14 1.75v5a1.75 1.75 0 0 1-1.75 1.75h-8.5A1.75 1.75 0 0 1 2 6.75Zm1.75-.25a.25.25 0 0 0-.25.25v5c0 .138.112.25.25.25h8.5a.25.25 0 0 0 .25-.25v-5a.25.25 0 0 0-.25-.25Zm-2 9.5a.25.25 0 0 0-.25.25v3c0 .138.112.25.25.25h12.5a.25.25 0 0 0 .25-.25v-3a.25.25 0 0 0-.25-.25Z\"></path><path d=\"M7 12.75a.75.75 0 0 1 .75-.75h4.5a.75.75 0 0 1 0 1.5h-4.5a.75.75 0 0 1-.75-.75Zm-4 0a.75.75 0 0 1 .75-.75h.5a.75.75 0 0 1 0 1.5h-.5a.75.75 0 0 1-.75-.75Z\"></path>\\n</svg>\\n</template>\\n\\n<template id=\"comment-icon\">\\n  <svg aria-hidden=\"true\" height=\"16\" viewBox=\"0 0 16 16\" version=\"1.1\" width=\"16\" data-view-component=\"true\" class=\"octicon octicon-comment\">\\n    <path d=\"M1 2.75C1 1.784 1.784 1 2.75 1h10.5c.966 0 1.75.784 1.75 1.75v7.5A1.75 1.75 0 0 1 13.25 12H9.06l-2.573 2.573A1.458 1.458 0 0 1 4 13.543V12H2.75A1.75 1.75 0 0 1 1 10.25Zm1.75-.25a.25.25 0 0 0-.25.25v7.5c0 .138.112.25.25.25h2a.75.75 0 0 1 .75.75v2.19l2.72-2.72a.749.749 0 0 1 .53-.22h4.5a.25.25 0 0 0 .25-.25v-7.5a.25.25 0 0 0-.25-.25Z\"></path>\\n</svg>\\n</template>\\n\\n<template id=\"comment-discussion-icon\">\\n  <svg aria-hidden=\"true\" height=\"16\" viewBox=\"0 0 16 16\" version=\"1.1\" width=\"16\" data-view-component=\"true\" class=\"octicon octicon-comment-discussion\">\\n    <path d=\"M1.75 1h8.5c.966 0 1.75.784 1.75 1.75v5.5A1.75 1.75 0 0 1 10.25 10H7.061l-2.574 2.573A1.458 1.458 0 0 1 2 11.543V10h-.25A1.75 1.75 0 0 1 0 8.25v-5.5C0 1.784.784 1 1.75 1ZM1.5 2.75v5.5c0 .138.112.25.25.25h1a.75.75 0 0 1 .75.75v2.19l2.72-2.72a.749.749 0 0 1 .53-.22h3.5a.25.25 0 0 0 .25-.25v-5.5a.25.25 0 0 0-.25-.25h-8.5a.25.25 0 0 0-.25.25Zm13 2a.25.25 0 0 0-.25-.25h-.5a.75.75 0 0 1 0-1.5h.5c.966 0 1.75.784 1.75 1.75v5.5A1.75 1.75 0 0 1 14.25 12H14v1.543a1.458 1.458 0 0 1-2.487 1.03L9.22 12.28a.749.749 0 0 1 .326-1.275.749.749 0 0 1 .734.215l2.22 2.22v-2.19a.75.75 0 0 1 .75-.75h1a.25.25 0 0 0 .25-.25Z\"></path>\\n</svg>\\n</template>\\n\\n<template id=\"organization-icon\">\\n  <svg aria-hidden=\"true\" height=\"16\" viewBox=\"0 0 16 16\" version=\"1.1\" width=\"16\" data-view-component=\"true\" class=\"octicon octicon-organization\">\\n    <path d=\"M1.75 16A1.75 1.75 0 0 1 0 14.25V1.75C0 .784.784 0 1.75 0h8.5C11.216 0 12 .784 12 1.75v12.5c0 .085-.006.168-.018.25h2.268a.25.25 0 0 0 .25-.25V8.285a.25.25 0 0 0-.111-.208l-1.055-.703a.749.749 0 1 1 .832-1.248l1.055.703c.487.325.779.871.779 1.456v5.965A1.75 1.75 0 0 1 14.25 16h-3.5a.766.766 0 0 1-.197-.026c-.099.017-.2.026-.303.026h-3a.75.75 0 0 1-.75-.75V14h-1v1.25a.75.75 0 0 1-.75.75Zm-.25-1.75c0 .138.112.25.25.25H4v-1.25a.75.75 0 0 1 .75-.75h2.5a.75.75 0 0 1 .75.75v1.25h2.25a.25.25 0 0 0 .25-.25V1.75a.25.25 0 0 0-.25-.25h-8.5a.25.25 0 0 0-.25.25ZM3.75 6h.5a.75.75 0 0 1 0 1.5h-.5a.75.75 0 0 1 0-1.5ZM3 3.75A.75.75 0 0 1 3.75 3h.5a.75.75 0 0 1 0 1.5h-.5A.75.75 0 0 1 3 3.75Zm4 3A.75.75 0 0 1 7.75 6h.5a.75.75 0 0 1 0 1.5h-.5A.75.75 0 0 1 7 6.75ZM7.75 3h.5a.75.75 0 0 1 0 1.5h-.5a.75.75 0 0 1 0-1.5ZM3 9.75A.75.75 0 0 1 3.75 9h.5a.75.75 0 0 1 0 1.5h-.5A.75.75 0 0 1 3 9.75ZM7.75 9h.5a.75.75 0 0 1 0 1.5h-.5a.75.75 0 0 1 0-1.5Z\"></path>\\n</svg>\\n</template>\\n\\n<template id=\"rocket-icon\">\\n  <svg aria-hidden=\"true\" height=\"16\" viewBox=\"0 0 16 16\" version=\"1.1\" width=\"16\" data-view-component=\"true\" class=\"octicon octicon-rocket\">\\n    <path d=\"M14.064 0h.186C15.216 0 16 .784 16 1.75v.186a8.752 8.752 0 0 1-2.564 6.186l-.458.459c-.314.314-.641.616-.979.904v3.207c0 .608-.315 1.172-.833 1.49l-2.774 1.707a.749.749 0 0 1-1.11-.418l-.954-3.102a1.214 1.214 0 0 1-.145-.125L3.754 9.816a1.218 1.218 0 0 1-.124-.145L.528 8.717a.749.749 0 0 1-.418-1.11l1.71-2.774A1.748 1.748 0 0 1 3.31 4h3.204c.288-.338.59-.665.904-.979l.459-.458A8.749 8.749 0 0 1 14.064 0ZM8.938 3.623h-.002l-.458.458c-.76.76-1.437 1.598-2.02 2.5l-1.5 2.317 2.143 2.143 2.317-1.5c.902-.583 1.74-1.26 2.499-2.02l.459-.458a7.25 7.25 0 0 0 2.123-5.127V1.75a.25.25 0 0 0-.25-.25h-.186a7.249 7.249 0 0 0-5.125 2.123ZM3.56 14.56c-.732.732-2.334 1.045-3.005 1.148a.234.234 0 0 1-.201-.064.234.234 0 0 1-.064-.201c.103-.671.416-2.273 1.15-3.003a1.502 1.502 0 1 1 2.12 2.12Zm6.94-3.935c-.088.06-.177.118-.266.175l-2.35 1.521.548 1.783 1.949-1.2a.25.25 0 0 0 .119-.213ZM3.678 8.116 5.2 5.766c.058-.09.117-.178.176-.266H3.309a.25.25 0 0 0-.213.119l-1.2 1.95ZM12 5a1 1 0 1 1-2 0 1 1 0 0 1 2 0Z\"></path>\\n</svg>\\n</template>\\n\\n<template id=\"shield-check-icon\">\\n  <svg aria-hidden=\"true\" height=\"16\" viewBox=\"0 0 16 16\" version=\"1.1\" width=\"16\" data-view-component=\"true\" class=\"octicon octicon-shield-check\">\\n    <path d=\"m8.533.133 5.25 1.68A1.75 1.75 0 0 1 15 3.48V7c0 1.566-.32 3.182-1.303 4.682-.983 1.498-2.585 2.813-5.032 3.855a1.697 1.697 0 0 1-1.33 0c-2.447-1.042-4.049-2.357-5.032-3.855C1.32 10.182 1 8.566 1 7V3.48a1.75 1.75 0 0 1 1.217-1.667l5.25-1.68a1.748 1.748 0 0 1 1.066 0Zm-.61 1.429.001.001-5.25 1.68a.251.251 0 0 0-.174.237V7c0 1.36.275 2.666 1.057 3.859.784 1.194 2.121 2.342 4.366 3.298a.196.196 0 0 0 .154 0c2.245-.957 3.582-2.103 4.366-3.297C13.225 9.666 13.5 8.358 13.5 7V3.48a.25.25 0 0 0-.174-.238l-5.25-1.68a.25.25 0 0 0-.153 0ZM11.28 6.28l-3.5 3.5a.75.75 0 0 1-1.06 0l-1.5-1.5a.749.749 0 0 1 .326-1.275.749.749 0 0 1 .734.215l.97.97 2.97-2.97a.751.751 0 0 1 1.042.018.751.751 0 0 1 .018 1.042Z\"></path>\\n</svg>\\n</template>\\n\\n<template id=\"heart-icon\">\\n  <svg aria-hidden=\"true\" height=\"16\" viewBox=\"0 0 16 16\" version=\"1.1\" width=\"16\" data-view-component=\"true\" class=\"octicon octicon-heart\">\\n    <path d=\"m8 14.25.345.666a.75.75 0 0 1-.69 0l-.008-.004-.018-.01a7.152 7.152 0 0 1-.31-.17 22.055 22.055 0 0 1-3.434-2.414C2.045 10.731 0 8.35 0 5.5 0 2.836 2.086 1 4.25 1 5.797 1 7.153 1.802 8 3.02 8.847 1.802 10.203 1 11.75 1 13.914 1 16 2.836 16 5.5c0 2.85-2.045 5.231-3.885 6.818a22.066 22.066 0 0 1-3.744 2.584l-.018.01-.006.003h-.002ZM4.25 2.5c-1.336 0-2.75 1.164-2.75 3 0 2.15 1.58 4.144 3.365 5.682A20.58 20.58 0 0 0 8 13.393a20.58 20.58 0 0 0 3.135-2.211C12.92 9.644 14.5 7.65 14.5 5.5c0-1.836-1.414-3-2.75-3-1.373 0-2.609.986-3.029 2.456a.749.749 0 0 1-1.442 0C6.859 3.486 5.623 2.5 4.25 2.5Z\"></path>\\n</svg>\\n</template>\\n\\n<template id=\"server-icon\">\\n  <svg aria-hidden=\"true\" height=\"16\" viewBox=\"0 0 16 16\" version=\"1.1\" width=\"16\" data-view-component=\"true\" class=\"octicon octicon-server\">\\n    <path d=\"M1.75 1h12.5c.966 0 1.75.784 1.75 1.75v4c0 .372-.116.717-.314 1 .198.283.314.628.314 1v4a1.75 1.75 0 0 1-1.75 1.75H1.75A1.75 1.75 0 0 1 0 12.75v-4c0-.358.109-.707.314-1a1.739 1.739 0 0 1-.314-1v-4C0 1.784.784 1 1.75 1ZM1.5 2.75v4c0 .138.112.25.25.25h12.5a.25.25 0 0 0 .25-.25v-4a.25.25 0 0 0-.25-.25H1.75a.25.25 0 0 0-.25.25Zm.25 5.75a.25.25 0 0 0-.25.25v4c0 .138.112.25.25.25h12.5a.25.25 0 0 0 .25-.25v-4a.25.25 0 0 0-.25-.25ZM7 4.75A.75.75 0 0 1 7.75 4h4.5a.75.75 0 0 1 0 1.5h-4.5A.75.75 0 0 1 7 4.75ZM7.75 10h4.5a.75.75 0 0 1 0 1.5h-4.5a.75.75 0 0 1 0-1.5ZM3 4.75A.75.75 0 0 1 3.75 4h.5a.75.75 0 0 1 0 1.5h-.5A.75.75 0 0 1 3 4.75ZM3.75 10h.5a.75.75 0 0 1 0 1.5h-.5a.75.75 0 0 1 0-1.5Z\"></path>\\n</svg>\\n</template>\\n\\n<template id=\"globe-icon\">\\n  <svg aria-hidden=\"true\" height=\"16\" viewBox=\"0 0 16 16\" version=\"1.1\" width=\"16\" data-view-component=\"true\" class=\"octicon octicon-globe\">\\n    <path d=\"M8 0a8 8 0 1 1 0 16A8 8 0 0 1 8 0ZM5.78 8.75a9.64 9.64 0 0 0 1.363 4.177c.255.426.542.832.857 1.215.245-.296.551-.705.857-1.215A9.64 9.64 0 0 0 10.22 8.75Zm4.44-1.5a9.64 9.64 0 0 0-1.363-4.177c-.307-.51-.612-.919-.857-1.215a9.927 9.927 0 0 0-.857 1.215A9.64 9.64 0 0 0 5.78 7.25Zm-5.944 1.5H1.543a6.507 6.507 0 0 0 4.666 5.5c-.123-.181-.24-.365-.352-.552-.715-1.192-1.437-2.874-1.581-4.948Zm-2.733-1.5h2.733c.144-2.074.866-3.756 1.58-4.948.12-.197.237-.381.353-.552a6.507 6.507 0 0 0-4.666 5.5Zm10.181 1.5c-.144 2.074-.866 3.756-1.58 4.948-.12.197-.237.381-.353.552a6.507 6.507 0 0 0 4.666-5.5Zm2.733-1.5a6.507 6.507 0 0 0-4.666-5.5c.123.181.24.365.353.552.714 1.192 1.436 2.874 1.58 4.948Z\"></path>\\n</svg>\\n</template>\\n\\n<template id=\"issue-opened-icon\">\\n  <svg aria-hidden=\"true\" height=\"16\" viewBox=\"0 0 16 16\" version=\"1.1\" width=\"16\" data-view-component=\"true\" class=\"octicon octicon-issue-opened\">\\n    <path d=\"M8 9.5a1.5 1.5 0 1 0 0-3 1.5 1.5 0 0 0 0 3Z\"></path><path d=\"M8 0a8 8 0 1 1 0 16A8 8 0 0 1 8 0ZM1.5 8a6.5 6.5 0 1 0 13 0 6.5 6.5 0 0 0-13 0Z\"></path>\\n</svg>\\n</template>\\n\\n<template id=\"device-mobile-icon\">\\n  <svg aria-hidden=\"true\" height=\"16\" viewBox=\"0 0 16 16\" version=\"1.1\" width=\"16\" data-view-component=\"true\" class=\"octicon octicon-device-mobile\">\\n    <path d=\"M3.75 0h8.5C13.216 0 14 .784 14 1.75v12.5A1.75 1.75 0 0 1 12.25 16h-8.5A1.75 1.75 0 0 1 2 14.25V1.75C2 .784 2.784 0 3.75 0ZM3.5 1.75v12.5c0 .138.112.25.25.25h8.5a.25.25 0 0 0 .25-.25V1.75a.25.25 0 0 0-.25-.25h-8.5a.25.25 0 0 0-.25.25ZM8 13a1 1 0 1 1 0-2 1 1 0 0 1 0 2Z\"></path>\\n</svg>\\n</template>\\n\\n<template id=\"package-icon\">\\n  <svg aria-hidden=\"true\" height=\"16\" viewBox=\"0 0 16 16\" version=\"1.1\" width=\"16\" data-view-component=\"true\" class=\"octicon octicon-package\">\\n    <path d=\"m8.878.392 5.25 3.045c.54.314.872.89.872 1.514v6.098a1.75 1.75 0 0 1-.872 1.514l-5.25 3.045a1.75 1.75 0 0 1-1.756 0l-5.25-3.045A1.75 1.75 0 0 1 1 11.049V4.951c0-.624.332-1.201.872-1.514L7.122.392a1.75 1.75 0 0 1 1.756 0ZM7.875 1.69l-4.63 2.685L8 7.133l4.755-2.758-4.63-2.685a.248.248 0 0 0-.25 0ZM2.5 5.677v5.372c0 .09.047.171.125.216l4.625 2.683V8.432Zm6.25 8.271 4.625-2.683a.25.25 0 0 0 .125-.216V5.677L8.75 8.432Z\"></path>\\n</svg>\\n</template>\\n\\n<template id=\"credit-card-icon\">\\n  <svg aria-hidden=\"true\" height=\"16\" viewBox=\"0 0 16 16\" version=\"1.1\" width=\"16\" data-view-component=\"true\" class=\"octicon octicon-credit-card\">\\n    <path d=\"M10.75 9a.75.75 0 0 0 0 1.5h1.5a.75.75 0 0 0 0-1.5h-1.5Z\"></path><path d=\"M0 3.75C0 2.784.784 2 1.75 2h12.5c.966 0 1.75.784 1.75 1.75v8.5A1.75 1.75 0 0 1 14.25 14H1.75A1.75 1.75 0 0 1 0 12.25ZM14.5 6.5h-13v5.75c0 .138.112.25.25.25h12.5a.25.25 0 0 0 .25-.25Zm0-2.75a.25.25 0 0 0-.25-.25H1.75a.25.25 0 0 0-.25.25V5h13Z\"></path>\\n</svg>\\n</template>\\n\\n<template id=\"play-icon\">\\n  <svg aria-hidden=\"true\" height=\"16\" viewBox=\"0 0 16 16\" version=\"1.1\" width=\"16\" data-view-component=\"true\" class=\"octicon octicon-play\">\\n    <path d=\"M8 0a8 8 0 1 1 0 16A8 8 0 0 1 8 0ZM1.5 8a6.5 6.5 0 1 0 13 0 6.5 6.5 0 0 0-13 0Zm4.879-2.773 4.264 2.559a.25.25 0 0 1 0 .428l-4.264 2.559A.25.25 0 0 1 6 10.559V5.442a.25.25 0 0 1 .379-.215Z\"></path>\\n</svg>\\n</template>\\n\\n<template id=\"gift-icon\">\\n  <svg aria-hidden=\"true\" height=\"16\" viewBox=\"0 0 16 16\" version=\"1.1\" width=\"16\" data-view-component=\"true\" class=\"octicon octicon-gift\">\\n    <path d=\"M2 2.75A2.75 2.75 0 0 1 4.75 0c.983 0 1.873.42 2.57 1.232.268.318.497.668.68 1.042.183-.375.411-.725.68-1.044C9.376.42 10.266 0 11.25 0a2.75 2.75 0 0 1 2.45 4h.55c.966 0 1.75.784 1.75 1.75v2c0 .698-.409 1.301-1 1.582v4.918A1.75 1.75 0 0 1 13.25 16H2.75A1.75 1.75 0 0 1 1 14.25V9.332C.409 9.05 0 8.448 0 7.75v-2C0 4.784.784 4 1.75 4h.55c-.192-.375-.3-.8-.3-1.25ZM7.25 9.5H2.5v4.75c0 .138.112.25.25.25h4.5Zm1.5 0v5h4.5a.25.25 0 0 0 .25-.25V9.5Zm0-4V8h5.5a.25.25 0 0 0 .25-.25v-2a.25.25 0 0 0-.25-.25Zm-7 0a.25.25 0 0 0-.25.25v2c0 .138.112.25.25.25h5.5V5.5h-5.5Zm3-4a1.25 1.25 0 0 0 0 2.5h2.309c-.233-.818-.542-1.401-.878-1.793-.43-.502-.915-.707-1.431-.707ZM8.941 4h2.309a1.25 1.25 0 0 0 0-2.5c-.516 0-1 .205-1.43.707-.337.392-.646.975-.879 1.793Z\"></path>\\n</svg>\\n</template>\\n\\n<template id=\"code-square-icon\">\\n  <svg aria-hidden=\"true\" height=\"16\" viewBox=\"0 0 16 16\" version=\"1.1\" width=\"16\" data-view-component=\"true\" class=\"octicon octicon-code-square\">\\n    <path d=\"M0 1.75C0 .784.784 0 1.75 0h12.5C15.216 0 16 .784 16 1.75v12.5A1.75 1.75 0 0 1 14.25 16H1.75A1.75 1.75 0 0 1 0 14.25Zm1.75-.25a.25.25 0 0 0-.25.25v12.5c0 .138.112.25.25.25h12.5a.25.25 0 0 0 .25-.25V1.75a.25.25 0 0 0-.25-.25Zm7.47 3.97a.75.75 0 0 1 1.06 0l2 2a.75.75 0 0 1 0 1.06l-2 2a.749.749 0 0 1-1.275-.326.749.749 0 0 1 .215-.734L10.69 8 9.22 6.53a.75.75 0 0 1 0-1.06ZM6.78 6.53 5.31 8l1.47 1.47a.749.749 0 0 1-.326 1.275.749.749 0 0 1-.734-.215l-2-2a.75.75 0 0 1 0-1.06l2-2a.751.751 0 0 1 1.042.018.751.751 0 0 1 .018 1.042Z\"></path>\\n</svg>\\n</template>\\n\\n<template id=\"device-desktop-icon\">\\n  <svg aria-hidden=\"true\" height=\"16\" viewBox=\"0 0 16 16\" version=\"1.1\" width=\"16\" data-view-component=\"true\" class=\"octicon octicon-device-desktop\">\\n    <path d=\"M14.25 1c.966 0 1.75.784 1.75 1.75v7.5A1.75 1.75 0 0 1 14.25 12h-3.727c.099 1.041.52 1.872 1.292 2.757A.752.752 0 0 1 11.25 16h-6.5a.75.75 0 0 1-.565-1.243c.772-.885 1.192-1.716 1.292-2.757H1.75A1.75 1.75 0 0 1 0 10.25v-7.5C0 1.784.784 1 1.75 1ZM1.75 2.5a.25.25 0 0 0-.25.25v7.5c0 .138.112.25.25.25h12.5a.25.25 0 0 0 .25-.25v-7.5a.25.25 0 0 0-.25-.25ZM9.018 12H6.982a5.72 5.72 0 0 1-.765 2.5h3.566a5.72 5.72 0 0 1-.765-2.5Z\"></path>\\n</svg>\\n</template>\\n\\n        <div class=\"position-relative\">\\n                <ul\\n                  role=\"listbox\"\\n                  class=\"ActionListWrap QueryBuilder-ListWrap\"\\n                  aria-label=\"Suggestions\"\\n                  data-action=\"\\n                    combobox-commit:query-builder#comboboxCommit\\n                    mousedown:query-builder#resultsMousedown\\n                  \"\\n                  data-target=\"query-builder.resultsList\"\\n                  data-persist-list=false\\n                  id=\"query-builder-test-results\"\\n                ></ul>\\n        </div>\\n      <div class=\"FormControl-inlineValidation\" id=\"validation-be0fbbff-1b10-4747-b1b5-dfffd74ab5cb\" hidden=\"hidden\">\\n        <span class=\"FormControl-inlineValidation--visual\">\\n          <svg aria-hidden=\"true\" height=\"12\" viewBox=\"0 0 12 12\" version=\"1.1\" width=\"12\" data-view-component=\"true\" class=\"octicon octicon-alert-fill\">\\n    <path d=\"M4.855.708c.5-.896 1.79-.896 2.29 0l4.675 8.351a1.312 1.312 0 0 1-1.146 1.954H1.33A1.313 1.313 0 0 1 .183 9.058ZM7 7V3H5v4Zm-1 3a1 1 0 1 0 0-2 1 1 0 0 0 0 2Z\"></path>\\n</svg>\\n        </span>\\n        <span></span>\\n</div>    </div>\\n    <div data-target=\"query-builder.screenReaderFeedback\" aria-live=\"polite\" aria-atomic=\"true\" class=\"sr-only\"></div>\\n</query-builder></form>\\n          <div class=\"d-flex flex-row color-fg-muted px-3 text-small color-bg-default search-feedback-prompt\">\\n            <a target=\"_blank\" href=\"https://docs.github.com/search-github/github-code-search/understanding-github-code-search-syntax\" data-view-component=\"true\" class=\"Link color-fg-accent text-normal ml-2\">Search syntax tips</a>            <div class=\"d-flex flex-1\"></div>\\n          </div>\\n        </div>\\n</div>\\n\\n    </div>\\n</modal-dialog></div>\\n  </div>\\n  <div data-action=\"click:qbsearch-input#retract\" class=\"dark-backdrop position-fixed\" hidden data-target=\"qbsearch-input.darkBackdrop\"></div>\\n  <div class=\"color-fg-default\">\\n    \\n<dialog-helper>\\n  <dialog data-target=\"qbsearch-input.feedbackDialog\" data-action=\"close:qbsearch-input#handleDialogClose cancel:qbsearch-input#handleDialogClose\" id=\"feedback-dialog\" aria-modal=\"true\" aria-labelledby=\"feedback-dialog-title\" aria-describedby=\"feedback-dialog-description\" data-view-component=\"true\" class=\"Overlay Overlay-whenNarrow Overlay--size-medium Overlay--motion-scaleFade Overlay--disableScroll\">\\n    <div data-view-component=\"true\" class=\"Overlay-header\">\\n  <div class=\"Overlay-headerContentWrap\">\\n    <div class=\"Overlay-titleWrap\">\\n      <h1 class=\"Overlay-title \" id=\"feedback-dialog-title\">\\n        Provide feedback\\n      </h1>\\n        \\n    </div>\\n    <div class=\"Overlay-actionWrap\">\\n      <button data-close-dialog-id=\"feedback-dialog\" aria-label=\"Close\" aria-label=\"Close\" type=\"button\" data-view-component=\"true\" class=\"close-button Overlay-closeButton\"><svg aria-hidden=\"true\" height=\"16\" viewBox=\"0 0 16 16\" version=\"1.1\" width=\"16\" data-view-component=\"true\" class=\"octicon octicon-x\">\\n    <path d=\"M3.72 3.72a.75.75 0 0 1 1.06 0L8 6.94l3.22-3.22a.749.749 0 0 1 1.275.326.749.749 0 0 1-.215.734L9.06 8l3.22 3.22a.749.749 0 0 1-.326 1.275.749.749 0 0 1-.734-.215L8 9.06l-3.22 3.22a.751.751 0 0 1-1.042-.018.751.751 0 0 1-.018-1.042L6.94 8 3.72 4.78a.75.75 0 0 1 0-1.06Z\"></path>\\n</svg></button>\\n    </div>\\n  </div>\\n  \\n</div>\\n      <scrollable-region data-labelled-by=\"feedback-dialog-title\">\\n        <div data-view-component=\"true\" class=\"Overlay-body\">        <!-- \\'\"` --><!-- </textarea></xmp> --></option></form><form id=\"code-search-feedback-form\" data-turbo=\"false\" action=\"/search/feedback\" accept-charset=\"UTF-8\" method=\"post\"><input type=\"hidden\" data-csrf=\"true\" name=\"authenticity_token\" value=\"dc1e7JCi5JFJa3MxXRxnpqcWmjrN2kbEVQgSKAWQIKghRUzk/flUvbwiyS0jJ22WoD5xnseYxi7EbzphLbhlOw==\" />\\n          <p>We read every piece of feedback, and take your input very seriously.</p>\\n          <textarea name=\"feedback\" class=\"form-control width-full mb-2\" style=\"height: 120px\" id=\"feedback\"></textarea>\\n          <input name=\"include_email\" id=\"include_email\" aria-label=\"Include my email address so I can be contacted\" class=\"form-control mr-2\" type=\"checkbox\">\\n          <label for=\"include_email\" style=\"font-weight: normal\">Include my email address so I can be contacted</label>\\n</form></div>\\n      </scrollable-region>\\n      <div data-view-component=\"true\" class=\"Overlay-footer Overlay-footer--alignEnd\">          <button data-close-dialog-id=\"feedback-dialog\" type=\"button\" data-view-component=\"true\" class=\"btn\">    Cancel\\n</button>\\n          <button form=\"code-search-feedback-form\" data-action=\"click:qbsearch-input#submitFeedback\" type=\"submit\" data-view-component=\"true\" class=\"btn-primary btn\">    Submit feedback\\n</button>\\n</div>\\n</dialog></dialog-helper>\\n\\n    <custom-scopes data-target=\"qbsearch-input.customScopesManager\">\\n    \\n<dialog-helper>\\n  <dialog data-target=\"custom-scopes.customScopesModalDialog\" data-action=\"close:qbsearch-input#handleDialogClose cancel:qbsearch-input#handleDialogClose\" id=\"custom-scopes-dialog\" aria-modal=\"true\" aria-labelledby=\"custom-scopes-dialog-title\" aria-describedby=\"custom-scopes-dialog-description\" data-view-component=\"true\" class=\"Overlay Overlay-whenNarrow Overlay--size-medium Overlay--motion-scaleFade Overlay--disableScroll\">\\n    <div data-view-component=\"true\" class=\"Overlay-header Overlay-header--divided\">\\n  <div class=\"Overlay-headerContentWrap\">\\n    <div class=\"Overlay-titleWrap\">\\n      <h1 class=\"Overlay-title \" id=\"custom-scopes-dialog-title\">\\n        Saved searches\\n      </h1>\\n        <h2 id=\"custom-scopes-dialog-description\" class=\"Overlay-description\">Use saved searches to filter your results more quickly</h2>\\n    </div>\\n    <div class=\"Overlay-actionWrap\">\\n      <button data-close-dialog-id=\"custom-scopes-dialog\" aria-label=\"Close\" aria-label=\"Close\" type=\"button\" data-view-component=\"true\" class=\"close-button Overlay-closeButton\"><svg aria-hidden=\"true\" height=\"16\" viewBox=\"0 0 16 16\" version=\"1.1\" width=\"16\" data-view-component=\"true\" class=\"octicon octicon-x\">\\n    <path d=\"M3.72 3.72a.75.75 0 0 1 1.06 0L8 6.94l3.22-3.22a.749.749 0 0 1 1.275.326.749.749 0 0 1-.215.734L9.06 8l3.22 3.22a.749.749 0 0 1-.326 1.275.749.749 0 0 1-.734-.215L8 9.06l-3.22 3.22a.751.751 0 0 1-1.042-.018.751.751 0 0 1-.018-1.042L6.94 8 3.72 4.78a.75.75 0 0 1 0-1.06Z\"></path>\\n</svg></button>\\n    </div>\\n  </div>\\n  \\n</div>\\n      <scrollable-region data-labelled-by=\"custom-scopes-dialog-title\">\\n        <div data-view-component=\"true\" class=\"Overlay-body\">        <div data-target=\"custom-scopes.customScopesModalDialogFlash\"></div>\\n\\n        <div hidden class=\"create-custom-scope-form\" data-target=\"custom-scopes.createCustomScopeForm\">\\n        <!-- \\'\"` --><!-- </textarea></xmp> --></option></form><form id=\"custom-scopes-dialog-form\" data-turbo=\"false\" action=\"/search/custom_scopes\" accept-charset=\"UTF-8\" method=\"post\"><input type=\"hidden\" data-csrf=\"true\" name=\"authenticity_token\" value=\"wiCldHsItqj0Xa38XLivUZqN5Y6eBL69ccoaIi6qJe9UubWNQ/Wtu70Xpetcynvkmegp4jyw4MdNfLip0WB0FQ==\" />\\n          <div data-target=\"custom-scopes.customScopesModalDialogFlash\"></div>\\n\\n          <input type=\"hidden\" id=\"custom_scope_id\" name=\"custom_scope_id\" data-target=\"custom-scopes.customScopesIdField\">\\n\\n          <div class=\"form-group\">\\n            <label for=\"custom_scope_name\">Name</label>\\n            <auto-check src=\"/search/custom_scopes/check_name\" required>\\n              <input\\n                type=\"text\"\\n                name=\"custom_scope_name\"\\n                id=\"custom_scope_name\"\\n                data-target=\"custom-scopes.customScopesNameField\"\\n                class=\"form-control\"\\n                autocomplete=\"off\"\\n                placeholder=\"github-ruby\"\\n                required\\n                maxlength=\"50\">\\n              <input type=\"hidden\" data-csrf=\"true\" value=\"0J32NhDjWIDhStS0PbVE1GUsj2qJdm685BYHEb9y7+Hh31IZJTJv5+yXkarZqNDEtII65/M/nWQi6SHG0le/LA==\" />\\n            </auto-check>\\n          </div>\\n\\n          <div class=\"form-group\">\\n            <label for=\"custom_scope_query\">Query</label>\\n            <input\\n              type=\"text\"\\n              name=\"custom_scope_query\"\\n              id=\"custom_scope_query\"\\n              data-target=\"custom-scopes.customScopesQueryField\"\\n              class=\"form-control\"\\n              autocomplete=\"off\"\\n              placeholder=\"(repo:mona/a OR repo:mona/b) AND lang:python\"\\n              required\\n              maxlength=\"500\">\\n          </div>\\n\\n          <p class=\"text-small color-fg-muted\">\\n            To see all available qualifiers, see our <a class=\"Link--inTextBlock\" href=\"https://docs.github.com/search-github/github-code-search/understanding-github-code-search-syntax\">documentation</a>.\\n          </p>\\n</form>        </div>\\n\\n        <div data-target=\"custom-scopes.manageCustomScopesForm\">\\n          <div data-target=\"custom-scopes.list\"></div>\\n        </div>\\n\\n</div>\\n      </scrollable-region>\\n      <div data-view-component=\"true\" class=\"Overlay-footer Overlay-footer--alignEnd Overlay-footer--divided\">          <button data-action=\"click:custom-scopes#customScopesCancel\" type=\"button\" data-view-component=\"true\" class=\"btn\">    Cancel\\n</button>\\n          <button form=\"custom-scopes-dialog-form\" data-action=\"click:custom-scopes#customScopesSubmit\" data-target=\"custom-scopes.customScopesSubmitButton\" type=\"submit\" data-view-component=\"true\" class=\"btn-primary btn\">    Create saved search\\n</button>\\n</div>\\n</dialog></dialog-helper>\\n    </custom-scopes>\\n  </div>\\n</qbsearch-input>\\n\\n\\n            <div class=\"position-relative HeaderMenu-link-wrap d-lg-inline-block\">\\n              <a\\n                href=\"/login?return_to=https%3A%2F%2Fgithub.com%2Ftopics\"\\n                class=\"HeaderMenu-link HeaderMenu-link--sign-in HeaderMenu-button flex-shrink-0 no-underline d-none d-lg-inline-flex border border-lg-0 rounded rounded-lg-0 px-2 py-1\"\\n                style=\"margin-left: 12px;\"\\n                data-hydro-click=\"{&quot;event_type&quot;:&quot;authentication.click&quot;,&quot;payload&quot;:{&quot;location_in_page&quot;:&quot;site header menu&quot;,&quot;repository_id&quot;:null,&quot;auth_type&quot;:&quot;SIGN_UP&quot;,&quot;originating_url&quot;:&quot;https://github.com/topics&quot;,&quot;user_id&quot;:null}}\" data-hydro-click-hmac=\"be24ac4990e8cac9a74ee7032b910f8f38a1cea9154e0dbbe2347ce0b38a6adc\"\\n                data-analytics-event=\"{&quot;category&quot;:&quot;Marketing nav&quot;,&quot;action&quot;:&quot;click to go to homepage&quot;,&quot;label&quot;:&quot;ref_page:Marketing;ref_cta:Sign in;ref_loc:Header&quot;}\"\\n              >\\n                Sign in\\n              </a>\\n            </div>\\n\\n              <a href=\"/signup?ref_cta=Sign+up&amp;ref_loc=header+logged+out&amp;ref_page=%2Ftopics&amp;source=header\"\\n                class=\"HeaderMenu-link HeaderMenu-link--sign-up HeaderMenu-button flex-shrink-0 d-flex d-lg-inline-flex no-underline border color-border-default rounded px-2 py-1\"\\n                data-hydro-click=\"{&quot;event_type&quot;:&quot;authentication.click&quot;,&quot;payload&quot;:{&quot;location_in_page&quot;:&quot;site header menu&quot;,&quot;repository_id&quot;:null,&quot;auth_type&quot;:&quot;SIGN_UP&quot;,&quot;originating_url&quot;:&quot;https://github.com/topics&quot;,&quot;user_id&quot;:null}}\" data-hydro-click-hmac=\"be24ac4990e8cac9a74ee7032b910f8f38a1cea9154e0dbbe2347ce0b38a6adc\"\\n                data-analytics-event=\"{&quot;category&quot;:&quot;Sign up&quot;,&quot;action&quot;:&quot;click to sign up for account&quot;,&quot;label&quot;:&quot;ref_page:/topics;ref_cta:Sign up;ref_loc:header logged out&quot;}\"\\n              >\\n                Sign up\\n              </a>\\n\\n                <div class=\"AppHeader-appearanceSettings\">\\n    <react-partial-anchor>\\n      <button data-target=\"react-partial-anchor.anchor\" id=\"icon-button-ede7c304-1dd6-4678-9bb1-41ea95f22d61\" aria-labelledby=\"tooltip-c7aebcc5-235c-4387-a2f0-3ebc00e983e6\" type=\"button\" disabled=\"disabled\" data-view-component=\"true\" class=\"Button Button--iconOnly Button--invisible Button--medium AppHeader-button HeaderMenu-link border cursor-wait\">  <svg aria-hidden=\"true\" height=\"16\" viewBox=\"0 0 16 16\" version=\"1.1\" width=\"16\" data-view-component=\"true\" class=\"octicon octicon-sliders Button-visual\">\\n    <path d=\"M15 2.75a.75.75 0 0 1-.75.75h-4a.75.75 0 0 1 0-1.5h4a.75.75 0 0 1 .75.75Zm-8.5.75v1.25a.75.75 0 0 0 1.5 0v-4a.75.75 0 0 0-1.5 0V2H1.75a.75.75 0 0 0 0 1.5H6.5Zm1.25 5.25a.75.75 0 0 0 0-1.5h-6a.75.75 0 0 0 0 1.5h6ZM15 8a.75.75 0 0 1-.75.75H11.5V10a.75.75 0 1 1-1.5 0V6a.75.75 0 0 1 1.5 0v1.25h2.75A.75.75 0 0 1 15 8Zm-9 5.25v-2a.75.75 0 0 0-1.5 0v1.25H1.75a.75.75 0 0 0 0 1.5H4.5v1.25a.75.75 0 0 0 1.5 0v-2Zm9 0a.75.75 0 0 1-.75.75h-6a.75.75 0 0 1 0-1.5h6a.75.75 0 0 1 .75.75Z\"></path>\\n</svg>\\n</button><tool-tip id=\"tooltip-c7aebcc5-235c-4387-a2f0-3ebc00e983e6\" for=\"icon-button-ede7c304-1dd6-4678-9bb1-41ea95f22d61\" popover=\"manual\" data-direction=\"s\" data-type=\"label\" data-view-component=\"true\" class=\"sr-only position-absolute\">Appearance settings</tool-tip>\\n\\n      <template data-target=\"react-partial-anchor.template\">\\n        <link crossorigin=\"anonymous\" media=\"all\" rel=\"stylesheet\" href=\"https://github.githubassets.com/assets/primer-react.b5e8a54636271e908e27.module.css\" />\\n<link crossorigin=\"anonymous\" media=\"all\" rel=\"stylesheet\" href=\"https://github.githubassets.com/assets/appearance-settings.4e1ca273f504ba849f8c.module.css\" />\\n\\n<react-partial\\n  partial-name=\"appearance-settings\"\\n  data-ssr=\"false\"\\n  data-attempted-ssr=\"false\"\\n>\\n  \\n  <script type=\"application/json\" data-target=\"react-partial.embeddedData\">{\"props\":{}}</script>\\n  <div data-target=\"react-partial.reactRoot\"></div>\\n</react-partial>\\n\\n      </template>\\n    </react-partial-anchor>\\n  </div>\\n\\n          <button type=\"button\" class=\"sr-only js-header-menu-focus-trap d-block d-lg-none\">Resetting focus</button>\\n        </div>\\n      </div>\\n    </div>\\n  </div>\\n</header>\\n\\n      <div hidden=\"hidden\" data-view-component=\"true\" class=\"js-stale-session-flash stale-session-flash flash flash-warn flash-full\">\\n  \\n        <svg aria-hidden=\"true\" height=\"16\" viewBox=\"0 0 16 16\" version=\"1.1\" width=\"16\" data-view-component=\"true\" class=\"octicon octicon-alert\">\\n    <path d=\"M6.457 1.047c.659-1.234 2.427-1.234 3.086 0l6.082 11.378A1.75 1.75 0 0 1 14.082 15H1.918a1.75 1.75 0 0 1-1.543-2.575Zm1.763.707a.25.25 0 0 0-.44 0L1.698 13.132a.25.25 0 0 0 .22.368h12.164a.25.25 0 0 0 .22-.368Zm.53 3.996v2.5a.75.75 0 0 1-1.5 0v-2.5a.75.75 0 0 1 1.5 0ZM9 11a1 1 0 1 1-2 0 1 1 0 0 1 2 0Z\"></path>\\n</svg>\\n        <span class=\"js-stale-session-flash-signed-in\" hidden>You signed in with another tab or window. <a class=\"Link--inTextBlock\" href=\"\">Reload</a> to refresh your session.</span>\\n        <span class=\"js-stale-session-flash-signed-out\" hidden>You signed out in another tab or window. <a class=\"Link--inTextBlock\" href=\"\">Reload</a> to refresh your session.</span>\\n        <span class=\"js-stale-session-flash-switched\" hidden>You switched accounts on another tab or window. <a class=\"Link--inTextBlock\" href=\"\">Reload</a> to refresh your session.</span>\\n\\n    <button id=\"icon-button-dc9d445d-e1a0-4619-bde1-43efbc190de9\" aria-labelledby=\"tooltip-9da0a383-5aa2-4c88-88d3-fb0a828a947b\" type=\"button\" data-view-component=\"true\" class=\"Button Button--iconOnly Button--invisible Button--medium flash-close js-flash-close\">  <svg aria-hidden=\"true\" height=\"16\" viewBox=\"0 0 16 16\" version=\"1.1\" width=\"16\" data-view-component=\"true\" class=\"octicon octicon-x Button-visual\">\\n    <path d=\"M3.72 3.72a.75.75 0 0 1 1.06 0L8 6.94l3.22-3.22a.749.749 0 0 1 1.275.326.749.749 0 0 1-.215.734L9.06 8l3.22 3.22a.749.749 0 0 1-.326 1.275.749.749 0 0 1-.734-.215L8 9.06l-3.22 3.22a.751.751 0 0 1-1.042-.018.751.751 0 0 1-.018-1.042L6.94 8 3.72 4.78a.75.75 0 0 1 0-1.06Z\"></path>\\n</svg>\\n</button><tool-tip id=\"tooltip-9da0a383-5aa2-4c88-88d3-fb0a828a947b\" for=\"icon-button-dc9d445d-e1a0-4619-bde1-43efbc190de9\" popover=\"manual\" data-direction=\"s\" data-type=\"label\" data-view-component=\"true\" class=\"sr-only position-absolute\">Dismiss alert</tool-tip>\\n\\n\\n  \\n</div>\\n    </div>\\n\\n  <div id=\"start-of-content\" class=\"show-on-focus\"></div>\\n\\n\\n\\n\\n\\n\\n\\n\\n    <div id=\"js-flash-container\" class=\"flash-container\" data-turbo-replace>\\n\\n\\n\\n\\n  <template class=\"js-flash-template\">\\n    \\n<div class=\"flash flash-full   {{ className }}\">\\n  <div >\\n    <button autofocus class=\"flash-close js-flash-close\" type=\"button\" aria-label=\"Dismiss this message\">\\n      <svg aria-hidden=\"true\" height=\"16\" viewBox=\"0 0 16 16\" version=\"1.1\" width=\"16\" data-view-component=\"true\" class=\"octicon octicon-x\">\\n    <path d=\"M3.72 3.72a.75.75 0 0 1 1.06 0L8 6.94l3.22-3.22a.749.749 0 0 1 1.275.326.749.749 0 0 1-.215.734L9.06 8l3.22 3.22a.749.749 0 0 1-.326 1.275.749.749 0 0 1-.734-.215L8 9.06l-3.22 3.22a.751.751 0 0 1-1.042-.018.751.751 0 0 1-.018-1.042L6.94 8 3.72 4.78a.75.75 0 0 1 0-1.06Z\"></path>\\n</svg>\\n    </button>\\n    <div aria-atomic=\"true\" role=\"alert\" class=\"js-flash-alert\">\\n      \\n      <div>{{ message }}</div>\\n\\n    </div>\\n  </div>\\n</div>\\n  </template>\\n</div>\\n\\n\\n    \\n\\n\\n\\n\\n\\n\\n  <div\\n    class=\"application-main \"\\n    data-commit-hovercards-enabled\\n    data-discussion-hovercards-enabled\\n    data-issue-and-pr-hovercards-enabled\\n    data-project-hovercards-enabled\\n  >\\n      <main>\\n        \\n<div class=\"site-subnav color-bg-default site-subnav-sticky js-sticky\" >\\n  <nav class=\"container-lg mx-auto p-responsive\" role=\"navigation\" aria-label=\"Explore navigation\">\\n    <div class=\"d-flex flex-wrap flex-items-center flex-justify-center flex-md-justify-start text-center text-md-left\">\\n\\n        <a class=\"js-selected-navigation-item d-inline-block subnav-primary f5 py-0 py-md-3 mt-2 mt-md-0 mr-0 mr-md-4 no-underline subnav-link\" data-hydro-click=\"{&quot;event_type&quot;:&quot;explore.click&quot;,&quot;payload&quot;:{&quot;click_context&quot;:&quot;NAVIGATION_BAR&quot;,&quot;click_target&quot;:&quot;EXPLORE&quot;,&quot;click_visual_representation&quot;:&quot;CLICK_VISUAL_REPRESENTATION_UNKNOWN&quot;,&quot;actor_id&quot;:null,&quot;record_id&quot;:null,&quot;originating_url&quot;:&quot;https://github.com/topics&quot;,&quot;user_id&quot;:null}}\" data-hydro-click-hmac=\"169ff88235dc0451a94321221d314f1a6f2a024c3fe7da087f75079ed9c4c51e\" data-selected-links=\"/explore /explore/email /explore\" href=\"/explore\">Explore</a>\\n\\n      <a class=\"js-selected-navigation-item selected d-inline-block py-2 py-md-3 mr-3 mr-md-4 no-underline subnav-link\" data-hydro-click=\"{&quot;event_type&quot;:&quot;explore.click&quot;,&quot;payload&quot;:{&quot;click_context&quot;:&quot;NAVIGATION_BAR&quot;,&quot;click_target&quot;:&quot;TOPICS&quot;,&quot;click_visual_representation&quot;:&quot;CLICK_VISUAL_REPRESENTATION_UNKNOWN&quot;,&quot;actor_id&quot;:null,&quot;record_id&quot;:null,&quot;originating_url&quot;:&quot;https://github.com/topics&quot;,&quot;user_id&quot;:null}}\" data-hydro-click-hmac=\"942eaedf5a2c8e5dd0f28575f669907aa266c875926cc1be118f0522a8442b38\" aria-current=\"page\" data-selected-links=\"topics_path /topics/ /topics\" href=\"/topics\">Topics</a>\\n\\n        <a class=\"js-selected-navigation-item d-inline-block py-2 py-md-3 mr-3 mr-md-4 no-underline subnav-link\" data-hydro-click=\"{&quot;event_type&quot;:&quot;explore.click&quot;,&quot;payload&quot;:{&quot;click_context&quot;:&quot;NAVIGATION_BAR&quot;,&quot;click_target&quot;:&quot;TRENDING&quot;,&quot;click_visual_representation&quot;:&quot;CLICK_VISUAL_REPRESENTATION_UNKNOWN&quot;,&quot;actor_id&quot;:null,&quot;record_id&quot;:null,&quot;originating_url&quot;:&quot;https://github.com/topics&quot;,&quot;user_id&quot;:null}}\" data-hydro-click-hmac=\"0efe93a858f190d914119882651dae27c1890336809310898595d0b3680285f8\" data-selected-links=\"/trending /trending/developers /trending/developers /trending /trending\" href=\"/trending\">Trending</a>\\n\\n        <a class=\"js-selected-navigation-item d-inline-block py-2 py-md-3 mr-3 mr-md-4 no-underline subnav-link\" data-hydro-click=\"{&quot;event_type&quot;:&quot;explore.click&quot;,&quot;payload&quot;:{&quot;click_context&quot;:&quot;NAVIGATION_BAR&quot;,&quot;click_target&quot;:&quot;COLLECTIONS&quot;,&quot;click_visual_representation&quot;:&quot;CLICK_VISUAL_REPRESENTATION_UNKNOWN&quot;,&quot;actor_id&quot;:null,&quot;record_id&quot;:null,&quot;originating_url&quot;:&quot;https://github.com/topics&quot;,&quot;user_id&quot;:null}}\" data-hydro-click-hmac=\"f668f71fc7c3d5f8725fe7e9cde1a417c815f64894fe9d886e4c67771b72dcac\" data-selected-links=\"collections_path /collections/ /collections\" href=\"/collections\">Collections</a>\\n\\n        <a class=\"js-selected-navigation-item d-inline-block py-2 py-md-3 mr-3 mr-md-4 no-underline subnav-link\" data-hydro-click=\"{&quot;event_type&quot;:&quot;explore.click&quot;,&quot;payload&quot;:{&quot;click_context&quot;:&quot;NAVIGATION_BAR&quot;,&quot;click_target&quot;:&quot;EVENTS&quot;,&quot;click_visual_representation&quot;:&quot;CLICK_VISUAL_REPRESENTATION_UNKNOWN&quot;,&quot;actor_id&quot;:null,&quot;record_id&quot;:null,&quot;originating_url&quot;:&quot;https://github.com/topics&quot;,&quot;user_id&quot;:null}}\" data-hydro-click-hmac=\"ad51f336ba01e7d7be5e2cfd3fe70b421524570f6c3cbfb8e8b46b3e797b787a\" data-selected-links=\"events_path /events?id= /events\" href=\"/events\">Events</a>\\n\\n        <a class=\"js-selected-navigation-item d-inline-block py-2 py-md-3 mr-3 mr-md-4 no-underline subnav-link\" data-hydro-click=\"{&quot;event_type&quot;:&quot;explore.click&quot;,&quot;payload&quot;:{&quot;click_context&quot;:&quot;NAVIGATION_BAR&quot;,&quot;click_target&quot;:&quot;GITHUB_SPONSORS&quot;,&quot;click_visual_representation&quot;:&quot;CLICK_VISUAL_REPRESENTATION_UNKNOWN&quot;,&quot;actor_id&quot;:null,&quot;record_id&quot;:null,&quot;originating_url&quot;:&quot;https://github.com/topics&quot;,&quot;user_id&quot;:null}}\" data-hydro-click-hmac=\"f3bd0a50a877866d3d6fab4dc35b62e6dee1287cfd77d8fd6e06891801a55ace\" data-selected-links=\"sponsors_explore_index_path /sponsors/explore /sponsors/explore\" href=\"/sponsors/explore\">GitHub Sponsors</a>\\n    </div>\\n  </nav>\\n</div>\\n\\n\\n<div class=\"color-bg-subtle border-bottom\">\\n  <div class=\"container-lg p-responsive text-center py-6\">\\n    <h1 class=\"h1\">Topics</h1>\\n    <p class=\"f4 color-fg-muted col-md-6 mx-auto\">Browse popular topics on GitHub.</p>\\n  </div>\\n</div>\\n\\n  <div class=\"container-lg p-responsive mt-6\">\\n    <ul class=\"d-flex flex-wrap flex-justify-start flex-items-stretch list-style-none gutter my-4\">\\n        <li class=\"col-12 col-sm-6 col-md-4 mb-4\">\\n  <div class=\"topic-box position-relative hover-grow height-full text-center border color-border-muted rounded color-bg-default p-5\">\\n    <div class=\"js-toggler-container starring-container\">\\n</div>\\n\\n\\n    <a\\n      href=\"/topics/latex\"\\n      class=\"no-underline d-flex flex-column flex-justify-center\"\\n      data-ga-click=\"Explore, go to topic, text:latex; location:boxes\"\\n    >\\n        <img\\n          src=\"https://raw.githubusercontent.com/github/explore/80688e429a7d4ef2fca1e82350fe8e3517d3494d/topics/latex/latex.png\"\\n          width=\"64\"\\n          height=\"64\"\\n          class=\"mx-auto rounded mb-3\"\\n          alt=\"latex\"\\n        >\\n      <p class=\"f3 lh-condensed text-center Link--primary mb-0 mt-1\">\\n        LaTeX\\n      </p>\\n      <p class=\"f5 color-fg-muted text-center mb-0 mt-1\">LaTeX is a document preparation system.</p>\\n    </a>\\n  </div>\\n</li>\\n\\n        <li class=\"col-12 col-sm-6 col-md-4 mb-4\">\\n  <div class=\"topic-box position-relative hover-grow height-full text-center border color-border-muted rounded color-bg-default p-5\">\\n    <div class=\"js-toggler-container starring-container\">\\n</div>\\n\\n\\n    <a\\n      href=\"/topics/cli\"\\n      class=\"no-underline d-flex flex-column flex-justify-center\"\\n      data-ga-click=\"Explore, go to topic, text:cli; location:boxes\"\\n    >\\n        <img\\n          src=\"https://raw.githubusercontent.com/github/explore/168190ce4594f1aee9adcfeb31d5283dbf2085cd/topics/cli/cli.png\"\\n          width=\"64\"\\n          height=\"64\"\\n          class=\"mx-auto rounded mb-3\"\\n          alt=\"cli\"\\n        >\\n      <p class=\"f3 lh-condensed text-center Link--primary mb-0 mt-1\">\\n        Command-line interface\\n      </p>\\n      <p class=\"f5 color-fg-muted text-center mb-0 mt-1\">A CLI, or command-line interface, is a console that helps users issue commands to a program.</p>\\n    </a>\\n  </div>\\n</li>\\n\\n        <li class=\"col-12 col-sm-6 col-md-4 mb-4\">\\n  <div class=\"topic-box position-relative hover-grow height-full text-center border color-border-muted rounded color-bg-default p-5\">\\n    <div class=\"js-toggler-container starring-container\">\\n</div>\\n\\n\\n    <a\\n      href=\"/topics/jquery\"\\n      class=\"no-underline d-flex flex-column flex-justify-center\"\\n      data-ga-click=\"Explore, go to topic, text:jquery; location:boxes\"\\n    >\\n        <img\\n          src=\"https://raw.githubusercontent.com/github/explore/80688e429a7d4ef2fca1e82350fe8e3517d3494d/topics/jquery/jquery.png\"\\n          width=\"64\"\\n          height=\"64\"\\n          class=\"mx-auto rounded mb-3\"\\n          alt=\"jquery\"\\n        >\\n      <p class=\"f3 lh-condensed text-center Link--primary mb-0 mt-1\">\\n        jQuery\\n      </p>\\n      <p class=\"f5 color-fg-muted text-center mb-0 mt-1\">jQuery is a lightweight library that simplifies programming with JavaScript.</p>\\n    </a>\\n  </div>\\n</li>\\n\\n    </ul>\\n  </div>\\n\\n<div class=\"d-lg-flex container-lg p-responsive \">\\n  <div class=\"col-lg-9 position-relative pr-lg-5 mb-6 mr-lg-5\" data-hpc>\\n    <h2 class=\"h2\">All featured topics</h2>\\n    <div>\\n    <div class=\"py-4 border-bottom d-flex flex-justify-between\">\\n      <a href=\"/topics/3d\" class=\"no-underline flex-grow-0\">\\n          <div\\n            class=\"color-bg-accent f4 color-fg-muted text-bold rounded mr-3 flex-shrink-0 text-center\"\\n            style=\"width:64px; height:64px; line-height:64px;\"\\n          >\\n            #\\n          </div>\\n      </a>\\n      <a href=\"/topics/3d\" class=\"no-underline flex-1 d-flex flex-column\">\\n        <p class=\"f3 lh-condensed mb-0 mt-1 Link--primary\">3D</p>\\n        <p class=\"f5 color-fg-muted mb-0 mt-1\">\\n          3D refers to the use of three-dimensional graphics, modeling, and animation in various industries.\\n        </p>\\n      </a>\\n      <div class=\"flex-grow-0\">\\n          <div data-view-component=\"true\" class=\"d-block\">\\n        <a href=\"/login?return_to=%2Ftopic.3d\" rel=\"nofollow\" data-hydro-click=\"{&quot;event_type&quot;:&quot;authentication.click&quot;,&quot;payload&quot;:{&quot;location_in_page&quot;:&quot;star button&quot;,&quot;repository_id&quot;:null,&quot;auth_type&quot;:&quot;LOG_IN&quot;,&quot;originating_url&quot;:&quot;https://github.com/topics&quot;,&quot;user_id&quot;:null}}\" data-hydro-click-hmac=\"7575b5082e2c3915281be9460d747ad48fe377ebd620d4e12e2387269c69459c\" aria-label=\"You must be signed in to star a repository\" data-view-component=\"true\" class=\"tooltipped tooltipped-sw btn-sm btn\">    <svg aria-hidden=\"true\" height=\"16\" viewBox=\"0 0 16 16\" version=\"1.1\" width=\"16\" data-view-component=\"true\" class=\"octicon octicon-star v-align-text-bottom d-inline-block mr-2\">\\n    <path d=\"M8 .25a.75.75 0 0 1 .673.418l1.882 3.815 4.21.612a.75.75 0 0 1 .416 1.279l-3.046 2.97.719 4.192a.751.751 0 0 1-1.088.791L8 12.347l-3.766 1.98a.75.75 0 0 1-1.088-.79l.72-4.194L.818 6.374a.75.75 0 0 1 .416-1.28l4.21-.611L7.327.668A.75.75 0 0 1 8 .25Zm0 2.445L6.615 5.5a.75.75 0 0 1-.564.41l-3.097.45 2.24 2.184a.75.75 0 0 1 .216.664l-.528 3.084 2.769-1.456a.75.75 0 0 1 .698 0l2.77 1.456-.53-3.084a.75.75 0 0 1 .216-.664l2.24-2.183-3.096-.45a.75.75 0 0 1-.564-.41L8 2.694Z\"></path>\\n</svg><span data-view-component=\"true\" class=\"d-inline\">\\n          Star\\n</span>\\n</a></div>\\n      </div>\\n    </div>\\n    <div class=\"py-4 border-bottom d-flex flex-justify-between\">\\n      <a href=\"/topics/ajax\" class=\"no-underline flex-grow-0\">\\n          <img\\n            src=\"https://raw.githubusercontent.com/github/explore/8be26d91eb231fec0b8856359979ac09f27173fd/topics/ajax/ajax.png\"\\n            class=\"rounded mr-3\"\\n            width=\"64\"\\n            height=\"64\"\\n            alt=\"ajax\"\\n          >\\n      </a>\\n      <a href=\"/topics/ajax\" class=\"no-underline flex-1 d-flex flex-column\">\\n        <p class=\"f3 lh-condensed mb-0 mt-1 Link--primary\">Ajax</p>\\n        <p class=\"f5 color-fg-muted mb-0 mt-1\">\\n          Ajax is a technique for creating interactive web applications.\\n        </p>\\n      </a>\\n      <div class=\"flex-grow-0\">\\n          <div data-view-component=\"true\" class=\"d-block\">\\n        <a href=\"/login?return_to=%2Ftopic.ajax\" rel=\"nofollow\" data-hydro-click=\"{&quot;event_type&quot;:&quot;authentication.click&quot;,&quot;payload&quot;:{&quot;location_in_page&quot;:&quot;star button&quot;,&quot;repository_id&quot;:null,&quot;auth_type&quot;:&quot;LOG_IN&quot;,&quot;originating_url&quot;:&quot;https://github.com/topics&quot;,&quot;user_id&quot;:null}}\" data-hydro-click-hmac=\"7575b5082e2c3915281be9460d747ad48fe377ebd620d4e12e2387269c69459c\" aria-label=\"You must be signed in to star a repository\" data-view-component=\"true\" class=\"tooltipped tooltipped-sw btn-sm btn\">    <svg aria-hidden=\"true\" height=\"16\" viewBox=\"0 0 16 16\" version=\"1.1\" width=\"16\" data-view-component=\"true\" class=\"octicon octicon-star v-align-text-bottom d-inline-block mr-2\">\\n    <path d=\"M8 .25a.75.75 0 0 1 .673.418l1.882 3.815 4.21.612a.75.75 0 0 1 .416 1.279l-3.046 2.97.719 4.192a.751.751 0 0 1-1.088.791L8 12.347l-3.766 1.98a.75.75 0 0 1-1.088-.79l.72-4.194L.818 6.374a.75.75 0 0 1 .416-1.28l4.21-.611L7.327.668A.75.75 0 0 1 8 .25Zm0 2.445L6.615 5.5a.75.75 0 0 1-.564.41l-3.097.45 2.24 2.184a.75.75 0 0 1 .216.664l-.528 3.084 2.769-1.456a.75.75 0 0 1 .698 0l2.77 1.456-.53-3.084a.75.75 0 0 1 .216-.664l2.24-2.183-3.096-.45a.75.75 0 0 1-.564-.41L8 2.694Z\"></path>\\n</svg><span data-view-component=\"true\" class=\"d-inline\">\\n          Star\\n</span>\\n</a></div>\\n      </div>\\n    </div>\\n    <div class=\"py-4 border-bottom d-flex flex-justify-between\">\\n      <a href=\"/topics/algorithm\" class=\"no-underline flex-grow-0\">\\n          <div\\n            class=\"color-bg-accent f4 color-fg-muted text-bold rounded mr-3 flex-shrink-0 text-center\"\\n            style=\"width:64px; height:64px; line-height:64px;\"\\n          >\\n            #\\n          </div>\\n      </a>\\n      <a href=\"/topics/algorithm\" class=\"no-underline flex-1 d-flex flex-column\">\\n        <p class=\"f3 lh-condensed mb-0 mt-1 Link--primary\">Algorithm</p>\\n        <p class=\"f5 color-fg-muted mb-0 mt-1\">\\n          Algorithms are self-contained sequences that carry out a variety of tasks.\\n        </p>\\n      </a>\\n      <div class=\"flex-grow-0\">\\n          <div data-view-component=\"true\" class=\"d-block\">\\n        <a href=\"/login?return_to=%2Ftopic.algorithm\" rel=\"nofollow\" data-hydro-click=\"{&quot;event_type&quot;:&quot;authentication.click&quot;,&quot;payload&quot;:{&quot;location_in_page&quot;:&quot;star button&quot;,&quot;repository_id&quot;:null,&quot;auth_type&quot;:&quot;LOG_IN&quot;,&quot;originating_url&quot;:&quot;https://github.com/topics&quot;,&quot;user_id&quot;:null}}\" data-hydro-click-hmac=\"7575b5082e2c3915281be9460d747ad48fe377ebd620d4e12e2387269c69459c\" aria-label=\"You must be signed in to star a repository\" data-view-component=\"true\" class=\"tooltipped tooltipped-sw btn-sm btn\">    <svg aria-hidden=\"true\" height=\"16\" viewBox=\"0 0 16 16\" version=\"1.1\" width=\"16\" data-view-component=\"true\" class=\"octicon octicon-star v-align-text-bottom d-inline-block mr-2\">\\n    <path d=\"M8 .25a.75.75 0 0 1 .673.418l1.882 3.815 4.21.612a.75.75 0 0 1 .416 1.279l-3.046 2.97.719 4.192a.751.751 0 0 1-1.088.791L8 12.347l-3.766 1.98a.75.75 0 0 1-1.088-.79l.72-4.194L.818 6.374a.75.75 0 0 1 .416-1.28l4.21-.611L7.327.668A.75.75 0 0 1 8 .25Zm0 2.445L6.615 5.5a.75.75 0 0 1-.564.41l-3.097.45 2.24 2.184a.75.75 0 0 1 .216.664l-.528 3.084 2.769-1.456a.75.75 0 0 1 .698 0l2.77 1.456-.53-3.084a.75.75 0 0 1 .216-.664l2.24-2.183-3.096-.45a.75.75 0 0 1-.564-.41L8 2.694Z\"></path>\\n</svg><span data-view-component=\"true\" class=\"d-inline\">\\n          Star\\n</span>\\n</a></div>\\n      </div>\\n    </div>\\n    <div class=\"py-4 border-bottom d-flex flex-justify-between\">\\n      <a href=\"/topics/amphp\" class=\"no-underline flex-grow-0\">\\n          <img\\n            src=\"https://raw.githubusercontent.com/github/explore/99fe59c0f4fb5d6545311440b4ce89a0d82b0804/topics/amphp/amphp.png\"\\n            class=\"rounded mr-3\"\\n            width=\"64\"\\n            height=\"64\"\\n            alt=\"amphp\"\\n          >\\n      </a>\\n      <a href=\"/topics/amphp\" class=\"no-underline flex-1 d-flex flex-column\">\\n        <p class=\"f3 lh-condensed mb-0 mt-1 Link--primary\">Amp</p>\\n        <p class=\"f5 color-fg-muted mb-0 mt-1\">\\n          Amp is a non-blocking concurrency library for PHP.\\n        </p>\\n      </a>\\n      <div class=\"flex-grow-0\">\\n          <div data-view-component=\"true\" class=\"d-block\">\\n        <a href=\"/login?return_to=%2Ftopic.amphp\" rel=\"nofollow\" data-hydro-click=\"{&quot;event_type&quot;:&quot;authentication.click&quot;,&quot;payload&quot;:{&quot;location_in_page&quot;:&quot;star button&quot;,&quot;repository_id&quot;:null,&quot;auth_type&quot;:&quot;LOG_IN&quot;,&quot;originating_url&quot;:&quot;https://github.com/topics&quot;,&quot;user_id&quot;:null}}\" data-hydro-click-hmac=\"7575b5082e2c3915281be9460d747ad48fe377ebd620d4e12e2387269c69459c\" aria-label=\"You must be signed in to star a repository\" data-view-component=\"true\" class=\"tooltipped tooltipped-sw btn-sm btn\">    <svg aria-hidden=\"true\" height=\"16\" viewBox=\"0 0 16 16\" version=\"1.1\" width=\"16\" data-view-component=\"true\" class=\"octicon octicon-star v-align-text-bottom d-inline-block mr-2\">\\n    <path d=\"M8 .25a.75.75 0 0 1 .673.418l1.882 3.815 4.21.612a.75.75 0 0 1 .416 1.279l-3.046 2.97.719 4.192a.751.751 0 0 1-1.088.791L8 12.347l-3.766 1.98a.75.75 0 0 1-1.088-.79l.72-4.194L.818 6.374a.75.75 0 0 1 .416-1.28l4.21-.611L7.327.668A.75.75 0 0 1 8 .25Zm0 2.445L6.615 5.5a.75.75 0 0 1-.564.41l-3.097.45 2.24 2.184a.75.75 0 0 1 .216.664l-.528 3.084 2.769-1.456a.75.75 0 0 1 .698 0l2.77 1.456-.53-3.084a.75.75 0 0 1 .216-.664l2.24-2.183-3.096-.45a.75.75 0 0 1-.564-.41L8 2.694Z\"></path>\\n</svg><span data-view-component=\"true\" class=\"d-inline\">\\n          Star\\n</span>\\n</a></div>\\n      </div>\\n    </div>\\n    <div class=\"py-4 border-bottom d-flex flex-justify-between\">\\n      <a href=\"/topics/android\" class=\"no-underline flex-grow-0\">\\n          <img\\n            src=\"https://raw.githubusercontent.com/github/explore/8baf984947f4d9c32006bd03fa4c51ff91aadf8d/topics/android/android.png\"\\n            class=\"rounded mr-3\"\\n            width=\"64\"\\n            height=\"64\"\\n            alt=\"android\"\\n          >\\n      </a>\\n      <a href=\"/topics/android\" class=\"no-underline flex-1 d-flex flex-column\">\\n        <p class=\"f3 lh-condensed mb-0 mt-1 Link--primary\">Android</p>\\n        <p class=\"f5 color-fg-muted mb-0 mt-1\">\\n          Android is an operating system built by Google designed for mobile devices.\\n        </p>\\n      </a>\\n      <div class=\"flex-grow-0\">\\n          <div data-view-component=\"true\" class=\"d-block\">\\n        <a href=\"/login?return_to=%2Ftopic.android\" rel=\"nofollow\" data-hydro-click=\"{&quot;event_type&quot;:&quot;authentication.click&quot;,&quot;payload&quot;:{&quot;location_in_page&quot;:&quot;star button&quot;,&quot;repository_id&quot;:null,&quot;auth_type&quot;:&quot;LOG_IN&quot;,&quot;originating_url&quot;:&quot;https://github.com/topics&quot;,&quot;user_id&quot;:null}}\" data-hydro-click-hmac=\"7575b5082e2c3915281be9460d747ad48fe377ebd620d4e12e2387269c69459c\" aria-label=\"You must be signed in to star a repository\" data-view-component=\"true\" class=\"tooltipped tooltipped-sw btn-sm btn\">    <svg aria-hidden=\"true\" height=\"16\" viewBox=\"0 0 16 16\" version=\"1.1\" width=\"16\" data-view-component=\"true\" class=\"octicon octicon-star v-align-text-bottom d-inline-block mr-2\">\\n    <path d=\"M8 .25a.75.75 0 0 1 .673.418l1.882 3.815 4.21.612a.75.75 0 0 1 .416 1.279l-3.046 2.97.719 4.192a.751.751 0 0 1-1.088.791L8 12.347l-3.766 1.98a.75.75 0 0 1-1.088-.79l.72-4.194L.818 6.374a.75.75 0 0 1 .416-1.28l4.21-.611L7.327.668A.75.75 0 0 1 8 .25Zm0 2.445L6.615 5.5a.75.75 0 0 1-.564.41l-3.097.45 2.24 2.184a.75.75 0 0 1 .216.664l-.528 3.084 2.769-1.456a.75.75 0 0 1 .698 0l2.77 1.456-.53-3.084a.75.75 0 0 1 .216-.664l2.24-2.183-3.096-.45a.75.75 0 0 1-.564-.41L8 2.694Z\"></path>\\n</svg><span data-view-component=\"true\" class=\"d-inline\">\\n          Star\\n</span>\\n</a></div>\\n      </div>\\n    </div>\\n    <div class=\"py-4 border-bottom d-flex flex-justify-between\">\\n      <a href=\"/topics/angular\" class=\"no-underline flex-grow-0\">\\n          <img\\n            src=\"https://raw.githubusercontent.com/github/explore/c700f6f5bb68a850405eef411cf878162ff34b59/topics/angular/angular.png\"\\n            class=\"rounded mr-3\"\\n            width=\"64\"\\n            height=\"64\"\\n            alt=\"angular\"\\n          >\\n      </a>\\n      <a href=\"/topics/angular\" class=\"no-underline flex-1 d-flex flex-column\">\\n        <p class=\"f3 lh-condensed mb-0 mt-1 Link--primary\">Angular</p>\\n        <p class=\"f5 color-fg-muted mb-0 mt-1\">\\n          Angular is an open source web application platform.\\n        </p>\\n      </a>\\n      <div class=\"flex-grow-0\">\\n          <div data-view-component=\"true\" class=\"d-block\">\\n        <a href=\"/login?return_to=%2Ftopic.angular\" rel=\"nofollow\" data-hydro-click=\"{&quot;event_type&quot;:&quot;authentication.click&quot;,&quot;payload&quot;:{&quot;location_in_page&quot;:&quot;star button&quot;,&quot;repository_id&quot;:null,&quot;auth_type&quot;:&quot;LOG_IN&quot;,&quot;originating_url&quot;:&quot;https://github.com/topics&quot;,&quot;user_id&quot;:null}}\" data-hydro-click-hmac=\"7575b5082e2c3915281be9460d747ad48fe377ebd620d4e12e2387269c69459c\" aria-label=\"You must be signed in to star a repository\" data-view-component=\"true\" class=\"tooltipped tooltipped-sw btn-sm btn\">    <svg aria-hidden=\"true\" height=\"16\" viewBox=\"0 0 16 16\" version=\"1.1\" width=\"16\" data-view-component=\"true\" class=\"octicon octicon-star v-align-text-bottom d-inline-block mr-2\">\\n    <path d=\"M8 .25a.75.75 0 0 1 .673.418l1.882 3.815 4.21.612a.75.75 0 0 1 .416 1.279l-3.046 2.97.719 4.192a.751.751 0 0 1-1.088.791L8 12.347l-3.766 1.98a.75.75 0 0 1-1.088-.79l.72-4.194L.818 6.374a.75.75 0 0 1 .416-1.28l4.21-.611L7.327.668A.75.75 0 0 1 8 .25Zm0 2.445L6.615 5.5a.75.75 0 0 1-.564.41l-3.097.45 2.24 2.184a.75.75 0 0 1 .216.664l-.528 3.084 2.769-1.456a.75.75 0 0 1 .698 0l2.77 1.456-.53-3.084a.75.75 0 0 1 .216-.664l2.24-2.183-3.096-.45a.75.75 0 0 1-.564-.41L8 2.694Z\"></path>\\n</svg><span data-view-component=\"true\" class=\"d-inline\">\\n          Star\\n</span>\\n</a></div>\\n      </div>\\n    </div>\\n    <div class=\"py-4 border-bottom d-flex flex-justify-between\">\\n      <a href=\"/topics/ansible\" class=\"no-underline flex-grow-0\">\\n          <img\\n            src=\"https://raw.githubusercontent.com/github/explore/80688e429a7d4ef2fca1e82350fe8e3517d3494d/topics/ansible/ansible.png\"\\n            class=\"rounded mr-3\"\\n            width=\"64\"\\n            height=\"64\"\\n            alt=\"ansible\"\\n          >\\n      </a>\\n      <a href=\"/topics/ansible\" class=\"no-underline flex-1 d-flex flex-column\">\\n        <p class=\"f3 lh-condensed mb-0 mt-1 Link--primary\">Ansible</p>\\n        <p class=\"f5 color-fg-muted mb-0 mt-1\">\\n          Ansible is a simple and powerful automation engine.\\n        </p>\\n      </a>\\n      <div class=\"flex-grow-0\">\\n          <div data-view-component=\"true\" class=\"d-block\">\\n        <a href=\"/login?return_to=%2Ftopic.ansible\" rel=\"nofollow\" data-hydro-click=\"{&quot;event_type&quot;:&quot;authentication.click&quot;,&quot;payload&quot;:{&quot;location_in_page&quot;:&quot;star button&quot;,&quot;repository_id&quot;:null,&quot;auth_type&quot;:&quot;LOG_IN&quot;,&quot;originating_url&quot;:&quot;https://github.com/topics&quot;,&quot;user_id&quot;:null}}\" data-hydro-click-hmac=\"7575b5082e2c3915281be9460d747ad48fe377ebd620d4e12e2387269c69459c\" aria-label=\"You must be signed in to star a repository\" data-view-component=\"true\" class=\"tooltipped tooltipped-sw btn-sm btn\">    <svg aria-hidden=\"true\" height=\"16\" viewBox=\"0 0 16 16\" version=\"1.1\" width=\"16\" data-view-component=\"true\" class=\"octicon octicon-star v-align-text-bottom d-inline-block mr-2\">\\n    <path d=\"M8 .25a.75.75 0 0 1 .673.418l1.882 3.815 4.21.612a.75.75 0 0 1 .416 1.279l-3.046 2.97.719 4.192a.751.751 0 0 1-1.088.791L8 12.347l-3.766 1.98a.75.75 0 0 1-1.088-.79l.72-4.194L.818 6.374a.75.75 0 0 1 .416-1.28l4.21-.611L7.327.668A.75.75 0 0 1 8 .25Zm0 2.445L6.615 5.5a.75.75 0 0 1-.564.41l-3.097.45 2.24 2.184a.75.75 0 0 1 .216.664l-.528 3.084 2.769-1.456a.75.75 0 0 1 .698 0l2.77 1.456-.53-3.084a.75.75 0 0 1 .216-.664l2.24-2.183-3.096-.45a.75.75 0 0 1-.564-.41L8 2.694Z\"></path>\\n</svg><span data-view-component=\"true\" class=\"d-inline\">\\n          Star\\n</span>\\n</a></div>\\n      </div>\\n    </div>\\n    <div class=\"py-4 border-bottom d-flex flex-justify-between\">\\n      <a href=\"/topics/api\" class=\"no-underline flex-grow-0\">\\n          <div\\n            class=\"color-bg-accent f4 color-fg-muted text-bold rounded mr-3 flex-shrink-0 text-center\"\\n            style=\"width:64px; height:64px; line-height:64px;\"\\n          >\\n            #\\n          </div>\\n      </a>\\n      <a href=\"/topics/api\" class=\"no-underline flex-1 d-flex flex-column\">\\n        <p class=\"f3 lh-condensed mb-0 mt-1 Link--primary\">API</p>\\n        <p class=\"f5 color-fg-muted mb-0 mt-1\">\\n          An API (Application Programming Interface) is a collection of protocols and subroutines for building software.\\n        </p>\\n      </a>\\n      <div class=\"flex-grow-0\">\\n          <div data-view-component=\"true\" class=\"d-block\">\\n        <a href=\"/login?return_to=%2Ftopic.api\" rel=\"nofollow\" data-hydro-click=\"{&quot;event_type&quot;:&quot;authentication.click&quot;,&quot;payload&quot;:{&quot;location_in_page&quot;:&quot;star button&quot;,&quot;repository_id&quot;:null,&quot;auth_type&quot;:&quot;LOG_IN&quot;,&quot;originating_url&quot;:&quot;https://github.com/topics&quot;,&quot;user_id&quot;:null}}\" data-hydro-click-hmac=\"7575b5082e2c3915281be9460d747ad48fe377ebd620d4e12e2387269c69459c\" aria-label=\"You must be signed in to star a repository\" data-view-component=\"true\" class=\"tooltipped tooltipped-sw btn-sm btn\">    <svg aria-hidden=\"true\" height=\"16\" viewBox=\"0 0 16 16\" version=\"1.1\" width=\"16\" data-view-component=\"true\" class=\"octicon octicon-star v-align-text-bottom d-inline-block mr-2\">\\n    <path d=\"M8 .25a.75.75 0 0 1 .673.418l1.882 3.815 4.21.612a.75.75 0 0 1 .416 1.279l-3.046 2.97.719 4.192a.751.751 0 0 1-1.088.791L8 12.347l-3.766 1.98a.75.75 0 0 1-1.088-.79l.72-4.194L.818 6.374a.75.75 0 0 1 .416-1.28l4.21-.611L7.327.668A.75.75 0 0 1 8 .25Zm0 2.445L6.615 5.5a.75.75 0 0 1-.564.41l-3.097.45 2.24 2.184a.75.75 0 0 1 .216.664l-.528 3.084 2.769-1.456a.75.75 0 0 1 .698 0l2.77 1.456-.53-3.084a.75.75 0 0 1 .216-.664l2.24-2.183-3.096-.45a.75.75 0 0 1-.564-.41L8 2.694Z\"></path>\\n</svg><span data-view-component=\"true\" class=\"d-inline\">\\n          Star\\n</span>\\n</a></div>\\n      </div>\\n    </div>\\n    <div class=\"py-4 border-bottom d-flex flex-justify-between\">\\n      <a href=\"/topics/arduino\" class=\"no-underline flex-grow-0\">\\n          <img\\n            src=\"https://raw.githubusercontent.com/github/explore/80688e429a7d4ef2fca1e82350fe8e3517d3494d/topics/arduino/arduino.png\"\\n            class=\"rounded mr-3\"\\n            width=\"64\"\\n            height=\"64\"\\n            alt=\"arduino\"\\n          >\\n      </a>\\n      <a href=\"/topics/arduino\" class=\"no-underline flex-1 d-flex flex-column\">\\n        <p class=\"f3 lh-condensed mb-0 mt-1 Link--primary\">Arduino</p>\\n        <p class=\"f5 color-fg-muted mb-0 mt-1\">\\n          Arduino is an open source platform for building electronic devices.\\n        </p>\\n      </a>\\n      <div class=\"flex-grow-0\">\\n          <div data-view-component=\"true\" class=\"d-block\">\\n        <a href=\"/login?return_to=%2Ftopic.arduino\" rel=\"nofollow\" data-hydro-click=\"{&quot;event_type&quot;:&quot;authentication.click&quot;,&quot;payload&quot;:{&quot;location_in_page&quot;:&quot;star button&quot;,&quot;repository_id&quot;:null,&quot;auth_type&quot;:&quot;LOG_IN&quot;,&quot;originating_url&quot;:&quot;https://github.com/topics&quot;,&quot;user_id&quot;:null}}\" data-hydro-click-hmac=\"7575b5082e2c3915281be9460d747ad48fe377ebd620d4e12e2387269c69459c\" aria-label=\"You must be signed in to star a repository\" data-view-component=\"true\" class=\"tooltipped tooltipped-sw btn-sm btn\">    <svg aria-hidden=\"true\" height=\"16\" viewBox=\"0 0 16 16\" version=\"1.1\" width=\"16\" data-view-component=\"true\" class=\"octicon octicon-star v-align-text-bottom d-inline-block mr-2\">\\n    <path d=\"M8 .25a.75.75 0 0 1 .673.418l1.882 3.815 4.21.612a.75.75 0 0 1 .416 1.279l-3.046 2.97.719 4.192a.751.751 0 0 1-1.088.791L8 12.347l-3.766 1.98a.75.75 0 0 1-1.088-.79l.72-4.194L.818 6.374a.75.75 0 0 1 .416-1.28l4.21-.611L7.327.668A.75.75 0 0 1 8 .25Zm0 2.445L6.615 5.5a.75.75 0 0 1-.564.41l-3.097.45 2.24 2.184a.75.75 0 0 1 .216.664l-.528 3.084 2.769-1.456a.75.75 0 0 1 .698 0l2.77 1.456-.53-3.084a.75.75 0 0 1 .216-.664l2.24-2.183-3.096-.45a.75.75 0 0 1-.564-.41L8 2.694Z\"></path>\\n</svg><span data-view-component=\"true\" class=\"d-inline\">\\n          Star\\n</span>\\n</a></div>\\n      </div>\\n    </div>\\n    <div class=\"py-4 border-bottom d-flex flex-justify-between\">\\n      <a href=\"/topics/aspnet\" class=\"no-underline flex-grow-0\">\\n          <img\\n            src=\"https://raw.githubusercontent.com/github/explore/80688e429a7d4ef2fca1e82350fe8e3517d3494d/topics/aspnet/aspnet.png\"\\n            class=\"rounded mr-3\"\\n            width=\"64\"\\n            height=\"64\"\\n            alt=\"aspnet\"\\n          >\\n      </a>\\n      <a href=\"/topics/aspnet\" class=\"no-underline flex-1 d-flex flex-column\">\\n        <p class=\"f3 lh-condensed mb-0 mt-1 Link--primary\">ASP.NET</p>\\n        <p class=\"f5 color-fg-muted mb-0 mt-1\">\\n          ASP.NET is a web framework for building modern web apps and services.\\n        </p>\\n      </a>\\n      <div class=\"flex-grow-0\">\\n          <div data-view-component=\"true\" class=\"d-block\">\\n        <a href=\"/login?return_to=%2Ftopic.aspnet\" rel=\"nofollow\" data-hydro-click=\"{&quot;event_type&quot;:&quot;authentication.click&quot;,&quot;payload&quot;:{&quot;location_in_page&quot;:&quot;star button&quot;,&quot;repository_id&quot;:null,&quot;auth_type&quot;:&quot;LOG_IN&quot;,&quot;originating_url&quot;:&quot;https://github.com/topics&quot;,&quot;user_id&quot;:null}}\" data-hydro-click-hmac=\"7575b5082e2c3915281be9460d747ad48fe377ebd620d4e12e2387269c69459c\" aria-label=\"You must be signed in to star a repository\" data-view-component=\"true\" class=\"tooltipped tooltipped-sw btn-sm btn\">    <svg aria-hidden=\"true\" height=\"16\" viewBox=\"0 0 16 16\" version=\"1.1\" width=\"16\" data-view-component=\"true\" class=\"octicon octicon-star v-align-text-bottom d-inline-block mr-2\">\\n    <path d=\"M8 .25a.75.75 0 0 1 .673.418l1.882 3.815 4.21.612a.75.75 0 0 1 .416 1.279l-3.046 2.97.719 4.192a.751.751 0 0 1-1.088.791L8 12.347l-3.766 1.98a.75.75 0 0 1-1.088-.79l.72-4.194L.818 6.374a.75.75 0 0 1 .416-1.28l4.21-.611L7.327.668A.75.75 0 0 1 8 .25Zm0 2.445L6.615 5.5a.75.75 0 0 1-.564.41l-3.097.45 2.24 2.184a.75.75 0 0 1 .216.664l-.528 3.084 2.769-1.456a.75.75 0 0 1 .698 0l2.77 1.456-.53-3.084a.75.75 0 0 1 .216-.664l2.24-2.183-3.096-.45a.75.75 0 0 1-.564-.41L8 2.694Z\"></path>\\n</svg><span data-view-component=\"true\" class=\"d-inline\">\\n          Star\\n</span>\\n</a></div>\\n      </div>\\n    </div>\\n    <div class=\"py-4 border-bottom d-flex flex-justify-between\">\\n      <a href=\"/topics/awesome\" class=\"no-underline flex-grow-0\">\\n          <img\\n            src=\"https://raw.githubusercontent.com/github/explore/80688e429a7d4ef2fca1e82350fe8e3517d3494d/topics/awesome/awesome.png\"\\n            class=\"rounded mr-3\"\\n            width=\"64\"\\n            height=\"64\"\\n            alt=\"awesome\"\\n          >\\n      </a>\\n      <a href=\"/topics/awesome\" class=\"no-underline flex-1 d-flex flex-column\">\\n        <p class=\"f3 lh-condensed mb-0 mt-1 Link--primary\">Awesome Lists</p>\\n        <p class=\"f5 color-fg-muted mb-0 mt-1\">\\n          An awesome list is a list of awesome things curated by the community.\\n        </p>\\n      </a>\\n      <div class=\"flex-grow-0\">\\n          <div data-view-component=\"true\" class=\"d-block\">\\n        <a href=\"/login?return_to=%2Ftopic.awesome\" rel=\"nofollow\" data-hydro-click=\"{&quot;event_type&quot;:&quot;authentication.click&quot;,&quot;payload&quot;:{&quot;location_in_page&quot;:&quot;star button&quot;,&quot;repository_id&quot;:null,&quot;auth_type&quot;:&quot;LOG_IN&quot;,&quot;originating_url&quot;:&quot;https://github.com/topics&quot;,&quot;user_id&quot;:null}}\" data-hydro-click-hmac=\"7575b5082e2c3915281be9460d747ad48fe377ebd620d4e12e2387269c69459c\" aria-label=\"You must be signed in to star a repository\" data-view-component=\"true\" class=\"tooltipped tooltipped-sw btn-sm btn\">    <svg aria-hidden=\"true\" height=\"16\" viewBox=\"0 0 16 16\" version=\"1.1\" width=\"16\" data-view-component=\"true\" class=\"octicon octicon-star v-align-text-bottom d-inline-block mr-2\">\\n    <path d=\"M8 .25a.75.75 0 0 1 .673.418l1.882 3.815 4.21.612a.75.75 0 0 1 .416 1.279l-3.046 2.97.719 4.192a.751.751 0 0 1-1.088.791L8 12.347l-3.766 1.98a.75.75 0 0 1-1.088-.79l.72-4.194L.818 6.374a.75.75 0 0 1 .416-1.28l4.21-.611L7.327.668A.75.75 0 0 1 8 .25Zm0 2.445L6.615 5.5a.75.75 0 0 1-.564.41l-3.097.45 2.24 2.184a.75.75 0 0 1 .216.664l-.528 3.084 2.769-1.456a.75.75 0 0 1 .698 0l2.77 1.456-.53-3.084a.75.75 0 0 1 .216-.664l2.24-2.183-3.096-.45a.75.75 0 0 1-.564-.41L8 2.694Z\"></path>\\n</svg><span data-view-component=\"true\" class=\"d-inline\">\\n          Star\\n</span>\\n</a></div>\\n      </div>\\n    </div>\\n    <div class=\"py-4 border-bottom d-flex flex-justify-between\">\\n      <a href=\"/topics/aws\" class=\"no-underline flex-grow-0\">\\n          <img\\n            src=\"https://raw.githubusercontent.com/github/explore/fbceb94436312b6dacde68d122a5b9c7d11f9524/topics/aws/aws.png\"\\n            class=\"rounded mr-3\"\\n            width=\"64\"\\n            height=\"64\"\\n            alt=\"aws\"\\n          >\\n      </a>\\n      <a href=\"/topics/aws\" class=\"no-underline flex-1 d-flex flex-column\">\\n        <p class=\"f3 lh-condensed mb-0 mt-1 Link--primary\">Amazon Web Services</p>\\n        <p class=\"f5 color-fg-muted mb-0 mt-1\">\\n          Amazon Web Services provides on-demand cloud computing platforms on a subscription basis.\\n        </p>\\n      </a>\\n      <div class=\"flex-grow-0\">\\n          <div data-view-component=\"true\" class=\"d-block\">\\n        <a href=\"/login?return_to=%2Ftopic.aws\" rel=\"nofollow\" data-hydro-click=\"{&quot;event_type&quot;:&quot;authentication.click&quot;,&quot;payload&quot;:{&quot;location_in_page&quot;:&quot;star button&quot;,&quot;repository_id&quot;:null,&quot;auth_type&quot;:&quot;LOG_IN&quot;,&quot;originating_url&quot;:&quot;https://github.com/topics&quot;,&quot;user_id&quot;:null}}\" data-hydro-click-hmac=\"7575b5082e2c3915281be9460d747ad48fe377ebd620d4e12e2387269c69459c\" aria-label=\"You must be signed in to star a repository\" data-view-component=\"true\" class=\"tooltipped tooltipped-sw btn-sm btn\">    <svg aria-hidden=\"true\" height=\"16\" viewBox=\"0 0 16 16\" version=\"1.1\" width=\"16\" data-view-component=\"true\" class=\"octicon octicon-star v-align-text-bottom d-inline-block mr-2\">\\n    <path d=\"M8 .25a.75.75 0 0 1 .673.418l1.882 3.815 4.21.612a.75.75 0 0 1 .416 1.279l-3.046 2.97.719 4.192a.751.751 0 0 1-1.088.791L8 12.347l-3.766 1.98a.75.75 0 0 1-1.088-.79l.72-4.194L.818 6.374a.75.75 0 0 1 .416-1.28l4.21-.611L7.327.668A.75.75 0 0 1 8 .25Zm0 2.445L6.615 5.5a.75.75 0 0 1-.564.41l-3.097.45 2.24 2.184a.75.75 0 0 1 .216.664l-.528 3.084 2.769-1.456a.75.75 0 0 1 .698 0l2.77 1.456-.53-3.084a.75.75 0 0 1 .216-.664l2.24-2.183-3.096-.45a.75.75 0 0 1-.564-.41L8 2.694Z\"></path>\\n</svg><span data-view-component=\"true\" class=\"d-inline\">\\n          Star\\n</span>\\n</a></div>\\n      </div>\\n    </div>\\n    <div class=\"py-4 border-bottom d-flex flex-justify-between\">\\n      <a href=\"/topics/azure\" class=\"no-underline flex-grow-0\">\\n          <img\\n            src=\"https://raw.githubusercontent.com/github/explore/eaef8552d8b082ffafe2bfc8a5023d47da904aac/topics/azure/azure.png\"\\n            class=\"rounded mr-3\"\\n            width=\"64\"\\n            height=\"64\"\\n            alt=\"azure\"\\n          >\\n      </a>\\n      <a href=\"/topics/azure\" class=\"no-underline flex-1 d-flex flex-column\">\\n        <p class=\"f3 lh-condensed mb-0 mt-1 Link--primary\">Azure</p>\\n        <p class=\"f5 color-fg-muted mb-0 mt-1\">\\n          Azure is a cloud computing service created by Microsoft.\\n        </p>\\n      </a>\\n      <div class=\"flex-grow-0\">\\n          <div data-view-component=\"true\" class=\"d-block\">\\n        <a href=\"/login?return_to=%2Ftopic.azure\" rel=\"nofollow\" data-hydro-click=\"{&quot;event_type&quot;:&quot;authentication.click&quot;,&quot;payload&quot;:{&quot;location_in_page&quot;:&quot;star button&quot;,&quot;repository_id&quot;:null,&quot;auth_type&quot;:&quot;LOG_IN&quot;,&quot;originating_url&quot;:&quot;https://github.com/topics&quot;,&quot;user_id&quot;:null}}\" data-hydro-click-hmac=\"7575b5082e2c3915281be9460d747ad48fe377ebd620d4e12e2387269c69459c\" aria-label=\"You must be signed in to star a repository\" data-view-component=\"true\" class=\"tooltipped tooltipped-sw btn-sm btn\">    <svg aria-hidden=\"true\" height=\"16\" viewBox=\"0 0 16 16\" version=\"1.1\" width=\"16\" data-view-component=\"true\" class=\"octicon octicon-star v-align-text-bottom d-inline-block mr-2\">\\n    <path d=\"M8 .25a.75.75 0 0 1 .673.418l1.882 3.815 4.21.612a.75.75 0 0 1 .416 1.279l-3.046 2.97.719 4.192a.751.751 0 0 1-1.088.791L8 12.347l-3.766 1.98a.75.75 0 0 1-1.088-.79l.72-4.194L.818 6.374a.75.75 0 0 1 .416-1.28l4.21-.611L7.327.668A.75.75 0 0 1 8 .25Zm0 2.445L6.615 5.5a.75.75 0 0 1-.564.41l-3.097.45 2.24 2.184a.75.75 0 0 1 .216.664l-.528 3.084 2.769-1.456a.75.75 0 0 1 .698 0l2.77 1.456-.53-3.084a.75.75 0 0 1 .216-.664l2.24-2.183-3.096-.45a.75.75 0 0 1-.564-.41L8 2.694Z\"></path>\\n</svg><span data-view-component=\"true\" class=\"d-inline\">\\n          Star\\n</span>\\n</a></div>\\n      </div>\\n    </div>\\n    <div class=\"py-4 border-bottom d-flex flex-justify-between\">\\n      <a href=\"/topics/babel\" class=\"no-underline flex-grow-0\">\\n          <img\\n            src=\"https://raw.githubusercontent.com/github/explore/cb39e2385dfcec8a661d01bfacff6b1e33bbaa9d/topics/babel/babel.png\"\\n            class=\"rounded mr-3\"\\n            width=\"64\"\\n            height=\"64\"\\n            alt=\"babel\"\\n          >\\n      </a>\\n      <a href=\"/topics/babel\" class=\"no-underline flex-1 d-flex flex-column\">\\n        <p class=\"f3 lh-condensed mb-0 mt-1 Link--primary\">Babel</p>\\n        <p class=\"f5 color-fg-muted mb-0 mt-1\">\\n          Babel is a compiler for writing next generation JavaScript, today.\\n        </p>\\n      </a>\\n      <div class=\"flex-grow-0\">\\n          <div data-view-component=\"true\" class=\"d-block\">\\n        <a href=\"/login?return_to=%2Ftopic.babel\" rel=\"nofollow\" data-hydro-click=\"{&quot;event_type&quot;:&quot;authentication.click&quot;,&quot;payload&quot;:{&quot;location_in_page&quot;:&quot;star button&quot;,&quot;repository_id&quot;:null,&quot;auth_type&quot;:&quot;LOG_IN&quot;,&quot;originating_url&quot;:&quot;https://github.com/topics&quot;,&quot;user_id&quot;:null}}\" data-hydro-click-hmac=\"7575b5082e2c3915281be9460d747ad48fe377ebd620d4e12e2387269c69459c\" aria-label=\"You must be signed in to star a repository\" data-view-component=\"true\" class=\"tooltipped tooltipped-sw btn-sm btn\">    <svg aria-hidden=\"true\" height=\"16\" viewBox=\"0 0 16 16\" version=\"1.1\" width=\"16\" data-view-component=\"true\" class=\"octicon octicon-star v-align-text-bottom d-inline-block mr-2\">\\n    <path d=\"M8 .25a.75.75 0 0 1 .673.418l1.882 3.815 4.21.612a.75.75 0 0 1 .416 1.279l-3.046 2.97.719 4.192a.751.751 0 0 1-1.088.791L8 12.347l-3.766 1.98a.75.75 0 0 1-1.088-.79l.72-4.194L.818 6.374a.75.75 0 0 1 .416-1.28l4.21-.611L7.327.668A.75.75 0 0 1 8 .25Zm0 2.445L6.615 5.5a.75.75 0 0 1-.564.41l-3.097.45 2.24 2.184a.75.75 0 0 1 .216.664l-.528 3.084 2.769-1.456a.75.75 0 0 1 .698 0l2.77 1.456-.53-3.084a.75.75 0 0 1 .216-.664l2.24-2.183-3.096-.45a.75.75 0 0 1-.564-.41L8 2.694Z\"></path>\\n</svg><span data-view-component=\"true\" class=\"d-inline\">\\n          Star\\n</span>\\n</a></div>\\n      </div>\\n    </div>\\n    <div class=\"py-4 border-bottom d-flex flex-justify-between\">\\n      <a href=\"/topics/bash\" class=\"no-underline flex-grow-0\">\\n          <img\\n            src=\"https://raw.githubusercontent.com/github/explore/80688e429a7d4ef2fca1e82350fe8e3517d3494d/topics/bash/bash.png\"\\n            class=\"rounded mr-3\"\\n            width=\"64\"\\n            height=\"64\"\\n            alt=\"bash\"\\n          >\\n      </a>\\n      <a href=\"/topics/bash\" class=\"no-underline flex-1 d-flex flex-column\">\\n        <p class=\"f3 lh-condensed mb-0 mt-1 Link--primary\">Bash</p>\\n        <p class=\"f5 color-fg-muted mb-0 mt-1\">\\n          Bash is a shell and command language interpreter for the GNU operating system.\\n        </p>\\n      </a>\\n      <div class=\"flex-grow-0\">\\n          <div data-view-component=\"true\" class=\"d-block\">\\n        <a href=\"/login?return_to=%2Ftopic.bash\" rel=\"nofollow\" data-hydro-click=\"{&quot;event_type&quot;:&quot;authentication.click&quot;,&quot;payload&quot;:{&quot;location_in_page&quot;:&quot;star button&quot;,&quot;repository_id&quot;:null,&quot;auth_type&quot;:&quot;LOG_IN&quot;,&quot;originating_url&quot;:&quot;https://github.com/topics&quot;,&quot;user_id&quot;:null}}\" data-hydro-click-hmac=\"7575b5082e2c3915281be9460d747ad48fe377ebd620d4e12e2387269c69459c\" aria-label=\"You must be signed in to star a repository\" data-view-component=\"true\" class=\"tooltipped tooltipped-sw btn-sm btn\">    <svg aria-hidden=\"true\" height=\"16\" viewBox=\"0 0 16 16\" version=\"1.1\" width=\"16\" data-view-component=\"true\" class=\"octicon octicon-star v-align-text-bottom d-inline-block mr-2\">\\n    <path d=\"M8 .25a.75.75 0 0 1 .673.418l1.882 3.815 4.21.612a.75.75 0 0 1 .416 1.279l-3.046 2.97.719 4.192a.751.751 0 0 1-1.088.791L8 12.347l-3.766 1.98a.75.75 0 0 1-1.088-.79l.72-4.194L.818 6.374a.75.75 0 0 1 .416-1.28l4.21-.611L7.327.668A.75.75 0 0 1 8 .25Zm0 2.445L6.615 5.5a.75.75 0 0 1-.564.41l-3.097.45 2.24 2.184a.75.75 0 0 1 .216.664l-.528 3.084 2.769-1.456a.75.75 0 0 1 .698 0l2.77 1.456-.53-3.084a.75.75 0 0 1 .216-.664l2.24-2.183-3.096-.45a.75.75 0 0 1-.564-.41L8 2.694Z\"></path>\\n</svg><span data-view-component=\"true\" class=\"d-inline\">\\n          Star\\n</span>\\n</a></div>\\n      </div>\\n    </div>\\n    <div class=\"py-4 border-bottom d-flex flex-justify-between\">\\n      <a href=\"/topics/bitcoin\" class=\"no-underline flex-grow-0\">\\n          <img\\n            src=\"https://raw.githubusercontent.com/github/explore/80688e429a7d4ef2fca1e82350fe8e3517d3494d/topics/bitcoin/bitcoin.png\"\\n            class=\"rounded mr-3\"\\n            width=\"64\"\\n            height=\"64\"\\n            alt=\"bitcoin\"\\n          >\\n      </a>\\n      <a href=\"/topics/bitcoin\" class=\"no-underline flex-1 d-flex flex-column\">\\n        <p class=\"f3 lh-condensed mb-0 mt-1 Link--primary\">Bitcoin</p>\\n        <p class=\"f5 color-fg-muted mb-0 mt-1\">\\n          Bitcoin is a cryptocurrency developed by Satoshi Nakamoto.\\n        </p>\\n      </a>\\n      <div class=\"flex-grow-0\">\\n          <div data-view-component=\"true\" class=\"d-block\">\\n        <a href=\"/login?return_to=%2Ftopic.bitcoin\" rel=\"nofollow\" data-hydro-click=\"{&quot;event_type&quot;:&quot;authentication.click&quot;,&quot;payload&quot;:{&quot;location_in_page&quot;:&quot;star button&quot;,&quot;repository_id&quot;:null,&quot;auth_type&quot;:&quot;LOG_IN&quot;,&quot;originating_url&quot;:&quot;https://github.com/topics&quot;,&quot;user_id&quot;:null}}\" data-hydro-click-hmac=\"7575b5082e2c3915281be9460d747ad48fe377ebd620d4e12e2387269c69459c\" aria-label=\"You must be signed in to star a repository\" data-view-component=\"true\" class=\"tooltipped tooltipped-sw btn-sm btn\">    <svg aria-hidden=\"true\" height=\"16\" viewBox=\"0 0 16 16\" version=\"1.1\" width=\"16\" data-view-component=\"true\" class=\"octicon octicon-star v-align-text-bottom d-inline-block mr-2\">\\n    <path d=\"M8 .25a.75.75 0 0 1 .673.418l1.882 3.815 4.21.612a.75.75 0 0 1 .416 1.279l-3.046 2.97.719 4.192a.751.751 0 0 1-1.088.791L8 12.347l-3.766 1.98a.75.75 0 0 1-1.088-.79l.72-4.194L.818 6.374a.75.75 0 0 1 .416-1.28l4.21-.611L7.327.668A.75.75 0 0 1 8 .25Zm0 2.445L6.615 5.5a.75.75 0 0 1-.564.41l-3.097.45 2.24 2.184a.75.75 0 0 1 .216.664l-.528 3.084 2.769-1.456a.75.75 0 0 1 .698 0l2.77 1.456-.53-3.084a.75.75 0 0 1 .216-.664l2.24-2.183-3.096-.45a.75.75 0 0 1-.564-.41L8 2.694Z\"></path>\\n</svg><span data-view-component=\"true\" class=\"d-inline\">\\n          Star\\n</span>\\n</a></div>\\n      </div>\\n    </div>\\n    <div class=\"py-4 border-bottom d-flex flex-justify-between\">\\n      <a href=\"/topics/bootstrap\" class=\"no-underline flex-grow-0\">\\n          <img\\n            src=\"https://raw.githubusercontent.com/github/explore/80688e429a7d4ef2fca1e82350fe8e3517d3494d/topics/bootstrap/bootstrap.png\"\\n            class=\"rounded mr-3\"\\n            width=\"64\"\\n            height=\"64\"\\n            alt=\"bootstrap\"\\n          >\\n      </a>\\n      <a href=\"/topics/bootstrap\" class=\"no-underline flex-1 d-flex flex-column\">\\n        <p class=\"f3 lh-condensed mb-0 mt-1 Link--primary\">Bootstrap</p>\\n        <p class=\"f5 color-fg-muted mb-0 mt-1\">\\n          Bootstrap is an HTML, CSS, and JavaScript framework.\\n        </p>\\n      </a>\\n      <div class=\"flex-grow-0\">\\n          <div data-view-component=\"true\" class=\"d-block\">\\n        <a href=\"/login?return_to=%2Ftopic.bootstrap\" rel=\"nofollow\" data-hydro-click=\"{&quot;event_type&quot;:&quot;authentication.click&quot;,&quot;payload&quot;:{&quot;location_in_page&quot;:&quot;star button&quot;,&quot;repository_id&quot;:null,&quot;auth_type&quot;:&quot;LOG_IN&quot;,&quot;originating_url&quot;:&quot;https://github.com/topics&quot;,&quot;user_id&quot;:null}}\" data-hydro-click-hmac=\"7575b5082e2c3915281be9460d747ad48fe377ebd620d4e12e2387269c69459c\" aria-label=\"You must be signed in to star a repository\" data-view-component=\"true\" class=\"tooltipped tooltipped-sw btn-sm btn\">    <svg aria-hidden=\"true\" height=\"16\" viewBox=\"0 0 16 16\" version=\"1.1\" width=\"16\" data-view-component=\"true\" class=\"octicon octicon-star v-align-text-bottom d-inline-block mr-2\">\\n    <path d=\"M8 .25a.75.75 0 0 1 .673.418l1.882 3.815 4.21.612a.75.75 0 0 1 .416 1.279l-3.046 2.97.719 4.192a.751.751 0 0 1-1.088.791L8 12.347l-3.766 1.98a.75.75 0 0 1-1.088-.79l.72-4.194L.818 6.374a.75.75 0 0 1 .416-1.28l4.21-.611L7.327.668A.75.75 0 0 1 8 .25Zm0 2.445L6.615 5.5a.75.75 0 0 1-.564.41l-3.097.45 2.24 2.184a.75.75 0 0 1 .216.664l-.528 3.084 2.769-1.456a.75.75 0 0 1 .698 0l2.77 1.456-.53-3.084a.75.75 0 0 1 .216-.664l2.24-2.183-3.096-.45a.75.75 0 0 1-.564-.41L8 2.694Z\"></path>\\n</svg><span data-view-component=\"true\" class=\"d-inline\">\\n          Star\\n</span>\\n</a></div>\\n      </div>\\n    </div>\\n    <div class=\"py-4 border-bottom d-flex flex-justify-between\">\\n      <a href=\"/topics/bot\" class=\"no-underline flex-grow-0\">\\n          <img\\n            src=\"https://raw.githubusercontent.com/github/explore/0a84ca418425da147e4e43b1c74aa169d3265870/topics/bot/bot.png\"\\n            class=\"rounded mr-3\"\\n            width=\"64\"\\n            height=\"64\"\\n            alt=\"bot\"\\n          >\\n      </a>\\n      <a href=\"/topics/bot\" class=\"no-underline flex-1 d-flex flex-column\">\\n        <p class=\"f3 lh-condensed mb-0 mt-1 Link--primary\">Bot</p>\\n        <p class=\"f5 color-fg-muted mb-0 mt-1\">\\n          A bot is an application that runs automated tasks over the Internet.\\n        </p>\\n      </a>\\n      <div class=\"flex-grow-0\">\\n          <div data-view-component=\"true\" class=\"d-block\">\\n        <a href=\"/login?return_to=%2Ftopic.bot\" rel=\"nofollow\" data-hydro-click=\"{&quot;event_type&quot;:&quot;authentication.click&quot;,&quot;payload&quot;:{&quot;location_in_page&quot;:&quot;star button&quot;,&quot;repository_id&quot;:null,&quot;auth_type&quot;:&quot;LOG_IN&quot;,&quot;originating_url&quot;:&quot;https://github.com/topics&quot;,&quot;user_id&quot;:null}}\" data-hydro-click-hmac=\"7575b5082e2c3915281be9460d747ad48fe377ebd620d4e12e2387269c69459c\" aria-label=\"You must be signed in to star a repository\" data-view-component=\"true\" class=\"tooltipped tooltipped-sw btn-sm btn\">    <svg aria-hidden=\"true\" height=\"16\" viewBox=\"0 0 16 16\" version=\"1.1\" width=\"16\" data-view-component=\"true\" class=\"octicon octicon-star v-align-text-bottom d-inline-block mr-2\">\\n    <path d=\"M8 .25a.75.75 0 0 1 .673.418l1.882 3.815 4.21.612a.75.75 0 0 1 .416 1.279l-3.046 2.97.719 4.192a.751.751 0 0 1-1.088.791L8 12.347l-3.766 1.98a.75.75 0 0 1-1.088-.79l.72-4.194L.818 6.374a.75.75 0 0 1 .416-1.28l4.21-.611L7.327.668A.75.75 0 0 1 8 .25Zm0 2.445L6.615 5.5a.75.75 0 0 1-.564.41l-3.097.45 2.24 2.184a.75.75 0 0 1 .216.664l-.528 3.084 2.769-1.456a.75.75 0 0 1 .698 0l2.77 1.456-.53-3.084a.75.75 0 0 1 .216-.664l2.24-2.183-3.096-.45a.75.75 0 0 1-.564-.41L8 2.694Z\"></path>\\n</svg><span data-view-component=\"true\" class=\"d-inline\">\\n          Star\\n</span>\\n</a></div>\\n      </div>\\n    </div>\\n    <div class=\"py-4 border-bottom d-flex flex-justify-between\">\\n      <a href=\"/topics/c\" class=\"no-underline flex-grow-0\">\\n          <img\\n            src=\"https://raw.githubusercontent.com/github/explore/f3e22f0dca2be955676bc70d6214b95b13354ee8/topics/c/c.png\"\\n            class=\"rounded mr-3\"\\n            width=\"64\"\\n            height=\"64\"\\n            alt=\"c\"\\n          >\\n      </a>\\n      <a href=\"/topics/c\" class=\"no-underline flex-1 d-flex flex-column\">\\n        <p class=\"f3 lh-condensed mb-0 mt-1 Link--primary\">C</p>\\n        <p class=\"f5 color-fg-muted mb-0 mt-1\">\\n          C is a general purpose programming language that first appeared in 1972.\\n        </p>\\n      </a>\\n      <div class=\"flex-grow-0\">\\n          <div data-view-component=\"true\" class=\"d-block\">\\n        <a href=\"/login?return_to=%2Ftopic.c\" rel=\"nofollow\" data-hydro-click=\"{&quot;event_type&quot;:&quot;authentication.click&quot;,&quot;payload&quot;:{&quot;location_in_page&quot;:&quot;star button&quot;,&quot;repository_id&quot;:null,&quot;auth_type&quot;:&quot;LOG_IN&quot;,&quot;originating_url&quot;:&quot;https://github.com/topics&quot;,&quot;user_id&quot;:null}}\" data-hydro-click-hmac=\"7575b5082e2c3915281be9460d747ad48fe377ebd620d4e12e2387269c69459c\" aria-label=\"You must be signed in to star a repository\" data-view-component=\"true\" class=\"tooltipped tooltipped-sw btn-sm btn\">    <svg aria-hidden=\"true\" height=\"16\" viewBox=\"0 0 16 16\" version=\"1.1\" width=\"16\" data-view-component=\"true\" class=\"octicon octicon-star v-align-text-bottom d-inline-block mr-2\">\\n    <path d=\"M8 .25a.75.75 0 0 1 .673.418l1.882 3.815 4.21.612a.75.75 0 0 1 .416 1.279l-3.046 2.97.719 4.192a.751.751 0 0 1-1.088.791L8 12.347l-3.766 1.98a.75.75 0 0 1-1.088-.79l.72-4.194L.818 6.374a.75.75 0 0 1 .416-1.28l4.21-.611L7.327.668A.75.75 0 0 1 8 .25Zm0 2.445L6.615 5.5a.75.75 0 0 1-.564.41l-3.097.45 2.24 2.184a.75.75 0 0 1 .216.664l-.528 3.084 2.769-1.456a.75.75 0 0 1 .698 0l2.77 1.456-.53-3.084a.75.75 0 0 1 .216-.664l2.24-2.183-3.096-.45a.75.75 0 0 1-.564-.41L8 2.694Z\"></path>\\n</svg><span data-view-component=\"true\" class=\"d-inline\">\\n          Star\\n</span>\\n</a></div>\\n      </div>\\n    </div>\\n    <div class=\"py-4 border-bottom d-flex flex-justify-between\">\\n      <a href=\"/topics/chrome\" class=\"no-underline flex-grow-0\">\\n          <img\\n            src=\"https://raw.githubusercontent.com/github/explore/002d791bc68a86506b1bb7a3332bb6ba8e1d1891/topics/chrome/chrome.png\"\\n            class=\"rounded mr-3\"\\n            width=\"64\"\\n            height=\"64\"\\n            alt=\"chrome\"\\n          >\\n      </a>\\n      <a href=\"/topics/chrome\" class=\"no-underline flex-1 d-flex flex-column\">\\n        <p class=\"f3 lh-condensed mb-0 mt-1 Link--primary\">Chrome</p>\\n        <p class=\"f5 color-fg-muted mb-0 mt-1\">\\n          Chrome is a web browser from the tech company Google.\\n        </p>\\n      </a>\\n      <div class=\"flex-grow-0\">\\n          <div data-view-component=\"true\" class=\"d-block\">\\n        <a href=\"/login?return_to=%2Ftopic.chrome\" rel=\"nofollow\" data-hydro-click=\"{&quot;event_type&quot;:&quot;authentication.click&quot;,&quot;payload&quot;:{&quot;location_in_page&quot;:&quot;star button&quot;,&quot;repository_id&quot;:null,&quot;auth_type&quot;:&quot;LOG_IN&quot;,&quot;originating_url&quot;:&quot;https://github.com/topics&quot;,&quot;user_id&quot;:null}}\" data-hydro-click-hmac=\"7575b5082e2c3915281be9460d747ad48fe377ebd620d4e12e2387269c69459c\" aria-label=\"You must be signed in to star a repository\" data-view-component=\"true\" class=\"tooltipped tooltipped-sw btn-sm btn\">    <svg aria-hidden=\"true\" height=\"16\" viewBox=\"0 0 16 16\" version=\"1.1\" width=\"16\" data-view-component=\"true\" class=\"octicon octicon-star v-align-text-bottom d-inline-block mr-2\">\\n    <path d=\"M8 .25a.75.75 0 0 1 .673.418l1.882 3.815 4.21.612a.75.75 0 0 1 .416 1.279l-3.046 2.97.719 4.192a.751.751 0 0 1-1.088.791L8 12.347l-3.766 1.98a.75.75 0 0 1-1.088-.79l.72-4.194L.818 6.374a.75.75 0 0 1 .416-1.28l4.21-.611L7.327.668A.75.75 0 0 1 8 .25Zm0 2.445L6.615 5.5a.75.75 0 0 1-.564.41l-3.097.45 2.24 2.184a.75.75 0 0 1 .216.664l-.528 3.084 2.769-1.456a.75.75 0 0 1 .698 0l2.77 1.456-.53-3.084a.75.75 0 0 1 .216-.664l2.24-2.183-3.096-.45a.75.75 0 0 1-.564-.41L8 2.694Z\"></path>\\n</svg><span data-view-component=\"true\" class=\"d-inline\">\\n          Star\\n</span>\\n</a></div>\\n      </div>\\n    </div>\\n    <div class=\"py-4 border-bottom d-flex flex-justify-between\">\\n      <a href=\"/topics/chrome-extension\" class=\"no-underline flex-grow-0\">\\n          <img\\n            src=\"https://raw.githubusercontent.com/github/explore/8eaa4711f3b6015070483ff1c3b707292304efe4/topics/chrome-extension/chrome-extension.png\"\\n            class=\"rounded mr-3\"\\n            width=\"64\"\\n            height=\"64\"\\n            alt=\"chrome-extension\"\\n          >\\n      </a>\\n      <a href=\"/topics/chrome-extension\" class=\"no-underline flex-1 d-flex flex-column\">\\n        <p class=\"f3 lh-condensed mb-0 mt-1 Link--primary\">Chrome extension</p>\\n        <p class=\"f5 color-fg-muted mb-0 mt-1\">\\n          Chrome extensions enable users to customize the Chrome browsing experience.\\n        </p>\\n      </a>\\n      <div class=\"flex-grow-0\">\\n          <div data-view-component=\"true\" class=\"d-block\">\\n        <a href=\"/login?return_to=%2Ftopic.chrome-extension\" rel=\"nofollow\" data-hydro-click=\"{&quot;event_type&quot;:&quot;authentication.click&quot;,&quot;payload&quot;:{&quot;location_in_page&quot;:&quot;star button&quot;,&quot;repository_id&quot;:null,&quot;auth_type&quot;:&quot;LOG_IN&quot;,&quot;originating_url&quot;:&quot;https://github.com/topics&quot;,&quot;user_id&quot;:null}}\" data-hydro-click-hmac=\"7575b5082e2c3915281be9460d747ad48fe377ebd620d4e12e2387269c69459c\" aria-label=\"You must be signed in to star a repository\" data-view-component=\"true\" class=\"tooltipped tooltipped-sw btn-sm btn\">    <svg aria-hidden=\"true\" height=\"16\" viewBox=\"0 0 16 16\" version=\"1.1\" width=\"16\" data-view-component=\"true\" class=\"octicon octicon-star v-align-text-bottom d-inline-block mr-2\">\\n    <path d=\"M8 .25a.75.75 0 0 1 .673.418l1.882 3.815 4.21.612a.75.75 0 0 1 .416 1.279l-3.046 2.97.719 4.192a.751.751 0 0 1-1.088.791L8 12.347l-3.766 1.98a.75.75 0 0 1-1.088-.79l.72-4.194L.818 6.374a.75.75 0 0 1 .416-1.28l4.21-.611L7.327.668A.75.75 0 0 1 8 .25Zm0 2.445L6.615 5.5a.75.75 0 0 1-.564.41l-3.097.45 2.24 2.184a.75.75 0 0 1 .216.664l-.528 3.084 2.769-1.456a.75.75 0 0 1 .698 0l2.77 1.456-.53-3.084a.75.75 0 0 1 .216-.664l2.24-2.183-3.096-.45a.75.75 0 0 1-.564-.41L8 2.694Z\"></path>\\n</svg><span data-view-component=\"true\" class=\"d-inline\">\\n          Star\\n</span>\\n</a></div>\\n      </div>\\n    </div>\\n    <div class=\"py-4 border-bottom d-flex flex-justify-between\">\\n      <a href=\"/topics/cli\" class=\"no-underline flex-grow-0\">\\n          <img\\n            src=\"https://raw.githubusercontent.com/github/explore/168190ce4594f1aee9adcfeb31d5283dbf2085cd/topics/cli/cli.png\"\\n            class=\"rounded mr-3\"\\n            width=\"64\"\\n            height=\"64\"\\n            alt=\"cli\"\\n          >\\n      </a>\\n      <a href=\"/topics/cli\" class=\"no-underline flex-1 d-flex flex-column\">\\n        <p class=\"f3 lh-condensed mb-0 mt-1 Link--primary\">Command-line interface</p>\\n        <p class=\"f5 color-fg-muted mb-0 mt-1\">\\n          A CLI, or command-line interface, is a console that helps users issue commands to a program.\\n        </p>\\n      </a>\\n      <div class=\"flex-grow-0\">\\n          <div data-view-component=\"true\" class=\"d-block\">\\n        <a href=\"/login?return_to=%2Ftopic.cli\" rel=\"nofollow\" data-hydro-click=\"{&quot;event_type&quot;:&quot;authentication.click&quot;,&quot;payload&quot;:{&quot;location_in_page&quot;:&quot;star button&quot;,&quot;repository_id&quot;:null,&quot;auth_type&quot;:&quot;LOG_IN&quot;,&quot;originating_url&quot;:&quot;https://github.com/topics&quot;,&quot;user_id&quot;:null}}\" data-hydro-click-hmac=\"7575b5082e2c3915281be9460d747ad48fe377ebd620d4e12e2387269c69459c\" aria-label=\"You must be signed in to star a repository\" data-view-component=\"true\" class=\"tooltipped tooltipped-sw btn-sm btn\">    <svg aria-hidden=\"true\" height=\"16\" viewBox=\"0 0 16 16\" version=\"1.1\" width=\"16\" data-view-component=\"true\" class=\"octicon octicon-star v-align-text-bottom d-inline-block mr-2\">\\n    <path d=\"M8 .25a.75.75 0 0 1 .673.418l1.882 3.815 4.21.612a.75.75 0 0 1 .416 1.279l-3.046 2.97.719 4.192a.751.751 0 0 1-1.088.791L8 12.347l-3.766 1.98a.75.75 0 0 1-1.088-.79l.72-4.194L.818 6.374a.75.75 0 0 1 .416-1.28l4.21-.611L7.327.668A.75.75 0 0 1 8 .25Zm0 2.445L6.615 5.5a.75.75 0 0 1-.564.41l-3.097.45 2.24 2.184a.75.75 0 0 1 .216.664l-.528 3.084 2.769-1.456a.75.75 0 0 1 .698 0l2.77 1.456-.53-3.084a.75.75 0 0 1 .216-.664l2.24-2.183-3.096-.45a.75.75 0 0 1-.564-.41L8 2.694Z\"></path>\\n</svg><span data-view-component=\"true\" class=\"d-inline\">\\n          Star\\n</span>\\n</a></div>\\n      </div>\\n    </div>\\n    <div class=\"py-4 border-bottom d-flex flex-justify-between\">\\n      <a href=\"/topics/clojure\" class=\"no-underline flex-grow-0\">\\n          <img\\n            src=\"https://raw.githubusercontent.com/github/explore/80688e429a7d4ef2fca1e82350fe8e3517d3494d/topics/clojure/clojure.png\"\\n            class=\"rounded mr-3\"\\n            width=\"64\"\\n            height=\"64\"\\n            alt=\"clojure\"\\n          >\\n      </a>\\n      <a href=\"/topics/clojure\" class=\"no-underline flex-1 d-flex flex-column\">\\n        <p class=\"f3 lh-condensed mb-0 mt-1 Link--primary\">Clojure</p>\\n        <p class=\"f5 color-fg-muted mb-0 mt-1\">\\n          Clojure is a dynamic, general-purpose programming language.\\n        </p>\\n      </a>\\n      <div class=\"flex-grow-0\">\\n          <div data-view-component=\"true\" class=\"d-block\">\\n        <a href=\"/login?return_to=%2Ftopic.clojure\" rel=\"nofollow\" data-hydro-click=\"{&quot;event_type&quot;:&quot;authentication.click&quot;,&quot;payload&quot;:{&quot;location_in_page&quot;:&quot;star button&quot;,&quot;repository_id&quot;:null,&quot;auth_type&quot;:&quot;LOG_IN&quot;,&quot;originating_url&quot;:&quot;https://github.com/topics&quot;,&quot;user_id&quot;:null}}\" data-hydro-click-hmac=\"7575b5082e2c3915281be9460d747ad48fe377ebd620d4e12e2387269c69459c\" aria-label=\"You must be signed in to star a repository\" data-view-component=\"true\" class=\"tooltipped tooltipped-sw btn-sm btn\">    <svg aria-hidden=\"true\" height=\"16\" viewBox=\"0 0 16 16\" version=\"1.1\" width=\"16\" data-view-component=\"true\" class=\"octicon octicon-star v-align-text-bottom d-inline-block mr-2\">\\n    <path d=\"M8 .25a.75.75 0 0 1 .673.418l1.882 3.815 4.21.612a.75.75 0 0 1 .416 1.279l-3.046 2.97.719 4.192a.751.751 0 0 1-1.088.791L8 12.347l-3.766 1.98a.75.75 0 0 1-1.088-.79l.72-4.194L.818 6.374a.75.75 0 0 1 .416-1.28l4.21-.611L7.327.668A.75.75 0 0 1 8 .25Zm0 2.445L6.615 5.5a.75.75 0 0 1-.564.41l-3.097.45 2.24 2.184a.75.75 0 0 1 .216.664l-.528 3.084 2.769-1.456a.75.75 0 0 1 .698 0l2.77 1.456-.53-3.084a.75.75 0 0 1 .216-.664l2.24-2.183-3.096-.45a.75.75 0 0 1-.564-.41L8 2.694Z\"></path>\\n</svg><span data-view-component=\"true\" class=\"d-inline\">\\n          Star\\n</span>\\n</a></div>\\n      </div>\\n    </div>\\n    <div class=\"py-4 border-bottom d-flex flex-justify-between\">\\n      <a href=\"/topics/code-quality\" class=\"no-underline flex-grow-0\">\\n          <div\\n            class=\"color-bg-accent f4 color-fg-muted text-bold rounded mr-3 flex-shrink-0 text-center\"\\n            style=\"width:64px; height:64px; line-height:64px;\"\\n          >\\n            #\\n          </div>\\n      </a>\\n      <a href=\"/topics/code-quality\" class=\"no-underline flex-1 d-flex flex-column\">\\n        <p class=\"f3 lh-condensed mb-0 mt-1 Link--primary\">Code quality</p>\\n        <p class=\"f5 color-fg-muted mb-0 mt-1\">\\n          Automate your code review with style, quality, security, and test‑coverage checks when you need them.\\n        </p>\\n      </a>\\n      <div class=\"flex-grow-0\">\\n          <div data-view-component=\"true\" class=\"d-block\">\\n        <a href=\"/login?return_to=%2Ftopic.code-quality\" rel=\"nofollow\" data-hydro-click=\"{&quot;event_type&quot;:&quot;authentication.click&quot;,&quot;payload&quot;:{&quot;location_in_page&quot;:&quot;star button&quot;,&quot;repository_id&quot;:null,&quot;auth_type&quot;:&quot;LOG_IN&quot;,&quot;originating_url&quot;:&quot;https://github.com/topics&quot;,&quot;user_id&quot;:null}}\" data-hydro-click-hmac=\"7575b5082e2c3915281be9460d747ad48fe377ebd620d4e12e2387269c69459c\" aria-label=\"You must be signed in to star a repository\" data-view-component=\"true\" class=\"tooltipped tooltipped-sw btn-sm btn\">    <svg aria-hidden=\"true\" height=\"16\" viewBox=\"0 0 16 16\" version=\"1.1\" width=\"16\" data-view-component=\"true\" class=\"octicon octicon-star v-align-text-bottom d-inline-block mr-2\">\\n    <path d=\"M8 .25a.75.75 0 0 1 .673.418l1.882 3.815 4.21.612a.75.75 0 0 1 .416 1.279l-3.046 2.97.719 4.192a.751.751 0 0 1-1.088.791L8 12.347l-3.766 1.98a.75.75 0 0 1-1.088-.79l.72-4.194L.818 6.374a.75.75 0 0 1 .416-1.28l4.21-.611L7.327.668A.75.75 0 0 1 8 .25Zm0 2.445L6.615 5.5a.75.75 0 0 1-.564.41l-3.097.45 2.24 2.184a.75.75 0 0 1 .216.664l-.528 3.084 2.769-1.456a.75.75 0 0 1 .698 0l2.77 1.456-.53-3.084a.75.75 0 0 1 .216-.664l2.24-2.183-3.096-.45a.75.75 0 0 1-.564-.41L8 2.694Z\"></path>\\n</svg><span data-view-component=\"true\" class=\"d-inline\">\\n          Star\\n</span>\\n</a></div>\\n      </div>\\n    </div>\\n    <div class=\"py-4 border-bottom d-flex flex-justify-between\">\\n      <a href=\"/topics/code-review\" class=\"no-underline flex-grow-0\">\\n          <div\\n            class=\"color-bg-accent f4 color-fg-muted text-bold rounded mr-3 flex-shrink-0 text-center\"\\n            style=\"width:64px; height:64px; line-height:64px;\"\\n          >\\n            #\\n          </div>\\n      </a>\\n      <a href=\"/topics/code-review\" class=\"no-underline flex-1 d-flex flex-column\">\\n        <p class=\"f3 lh-condensed mb-0 mt-1 Link--primary\">Code review</p>\\n        <p class=\"f5 color-fg-muted mb-0 mt-1\">\\n          Ensure your code meets quality standards and ship with confidence.\\n        </p>\\n      </a>\\n      <div class=\"flex-grow-0\">\\n          <div data-view-component=\"true\" class=\"d-block\">\\n        <a href=\"/login?return_to=%2Ftopic.code-review\" rel=\"nofollow\" data-hydro-click=\"{&quot;event_type&quot;:&quot;authentication.click&quot;,&quot;payload&quot;:{&quot;location_in_page&quot;:&quot;star button&quot;,&quot;repository_id&quot;:null,&quot;auth_type&quot;:&quot;LOG_IN&quot;,&quot;originating_url&quot;:&quot;https://github.com/topics&quot;,&quot;user_id&quot;:null}}\" data-hydro-click-hmac=\"7575b5082e2c3915281be9460d747ad48fe377ebd620d4e12e2387269c69459c\" aria-label=\"You must be signed in to star a repository\" data-view-component=\"true\" class=\"tooltipped tooltipped-sw btn-sm btn\">    <svg aria-hidden=\"true\" height=\"16\" viewBox=\"0 0 16 16\" version=\"1.1\" width=\"16\" data-view-component=\"true\" class=\"octicon octicon-star v-align-text-bottom d-inline-block mr-2\">\\n    <path d=\"M8 .25a.75.75 0 0 1 .673.418l1.882 3.815 4.21.612a.75.75 0 0 1 .416 1.279l-3.046 2.97.719 4.192a.751.751 0 0 1-1.088.791L8 12.347l-3.766 1.98a.75.75 0 0 1-1.088-.79l.72-4.194L.818 6.374a.75.75 0 0 1 .416-1.28l4.21-.611L7.327.668A.75.75 0 0 1 8 .25Zm0 2.445L6.615 5.5a.75.75 0 0 1-.564.41l-3.097.45 2.24 2.184a.75.75 0 0 1 .216.664l-.528 3.084 2.769-1.456a.75.75 0 0 1 .698 0l2.77 1.456-.53-3.084a.75.75 0 0 1 .216-.664l2.24-2.183-3.096-.45a.75.75 0 0 1-.564-.41L8 2.694Z\"></path>\\n</svg><span data-view-component=\"true\" class=\"d-inline\">\\n          Star\\n</span>\\n</a></div>\\n      </div>\\n    </div>\\n    <div class=\"py-4 border-bottom d-flex flex-justify-between\">\\n      <a href=\"/topics/compiler\" class=\"no-underline flex-grow-0\">\\n          <div\\n            class=\"color-bg-accent f4 color-fg-muted text-bold rounded mr-3 flex-shrink-0 text-center\"\\n            style=\"width:64px; height:64px; line-height:64px;\"\\n          >\\n            #\\n          </div>\\n      </a>\\n      <a href=\"/topics/compiler\" class=\"no-underline flex-1 d-flex flex-column\">\\n        <p class=\"f3 lh-condensed mb-0 mt-1 Link--primary\">Compiler</p>\\n        <p class=\"f5 color-fg-muted mb-0 mt-1\">\\n          Compilers are software that translate higher-level programming languages to lower-level languages (e.g. machine code).\\n        </p>\\n      </a>\\n      <div class=\"flex-grow-0\">\\n          <div data-view-component=\"true\" class=\"d-block\">\\n        <a href=\"/login?return_to=%2Ftopic.compiler\" rel=\"nofollow\" data-hydro-click=\"{&quot;event_type&quot;:&quot;authentication.click&quot;,&quot;payload&quot;:{&quot;location_in_page&quot;:&quot;star button&quot;,&quot;repository_id&quot;:null,&quot;auth_type&quot;:&quot;LOG_IN&quot;,&quot;originating_url&quot;:&quot;https://github.com/topics&quot;,&quot;user_id&quot;:null}}\" data-hydro-click-hmac=\"7575b5082e2c3915281be9460d747ad48fe377ebd620d4e12e2387269c69459c\" aria-label=\"You must be signed in to star a repository\" data-view-component=\"true\" class=\"tooltipped tooltipped-sw btn-sm btn\">    <svg aria-hidden=\"true\" height=\"16\" viewBox=\"0 0 16 16\" version=\"1.1\" width=\"16\" data-view-component=\"true\" class=\"octicon octicon-star v-align-text-bottom d-inline-block mr-2\">\\n    <path d=\"M8 .25a.75.75 0 0 1 .673.418l1.882 3.815 4.21.612a.75.75 0 0 1 .416 1.279l-3.046 2.97.719 4.192a.751.751 0 0 1-1.088.791L8 12.347l-3.766 1.98a.75.75 0 0 1-1.088-.79l.72-4.194L.818 6.374a.75.75 0 0 1 .416-1.28l4.21-.611L7.327.668A.75.75 0 0 1 8 .25Zm0 2.445L6.615 5.5a.75.75 0 0 1-.564.41l-3.097.45 2.24 2.184a.75.75 0 0 1 .216.664l-.528 3.084 2.769-1.456a.75.75 0 0 1 .698 0l2.77 1.456-.53-3.084a.75.75 0 0 1 .216-.664l2.24-2.183-3.096-.45a.75.75 0 0 1-.564-.41L8 2.694Z\"></path>\\n</svg><span data-view-component=\"true\" class=\"d-inline\">\\n          Star\\n</span>\\n</a></div>\\n      </div>\\n    </div>\\n    <div class=\"py-4 border-bottom d-flex flex-justify-between\">\\n      <a href=\"/topics/continuous-integration\" class=\"no-underline flex-grow-0\">\\n          <div\\n            class=\"color-bg-accent f4 color-fg-muted text-bold rounded mr-3 flex-shrink-0 text-center\"\\n            style=\"width:64px; height:64px; line-height:64px;\"\\n          >\\n            #\\n          </div>\\n      </a>\\n      <a href=\"/topics/continuous-integration\" class=\"no-underline flex-1 d-flex flex-column\">\\n        <p class=\"f3 lh-condensed mb-0 mt-1 Link--primary\">Continuous integration</p>\\n        <p class=\"f5 color-fg-muted mb-0 mt-1\">\\n          Automatically build and test your code as you push it upstream, preventing bugs from being deployed to production.\\n        </p>\\n      </a>\\n      <div class=\"flex-grow-0\">\\n          <div data-view-component=\"true\" class=\"d-block\">\\n        <a href=\"/login?return_to=%2Ftopic.continuous-integration\" rel=\"nofollow\" data-hydro-click=\"{&quot;event_type&quot;:&quot;authentication.click&quot;,&quot;payload&quot;:{&quot;location_in_page&quot;:&quot;star button&quot;,&quot;repository_id&quot;:null,&quot;auth_type&quot;:&quot;LOG_IN&quot;,&quot;originating_url&quot;:&quot;https://github.com/topics&quot;,&quot;user_id&quot;:null}}\" data-hydro-click-hmac=\"7575b5082e2c3915281be9460d747ad48fe377ebd620d4e12e2387269c69459c\" aria-label=\"You must be signed in to star a repository\" data-view-component=\"true\" class=\"tooltipped tooltipped-sw btn-sm btn\">    <svg aria-hidden=\"true\" height=\"16\" viewBox=\"0 0 16 16\" version=\"1.1\" width=\"16\" data-view-component=\"true\" class=\"octicon octicon-star v-align-text-bottom d-inline-block mr-2\">\\n    <path d=\"M8 .25a.75.75 0 0 1 .673.418l1.882 3.815 4.21.612a.75.75 0 0 1 .416 1.279l-3.046 2.97.719 4.192a.751.751 0 0 1-1.088.791L8 12.347l-3.766 1.98a.75.75 0 0 1-1.088-.79l.72-4.194L.818 6.374a.75.75 0 0 1 .416-1.28l4.21-.611L7.327.668A.75.75 0 0 1 8 .25Zm0 2.445L6.615 5.5a.75.75 0 0 1-.564.41l-3.097.45 2.24 2.184a.75.75 0 0 1 .216.664l-.528 3.084 2.769-1.456a.75.75 0 0 1 .698 0l2.77 1.456-.53-3.084a.75.75 0 0 1 .216-.664l2.24-2.183-3.096-.45a.75.75 0 0 1-.564-.41L8 2.694Z\"></path>\\n</svg><span data-view-component=\"true\" class=\"d-inline\">\\n          Star\\n</span>\\n</a></div>\\n      </div>\\n    </div>\\n    <div class=\"py-4 border-bottom d-flex flex-justify-between\">\\n      <a href=\"/topics/cpp\" class=\"no-underline flex-grow-0\">\\n          <img\\n            src=\"https://raw.githubusercontent.com/github/explore/180320cffc25f4ed1bbdfd33d4db3a66eeeeb358/topics/cpp/cpp.png\"\\n            class=\"rounded mr-3\"\\n            width=\"64\"\\n            height=\"64\"\\n            alt=\"cpp\"\\n          >\\n      </a>\\n      <a href=\"/topics/cpp\" class=\"no-underline flex-1 d-flex flex-column\">\\n        <p class=\"f3 lh-condensed mb-0 mt-1 Link--primary\">C++</p>\\n        <p class=\"f5 color-fg-muted mb-0 mt-1\">\\n          C++ is a general purpose and object-oriented programming language.\\n        </p>\\n      </a>\\n      <div class=\"flex-grow-0\">\\n          <div data-view-component=\"true\" class=\"d-block\">\\n        <a href=\"/login?return_to=%2Ftopic.cpp\" rel=\"nofollow\" data-hydro-click=\"{&quot;event_type&quot;:&quot;authentication.click&quot;,&quot;payload&quot;:{&quot;location_in_page&quot;:&quot;star button&quot;,&quot;repository_id&quot;:null,&quot;auth_type&quot;:&quot;LOG_IN&quot;,&quot;originating_url&quot;:&quot;https://github.com/topics&quot;,&quot;user_id&quot;:null}}\" data-hydro-click-hmac=\"7575b5082e2c3915281be9460d747ad48fe377ebd620d4e12e2387269c69459c\" aria-label=\"You must be signed in to star a repository\" data-view-component=\"true\" class=\"tooltipped tooltipped-sw btn-sm btn\">    <svg aria-hidden=\"true\" height=\"16\" viewBox=\"0 0 16 16\" version=\"1.1\" width=\"16\" data-view-component=\"true\" class=\"octicon octicon-star v-align-text-bottom d-inline-block mr-2\">\\n    <path d=\"M8 .25a.75.75 0 0 1 .673.418l1.882 3.815 4.21.612a.75.75 0 0 1 .416 1.279l-3.046 2.97.719 4.192a.751.751 0 0 1-1.088.791L8 12.347l-3.766 1.98a.75.75 0 0 1-1.088-.79l.72-4.194L.818 6.374a.75.75 0 0 1 .416-1.28l4.21-.611L7.327.668A.75.75 0 0 1 8 .25Zm0 2.445L6.615 5.5a.75.75 0 0 1-.564.41l-3.097.45 2.24 2.184a.75.75 0 0 1 .216.664l-.528 3.084 2.769-1.456a.75.75 0 0 1 .698 0l2.77 1.456-.53-3.084a.75.75 0 0 1 .216-.664l2.24-2.183-3.096-.45a.75.75 0 0 1-.564-.41L8 2.694Z\"></path>\\n</svg><span data-view-component=\"true\" class=\"d-inline\">\\n          Star\\n</span>\\n</a></div>\\n      </div>\\n    </div>\\n    <div class=\"py-4 border-bottom d-flex flex-justify-between\">\\n      <a href=\"/topics/cryptocurrency\" class=\"no-underline flex-grow-0\">\\n          <div\\n            class=\"color-bg-accent f4 color-fg-muted text-bold rounded mr-3 flex-shrink-0 text-center\"\\n            style=\"width:64px; height:64px; line-height:64px;\"\\n          >\\n            #\\n          </div>\\n      </a>\\n      <a href=\"/topics/cryptocurrency\" class=\"no-underline flex-1 d-flex flex-column\">\\n        <p class=\"f3 lh-condensed mb-0 mt-1 Link--primary\">Cryptocurrency</p>\\n        <p class=\"f5 color-fg-muted mb-0 mt-1\">\\n          A cryptocurrency is a digital currency that uses cryptography.\\n        </p>\\n      </a>\\n      <div class=\"flex-grow-0\">\\n          <div data-view-component=\"true\" class=\"d-block\">\\n        <a href=\"/login?return_to=%2Ftopic.cryptocurrency\" rel=\"nofollow\" data-hydro-click=\"{&quot;event_type&quot;:&quot;authentication.click&quot;,&quot;payload&quot;:{&quot;location_in_page&quot;:&quot;star button&quot;,&quot;repository_id&quot;:null,&quot;auth_type&quot;:&quot;LOG_IN&quot;,&quot;originating_url&quot;:&quot;https://github.com/topics&quot;,&quot;user_id&quot;:null}}\" data-hydro-click-hmac=\"7575b5082e2c3915281be9460d747ad48fe377ebd620d4e12e2387269c69459c\" aria-label=\"You must be signed in to star a repository\" data-view-component=\"true\" class=\"tooltipped tooltipped-sw btn-sm btn\">    <svg aria-hidden=\"true\" height=\"16\" viewBox=\"0 0 16 16\" version=\"1.1\" width=\"16\" data-view-component=\"true\" class=\"octicon octicon-star v-align-text-bottom d-inline-block mr-2\">\\n    <path d=\"M8 .25a.75.75 0 0 1 .673.418l1.882 3.815 4.21.612a.75.75 0 0 1 .416 1.279l-3.046 2.97.719 4.192a.751.751 0 0 1-1.088.791L8 12.347l-3.766 1.98a.75.75 0 0 1-1.088-.79l.72-4.194L.818 6.374a.75.75 0 0 1 .416-1.28l4.21-.611L7.327.668A.75.75 0 0 1 8 .25Zm0 2.445L6.615 5.5a.75.75 0 0 1-.564.41l-3.097.45 2.24 2.184a.75.75 0 0 1 .216.664l-.528 3.084 2.769-1.456a.75.75 0 0 1 .698 0l2.77 1.456-.53-3.084a.75.75 0 0 1 .216-.664l2.24-2.183-3.096-.45a.75.75 0 0 1-.564-.41L8 2.694Z\"></path>\\n</svg><span data-view-component=\"true\" class=\"d-inline\">\\n          Star\\n</span>\\n</a></div>\\n      </div>\\n    </div>\\n    <div class=\"py-4 border-bottom d-flex flex-justify-between\">\\n      <a href=\"/topics/crystal\" class=\"no-underline flex-grow-0\">\\n          <img\\n            src=\"https://raw.githubusercontent.com/github/explore/80688e429a7d4ef2fca1e82350fe8e3517d3494d/topics/crystal/crystal.png\"\\n            class=\"rounded mr-3\"\\n            width=\"64\"\\n            height=\"64\"\\n            alt=\"crystal\"\\n          >\\n      </a>\\n      <a href=\"/topics/crystal\" class=\"no-underline flex-1 d-flex flex-column\">\\n        <p class=\"f3 lh-condensed mb-0 mt-1 Link--primary\">Crystal</p>\\n        <p class=\"f5 color-fg-muted mb-0 mt-1\">\\n          Crystal is a self-hosted, general purpose programming language.\\n        </p>\\n      </a>\\n      <div class=\"flex-grow-0\">\\n          <div data-view-component=\"true\" class=\"d-block\">\\n        <a href=\"/login?return_to=%2Ftopic.crystal\" rel=\"nofollow\" data-hydro-click=\"{&quot;event_type&quot;:&quot;authentication.click&quot;,&quot;payload&quot;:{&quot;location_in_page&quot;:&quot;star button&quot;,&quot;repository_id&quot;:null,&quot;auth_type&quot;:&quot;LOG_IN&quot;,&quot;originating_url&quot;:&quot;https://github.com/topics&quot;,&quot;user_id&quot;:null}}\" data-hydro-click-hmac=\"7575b5082e2c3915281be9460d747ad48fe377ebd620d4e12e2387269c69459c\" aria-label=\"You must be signed in to star a repository\" data-view-component=\"true\" class=\"tooltipped tooltipped-sw btn-sm btn\">    <svg aria-hidden=\"true\" height=\"16\" viewBox=\"0 0 16 16\" version=\"1.1\" width=\"16\" data-view-component=\"true\" class=\"octicon octicon-star v-align-text-bottom d-inline-block mr-2\">\\n    <path d=\"M8 .25a.75.75 0 0 1 .673.418l1.882 3.815 4.21.612a.75.75 0 0 1 .416 1.279l-3.046 2.97.719 4.192a.751.751 0 0 1-1.088.791L8 12.347l-3.766 1.98a.75.75 0 0 1-1.088-.79l.72-4.194L.818 6.374a.75.75 0 0 1 .416-1.28l4.21-.611L7.327.668A.75.75 0 0 1 8 .25Zm0 2.445L6.615 5.5a.75.75 0 0 1-.564.41l-3.097.45 2.24 2.184a.75.75 0 0 1 .216.664l-.528 3.084 2.769-1.456a.75.75 0 0 1 .698 0l2.77 1.456-.53-3.084a.75.75 0 0 1 .216-.664l2.24-2.183-3.096-.45a.75.75 0 0 1-.564-.41L8 2.694Z\"></path>\\n</svg><span data-view-component=\"true\" class=\"d-inline\">\\n          Star\\n</span>\\n</a></div>\\n      </div>\\n    </div>\\n</div>\\n  <!-- \\'\"` --><!-- </textarea></xmp> --></option></form><form class=\"ajax-pagination-form js-ajax-pagination\" data-turbo=\"false\" action=\"/topics\" accept-charset=\"UTF-8\" method=\"get\">\\n    <input name=\"page\" type=\"hidden\" value=\"2\">\\n    <button\\n      type=\"submit\"\\n      class=\"ajax-pagination-btn btn mt-4 py-2 color-border-default f6 width-full\"\\n      data-disable-with=\"Loading more...\"\\n    >\\n      Load more&hellip;\\n    </button>\\n</form>\\n  </div>\\n\\n  <div class=\"col-lg-3\">\\n      <h2 class=\"h4 mb-2\">Popular topics</h2>\\n      <ul class=\"col-sm-6 col-md-4 col-lg-12 list-style-none flex-wrap\">\\n          <li class=\"d-inline-block\">\\n            <a data-ga-click=\"Topics, go to javascript, location:popular topics\" href=\"/topics/javascript\" title=\"Topic: javascript\" data-view-component=\"true\" class=\"topic-tag topic-tag-link f6 my-1\">\\n  javascript\\n</a>\\n          </li>\\n          <li class=\"d-inline-block\">\\n            <a data-ga-click=\"Topics, go to config, location:popular topics\" href=\"/topics/config\" title=\"Topic: config\" data-view-component=\"true\" class=\"topic-tag topic-tag-link f6 my-1\">\\n  config\\n</a>\\n          </li>\\n          <li class=\"d-inline-block\">\\n            <a data-ga-click=\"Topics, go to python, location:popular topics\" href=\"/topics/python\" title=\"Topic: python\" data-view-component=\"true\" class=\"topic-tag topic-tag-link f6 my-1\">\\n  python\\n</a>\\n          </li>\\n          <li class=\"d-inline-block\">\\n            <a data-ga-click=\"Topics, go to typescript, location:popular topics\" href=\"/topics/typescript\" title=\"Topic: typescript\" data-view-component=\"true\" class=\"topic-tag topic-tag-link f6 my-1\">\\n  typescript\\n</a>\\n          </li>\\n          <li class=\"d-inline-block\">\\n            <a data-ga-click=\"Topics, go to gplv3, location:popular topics\" href=\"/topics/gplv3\" title=\"Topic: gplv3\" data-view-component=\"true\" class=\"topic-tag topic-tag-link f6 my-1\">\\n  gplv3\\n</a>\\n          </li>\\n          <li class=\"d-inline-block\">\\n            <a data-ga-click=\"Topics, go to snu, location:popular topics\" href=\"/topics/snu\" title=\"Topic: snu\" data-view-component=\"true\" class=\"topic-tag topic-tag-link f6 my-1\">\\n  snu\\n</a>\\n          </li>\\n          <li class=\"d-inline-block\">\\n            <a data-ga-click=\"Topics, go to gpl3, location:popular topics\" href=\"/topics/gpl3\" title=\"Topic: gpl3\" data-view-component=\"true\" class=\"topic-tag topic-tag-link f6 my-1\">\\n  gpl3\\n</a>\\n          </li>\\n          <li class=\"d-inline-block\">\\n            <a data-ga-click=\"Topics, go to github-config, location:popular topics\" href=\"/topics/github-config\" title=\"Topic: github-config\" data-view-component=\"true\" class=\"topic-tag topic-tag-link f6 my-1\">\\n  github-config\\n</a>\\n          </li>\\n          <li class=\"d-inline-block\">\\n            <a data-ga-click=\"Topics, go to snu-development, location:popular topics\" href=\"/topics/snu-development\" title=\"Topic: snu-development\" data-view-component=\"true\" class=\"topic-tag topic-tag-link f6 my-1\">\\n  snu-development\\n</a>\\n          </li>\\n          <li class=\"d-inline-block\">\\n            <a data-ga-click=\"Topics, go to snu-project, location:popular topics\" href=\"/topics/snu-project\" title=\"Topic: snu-project\" data-view-component=\"true\" class=\"topic-tag topic-tag-link f6 my-1\">\\n  snu-project\\n</a>\\n          </li>\\n      </ul>\\n  </div>\\n</div>\\n\\n      </main>\\n  </div>\\n\\n          <footer class=\"footer pt-8 pb-6 f6 color-fg-muted p-responsive\" role=\"contentinfo\" >\\n  <h2 class=\\'sr-only\\'>Footer</h2>\\n\\n  \\n\\n\\n  <div class=\"d-flex flex-justify-center flex-items-center flex-column-reverse flex-lg-row flex-wrap flex-lg-nowrap\">\\n    <div class=\"d-flex flex-items-center flex-shrink-0 mx-2\">\\n      <a aria-label=\"GitHub Homepage\" class=\"footer-octicon mr-2\" href=\"https://github.com\">\\n        <svg aria-hidden=\"true\" height=\"24\" viewBox=\"0 0 24 24\" version=\"1.1\" width=\"24\" data-view-component=\"true\" class=\"octicon octicon-mark-github\">\\n    <path d=\"M12 1C5.9225 1 1 5.9225 1 12C1 16.8675 4.14875 20.9787 8.52125 22.4362C9.07125 22.5325 9.2775 22.2025 9.2775 21.9137C9.2775 21.6525 9.26375 20.7862 9.26375 19.865C6.5 20.3737 5.785 19.1912 5.565 18.5725C5.44125 18.2562 4.905 17.28 4.4375 17.0187C4.0525 16.8125 3.5025 16.3037 4.42375 16.29C5.29 16.2762 5.90875 17.0875 6.115 17.4175C7.105 19.0812 8.68625 18.6137 9.31875 18.325C9.415 17.61 9.70375 17.1287 10.02 16.8537C7.5725 16.5787 5.015 15.63 5.015 11.4225C5.015 10.2262 5.44125 9.23625 6.1425 8.46625C6.0325 8.19125 5.6475 7.06375 6.2525 5.55125C6.2525 5.55125 7.17375 5.2625 9.2775 6.67875C10.1575 6.43125 11.0925 6.3075 12.0275 6.3075C12.9625 6.3075 13.8975 6.43125 14.7775 6.67875C16.8813 5.24875 17.8025 5.55125 17.8025 5.55125C18.4075 7.06375 18.0225 8.19125 17.9125 8.46625C18.6138 9.23625 19.04 10.2125 19.04 11.4225C19.04 15.6437 16.4688 16.5787 14.0213 16.8537C14.42 17.1975 14.7638 17.8575 14.7638 18.8887C14.7638 20.36 14.75 21.5425 14.75 21.9137C14.75 22.2025 14.9563 22.5462 15.5063 22.4362C19.8513 20.9787 23 16.8537 23 12C23 5.9225 18.0775 1 12 1Z\"></path>\\n</svg>\\n</a>\\n      <span>\\n        &copy; 2025 GitHub,&nbsp;Inc.\\n      </span>\\n    </div>\\n\\n    <nav aria-label=\"Footer\">\\n      <h3 class=\"sr-only\" id=\"sr-footer-heading\">Footer navigation</h3>\\n\\n      <ul class=\"list-style-none d-flex flex-justify-center flex-wrap mb-2 mb-lg-0\" aria-labelledby=\"sr-footer-heading\">\\n\\n          <li class=\"mx-2\">\\n            <a data-analytics-event=\"{&quot;category&quot;:&quot;Footer&quot;,&quot;action&quot;:&quot;go to Terms&quot;,&quot;label&quot;:&quot;text:terms&quot;}\" href=\"https://docs.github.com/site-policy/github-terms/github-terms-of-service\" data-view-component=\"true\" class=\"Link--secondary Link\">Terms</a>\\n          </li>\\n\\n          <li class=\"mx-2\">\\n            <a data-analytics-event=\"{&quot;category&quot;:&quot;Footer&quot;,&quot;action&quot;:&quot;go to privacy&quot;,&quot;label&quot;:&quot;text:privacy&quot;}\" href=\"https://docs.github.com/site-policy/privacy-policies/github-privacy-statement\" data-view-component=\"true\" class=\"Link--secondary Link\">Privacy</a>\\n          </li>\\n\\n          <li class=\"mx-2\">\\n            <a data-analytics-event=\"{&quot;category&quot;:&quot;Footer&quot;,&quot;action&quot;:&quot;go to security&quot;,&quot;label&quot;:&quot;text:security&quot;}\" href=\"https://github.com/security\" data-view-component=\"true\" class=\"Link--secondary Link\">Security</a>\\n          </li>\\n\\n          <li class=\"mx-2\">\\n            <a data-analytics-event=\"{&quot;category&quot;:&quot;Footer&quot;,&quot;action&quot;:&quot;go to status&quot;,&quot;label&quot;:&quot;text:status&quot;}\" href=\"https://www.githubstatus.com/\" data-view-component=\"true\" class=\"Link--secondary Link\">Status</a>\\n          </li>\\n\\n          <li class=\"mx-2\">\\n            <a data-analytics-event=\"{&quot;category&quot;:&quot;Footer&quot;,&quot;action&quot;:&quot;go to docs&quot;,&quot;label&quot;:&quot;text:docs&quot;}\" href=\"https://docs.github.com/\" data-view-component=\"true\" class=\"Link--secondary Link\">Docs</a>\\n          </li>\\n\\n          <li class=\"mx-2\">\\n            <a data-analytics-event=\"{&quot;category&quot;:&quot;Footer&quot;,&quot;action&quot;:&quot;go to contact&quot;,&quot;label&quot;:&quot;text:contact&quot;}\" href=\"https://support.github.com?tags=dotcom-footer\" data-view-component=\"true\" class=\"Link--secondary Link\">Contact</a>\\n          </li>\\n\\n          <li class=\"mx-2\" >\\n  <cookie-consent-link>\\n    <button\\n      type=\"button\"\\n      class=\"Link--secondary underline-on-hover border-0 p-0 color-bg-transparent\"\\n      data-action=\"click:cookie-consent-link#showConsentManagement\"\\n      data-analytics-event=\"{&quot;location&quot;:&quot;footer&quot;,&quot;action&quot;:&quot;cookies&quot;,&quot;context&quot;:&quot;subfooter&quot;,&quot;tag&quot;:&quot;link&quot;,&quot;label&quot;:&quot;cookies_link_subfooter_footer&quot;}\"\\n    >\\n      Manage cookies\\n    </button>\\n  </cookie-consent-link>\\n</li>\\n\\n<li class=\"mx-2\">\\n  <cookie-consent-link>\\n    <button\\n      type=\"button\"\\n      class=\"Link--secondary underline-on-hover border-0 p-0 color-bg-transparent\"\\n      data-action=\"click:cookie-consent-link#showConsentManagement\"\\n      data-analytics-event=\"{&quot;location&quot;:&quot;footer&quot;,&quot;action&quot;:&quot;dont_share_info&quot;,&quot;context&quot;:&quot;subfooter&quot;,&quot;tag&quot;:&quot;link&quot;,&quot;label&quot;:&quot;dont_share_info_link_subfooter_footer&quot;}\"\\n    >\\n      Do not share my personal information\\n    </button>\\n  </cookie-consent-link>\\n</li>\\n\\n      </ul>\\n    </nav>\\n  </div>\\n</footer>\\n\\n\\n\\n    <ghcc-consent id=\"ghcc\" class=\"position-fixed bottom-0 left-0\" style=\"z-index: 999999\"\\n      data-locale=\"en\"\\n      data-initial-cookie-consent-allowed=\"\"\\n      data-cookie-consent-required=\"false\"\\n    ></ghcc-consent>\\n\\n\\n\\n  <div id=\"ajax-error-message\" class=\"ajax-error-message flash flash-error\" hidden>\\n    <svg aria-hidden=\"true\" height=\"16\" viewBox=\"0 0 16 16\" version=\"1.1\" width=\"16\" data-view-component=\"true\" class=\"octicon octicon-alert\">\\n    <path d=\"M6.457 1.047c.659-1.234 2.427-1.234 3.086 0l6.082 11.378A1.75 1.75 0 0 1 14.082 15H1.918a1.75 1.75 0 0 1-1.543-2.575Zm1.763.707a.25.25 0 0 0-.44 0L1.698 13.132a.25.25 0 0 0 .22.368h12.164a.25.25 0 0 0 .22-.368Zm.53 3.996v2.5a.75.75 0 0 1-1.5 0v-2.5a.75.75 0 0 1 1.5 0ZM9 11a1 1 0 1 1-2 0 1 1 0 0 1 2 0Z\"></path>\\n</svg>\\n    <button type=\"button\" class=\"flash-close js-ajax-error-dismiss\" aria-label=\"Dismiss error\">\\n      <svg aria-hidden=\"true\" height=\"16\" viewBox=\"0 0 16 16\" version=\"1.1\" width=\"16\" data-view-component=\"true\" class=\"octicon octicon-x\">\\n    <path d=\"M3.72 3.72a.75.75 0 0 1 1.06 0L8 6.94l3.22-3.22a.749.749 0 0 1 1.275.326.749.749 0 0 1-.215.734L9.06 8l3.22 3.22a.749.749 0 0 1-.326 1.275.749.749 0 0 1-.734-.215L8 9.06l-3.22 3.22a.751.751 0 0 1-1.042-.018.751.751 0 0 1-.018-1.042L6.94 8 3.72 4.78a.75.75 0 0 1 0-1.06Z\"></path>\\n</svg>\\n    </button>\\n    You can’t perform that action at this time.\\n  </div>\\n\\n    <template id=\"site-details-dialog\">\\n  <details class=\"details-reset details-overlay details-overlay-dark lh-default color-fg-default hx_rsm\" open>\\n    <summary role=\"button\" aria-label=\"Close dialog\"></summary>\\n    <details-dialog class=\"Box Box--overlay d-flex flex-column anim-fade-in fast hx_rsm-dialog hx_rsm-modal\">\\n      <button class=\"Box-btn-octicon m-0 btn-octicon position-absolute right-0 top-0\" type=\"button\" aria-label=\"Close dialog\" data-close-dialog>\\n        <svg aria-hidden=\"true\" height=\"16\" viewBox=\"0 0 16 16\" version=\"1.1\" width=\"16\" data-view-component=\"true\" class=\"octicon octicon-x\">\\n    <path d=\"M3.72 3.72a.75.75 0 0 1 1.06 0L8 6.94l3.22-3.22a.749.749 0 0 1 1.275.326.749.749 0 0 1-.215.734L9.06 8l3.22 3.22a.749.749 0 0 1-.326 1.275.749.749 0 0 1-.734-.215L8 9.06l-3.22 3.22a.751.751 0 0 1-1.042-.018.751.751 0 0 1-.018-1.042L6.94 8 3.72 4.78a.75.75 0 0 1 0-1.06Z\"></path>\\n</svg>\\n      </button>\\n      <div class=\"octocat-spinner my-6 js-details-dialog-spinner\"></div>\\n    </details-dialog>\\n  </details>\\n</template>\\n\\n    <div class=\"Popover js-hovercard-content position-absolute\" style=\"display: none; outline: none;\">\\n  <div class=\"Popover-message Popover-message--bottom-left Popover-message--large Box color-shadow-large\" style=\"width:360px;\">\\n  </div>\\n</div>\\n\\n    <template id=\"snippet-clipboard-copy-button\">\\n  <div class=\"zeroclipboard-container position-absolute right-0 top-0\">\\n    <clipboard-copy aria-label=\"Copy\" class=\"ClipboardButton btn js-clipboard-copy m-2 p-0\" data-copy-feedback=\"Copied!\" data-tooltip-direction=\"w\">\\n      <svg aria-hidden=\"true\" height=\"16\" viewBox=\"0 0 16 16\" version=\"1.1\" width=\"16\" data-view-component=\"true\" class=\"octicon octicon-copy js-clipboard-copy-icon m-2\">\\n    <path d=\"M0 6.75C0 5.784.784 5 1.75 5h1.5a.75.75 0 0 1 0 1.5h-1.5a.25.25 0 0 0-.25.25v7.5c0 .138.112.25.25.25h7.5a.25.25 0 0 0 .25-.25v-1.5a.75.75 0 0 1 1.5 0v1.5A1.75 1.75 0 0 1 9.25 16h-7.5A1.75 1.75 0 0 1 0 14.25Z\"></path><path d=\"M5 1.75C5 .784 5.784 0 6.75 0h7.5C15.216 0 16 .784 16 1.75v7.5A1.75 1.75 0 0 1 14.25 11h-7.5A1.75 1.75 0 0 1 5 9.25Zm1.75-.25a.25.25 0 0 0-.25.25v7.5c0 .138.112.25.25.25h7.5a.25.25 0 0 0 .25-.25v-7.5a.25.25 0 0 0-.25-.25Z\"></path>\\n</svg>\\n      <svg aria-hidden=\"true\" height=\"16\" viewBox=\"0 0 16 16\" version=\"1.1\" width=\"16\" data-view-component=\"true\" class=\"octicon octicon-check js-clipboard-check-icon color-fg-success d-none m-2\">\\n    <path d=\"M13.78 4.22a.75.75 0 0 1 0 1.06l-7.25 7.25a.75.75 0 0 1-1.06 0L2.22 9.28a.751.751 0 0 1 .018-1.042.751.751 0 0 1 1.042-.018L6 10.94l6.72-6.72a.75.75 0 0 1 1.06 0Z\"></path>\\n</svg>\\n    </clipboard-copy>\\n  </div>\\n</template>\\n<template id=\"snippet-clipboard-copy-button-unpositioned\">\\n  <div class=\"zeroclipboard-container\">\\n    <clipboard-copy aria-label=\"Copy\" class=\"ClipboardButton btn btn-invisible js-clipboard-copy m-2 p-0 d-flex flex-justify-center flex-items-center\" data-copy-feedback=\"Copied!\" data-tooltip-direction=\"w\">\\n      <svg aria-hidden=\"true\" height=\"16\" viewBox=\"0 0 16 16\" version=\"1.1\" width=\"16\" data-view-component=\"true\" class=\"octicon octicon-copy js-clipboard-copy-icon\">\\n    <path d=\"M0 6.75C0 5.784.784 5 1.75 5h1.5a.75.75 0 0 1 0 1.5h-1.5a.25.25 0 0 0-.25.25v7.5c0 .138.112.25.25.25h7.5a.25.25 0 0 0 .25-.25v-1.5a.75.75 0 0 1 1.5 0v1.5A1.75 1.75 0 0 1 9.25 16h-7.5A1.75 1.75 0 0 1 0 14.25Z\"></path><path d=\"M5 1.75C5 .784 5.784 0 6.75 0h7.5C15.216 0 16 .784 16 1.75v7.5A1.75 1.75 0 0 1 14.25 11h-7.5A1.75 1.75 0 0 1 5 9.25Zm1.75-.25a.25.25 0 0 0-.25.25v7.5c0 .138.112.25.25.25h7.5a.25.25 0 0 0 .25-.25v-7.5a.25.25 0 0 0-.25-.25Z\"></path>\\n</svg>\\n      <svg aria-hidden=\"true\" height=\"16\" viewBox=\"0 0 16 16\" version=\"1.1\" width=\"16\" data-view-component=\"true\" class=\"octicon octicon-check js-clipboard-check-icon color-fg-success d-none\">\\n    <path d=\"M13.78 4.22a.75.75 0 0 1 0 1.06l-7.25 7.25a.75.75 0 0 1-1.06 0L2.22 9.28a.751.751 0 0 1 .018-1.042.751.751 0 0 1 1.042-.018L6 10.94l6.72-6.72a.75.75 0 0 1 1.06 0Z\"></path>\\n</svg>\\n    </clipboard-copy>\\n  </div>\\n</template>\\n\\n\\n\\n\\n    </div>\\n\\n    <div id=\"js-global-screen-reader-notice\" class=\"sr-only mt-n1\" aria-live=\"polite\" aria-atomic=\"true\" ></div>\\n    <div id=\"js-global-screen-reader-notice-assertive\" class=\"sr-only mt-n1\" aria-live=\"assertive\" aria-atomic=\"true\"></div>\\n  </body>\\n</html>\\n'"
      ]
     },
     "execution_count": 5,
     "metadata": {},
     "output_type": "execute_result"
    }
   ],
   "source": [
    "response.text"
   ]
  },
  {
   "cell_type": "code",
   "execution_count": 6,
   "id": "f8f383e1-8d09-4be0-a65f-b28bc2ea5e8e",
   "metadata": {},
   "outputs": [
    {
     "data": {
      "text/plain": [
       "216712"
      ]
     },
     "execution_count": 6,
     "metadata": {},
     "output_type": "execute_result"
    }
   ],
   "source": [
    "len(response.text)"
   ]
  },
  {
   "cell_type": "code",
   "execution_count": 7,
   "id": "3f60adf9-e720-4387-82d5-66c145854b90",
   "metadata": {},
   "outputs": [],
   "source": [
    "page_contents = response.text"
   ]
  },
  {
   "cell_type": "code",
   "execution_count": 8,
   "id": "b483cbaa-5d49-4063-aae2-114419d33ded",
   "metadata": {},
   "outputs": [
    {
     "data": {
      "text/plain": [
       "'\\n\\n<!DOCTYPE html>\\n<html\\n  lang=\"en\"\\n  \\n  data-color-mode=\"auto\" data-light-theme=\"light\" data-dark-theme=\"dark\"\\n  data-a11y-animated-images=\"system\" data-a11y-link-underlines=\"true\"\\n  data-css-features=\"prs_diff_containment\"\\n  >\\n\\n\\n\\n  <head>\\n    <meta charset=\"utf-8\">\\n  <link rel=\"dns-prefetch\" href=\"https://github.githubassets.com\">\\n  <link rel=\"dns-prefetch\" href=\"https://avatars.githubusercontent.com\">\\n  <link rel=\"dns-prefetch\" href=\"https://github-cloud.s3.amazonaws.com\">\\n  <link rel=\"dns-prefetch\" href=\"https://user-images.githubusercontent.com/\">\\n  <link rel=\"preconnect\" href=\"https://github.githubassets.com\" crossorigin>\\n  <link rel=\"preconnect\" href=\"https://avatars.githubusercontent.com\">\\n\\n  \\n\\n  <link crossorigin=\"anonymous\" media=\"all\" rel=\"stylesheet\" href=\"https://github.githubassets.com/assets/light-c59dc71e3a4c.css\" /><link crossorigin=\"anonymous\" media=\"all\" rel=\"stylesheet\" href=\"https://github.githubassets.com/assets/light_high_contrast-4bf0cb726930.css\" /><link crosso'"
      ]
     },
     "execution_count": 8,
     "metadata": {},
     "output_type": "execute_result"
    }
   ],
   "source": [
    "page_contents[:1000]"
   ]
  },
  {
   "cell_type": "code",
   "execution_count": 9,
   "id": "370ecf07-67a1-46ba-94bf-269018bd8832",
   "metadata": {},
   "outputs": [],
   "source": [
    "with open('webpage.html','w',encoding = 'utf8') as f:\n",
    "    f.write(page_contents)"
   ]
  },
  {
   "cell_type": "markdown",
   "id": "d59feda6-ec01-4d3f-b667-f83703268b16",
   "metadata": {},
   "source": [
    "## Use Beautful Soup to parse and extract info"
   ]
  },
  {
   "cell_type": "code",
   "execution_count": 10,
   "id": "fb8ffc73-5116-4dbe-83d6-8f9286ca1b6d",
   "metadata": {},
   "outputs": [],
   "source": [
    "doc = BeautifulSoup(page_contents,'html.parser')"
   ]
  },
  {
   "cell_type": "code",
   "execution_count": 11,
   "id": "7c92223e-bb4d-411d-b568-7d497edefc67",
   "metadata": {},
   "outputs": [
    {
     "data": {
      "text/plain": [
       "bs4.BeautifulSoup"
      ]
     },
     "execution_count": 11,
     "metadata": {},
     "output_type": "execute_result"
    }
   ],
   "source": [
    "type(doc)"
   ]
  },
  {
   "cell_type": "code",
   "execution_count": 12,
   "id": "483ebdac-3151-48ab-9be5-7009170d851c",
   "metadata": {},
   "outputs": [],
   "source": [
    "selection_class = 'f3 lh-condensed mb-0 mt-1 Link--primary'\n",
    "\n",
    "topic_title_tags = doc.find_all('p',{'class': selection_class})"
   ]
  },
  {
   "cell_type": "code",
   "execution_count": 13,
   "id": "401fbd8c-485f-4d5d-9a8b-a0c1e198ab6d",
   "metadata": {},
   "outputs": [
    {
     "data": {
      "text/plain": [
       "30"
      ]
     },
     "execution_count": 13,
     "metadata": {},
     "output_type": "execute_result"
    }
   ],
   "source": [
    "len(topic_title_tags)"
   ]
  },
  {
   "cell_type": "code",
   "execution_count": 14,
   "id": "cb572444-9ff4-45ae-b234-583f33c363c6",
   "metadata": {},
   "outputs": [
    {
     "data": {
      "text/plain": [
       "[<p class=\"f3 lh-condensed mb-0 mt-1 Link--primary\">3D</p>,\n",
       " <p class=\"f3 lh-condensed mb-0 mt-1 Link--primary\">Ajax</p>,\n",
       " <p class=\"f3 lh-condensed mb-0 mt-1 Link--primary\">Algorithm</p>,\n",
       " <p class=\"f3 lh-condensed mb-0 mt-1 Link--primary\">Amp</p>,\n",
       " <p class=\"f3 lh-condensed mb-0 mt-1 Link--primary\">Android</p>]"
      ]
     },
     "execution_count": 14,
     "metadata": {},
     "output_type": "execute_result"
    }
   ],
   "source": [
    "topic_title_tags[:5]"
   ]
  },
  {
   "cell_type": "code",
   "execution_count": 15,
   "id": "bb9eb45f-e6d6-4174-9e72-0577068f38f8",
   "metadata": {},
   "outputs": [],
   "source": [
    "desc_selector = \"f5 color-fg-muted mb-0 mt-1\"\n",
    "\n",
    "topic_desc_tags = doc.find_all('p',class_ = desc_selector)"
   ]
  },
  {
   "cell_type": "code",
   "execution_count": 16,
   "id": "fd0720d3-d835-4676-988e-062ab5160fd8",
   "metadata": {},
   "outputs": [
    {
     "data": {
      "text/plain": [
       "30"
      ]
     },
     "execution_count": 16,
     "metadata": {},
     "output_type": "execute_result"
    }
   ],
   "source": [
    "len(topic_desc_tags)"
   ]
  },
  {
   "cell_type": "code",
   "execution_count": 17,
   "id": "a1ecad01-b621-4c3d-ba06-630e0fd11c61",
   "metadata": {},
   "outputs": [
    {
     "data": {
      "text/plain": [
       "[<p class=\"f5 color-fg-muted mb-0 mt-1\">\n",
       "           3D refers to the use of three-dimensional graphics, modeling, and animation in various industries.\n",
       "         </p>,\n",
       " <p class=\"f5 color-fg-muted mb-0 mt-1\">\n",
       "           Ajax is a technique for creating interactive web applications.\n",
       "         </p>,\n",
       " <p class=\"f5 color-fg-muted mb-0 mt-1\">\n",
       "           Algorithms are self-contained sequences that carry out a variety of tasks.\n",
       "         </p>,\n",
       " <p class=\"f5 color-fg-muted mb-0 mt-1\">\n",
       "           Amp is a non-blocking concurrency library for PHP.\n",
       "         </p>,\n",
       " <p class=\"f5 color-fg-muted mb-0 mt-1\">\n",
       "           Android is an operating system built by Google designed for mobile devices.\n",
       "         </p>]"
      ]
     },
     "execution_count": 17,
     "metadata": {},
     "output_type": "execute_result"
    }
   ],
   "source": [
    "topic_desc_tags[:5]"
   ]
  },
  {
   "cell_type": "code",
   "execution_count": 18,
   "id": "903e63a3-066d-4ca1-a832-ec59b28af58a",
   "metadata": {},
   "outputs": [],
   "source": [
    "topic_title_tag0 = topic_desc_tags[0]"
   ]
  },
  {
   "cell_type": "code",
   "execution_count": 19,
   "id": "261fa9f1-fc7a-40ca-961b-aca239122a74",
   "metadata": {},
   "outputs": [],
   "source": [
    "div_tag = topic_title_tag0.parent"
   ]
  },
  {
   "cell_type": "code",
   "execution_count": 20,
   "id": "aaa6d4bc-f455-4f4b-a34f-f943fd0e2e7b",
   "metadata": {},
   "outputs": [],
   "source": [
    "topic_link_tags = doc.find_all('a',class_ = \"no-underline flex-grow-0\")"
   ]
  },
  {
   "cell_type": "code",
   "execution_count": 21,
   "id": "cf2d4347-1109-4d6c-a8a9-a13830adf566",
   "metadata": {},
   "outputs": [
    {
     "data": {
      "text/plain": [
       "30"
      ]
     },
     "execution_count": 21,
     "metadata": {},
     "output_type": "execute_result"
    }
   ],
   "source": [
    "len(topic_link_tags)"
   ]
  },
  {
   "cell_type": "code",
   "execution_count": 22,
   "id": "b7087402-8dd1-4441-b437-b36138dbde1d",
   "metadata": {},
   "outputs": [
    {
     "data": {
      "text/plain": [
       "'/topics/3d'"
      ]
     },
     "execution_count": 22,
     "metadata": {},
     "output_type": "execute_result"
    }
   ],
   "source": [
    "topic_link_tags[0]['href']"
   ]
  },
  {
   "cell_type": "code",
   "execution_count": 23,
   "id": "b85536a3-1b14-48d3-acd1-b7eabd763d9b",
   "metadata": {},
   "outputs": [
    {
     "name": "stdout",
     "output_type": "stream",
     "text": [
      "https://github.com/topics/3d\n"
     ]
    }
   ],
   "source": [
    "topic0_url = \"https://github.com\" + topic_link_tags[0]['href']\n",
    "print(topic0_url)"
   ]
  },
  {
   "cell_type": "code",
   "execution_count": 24,
   "id": "b420590d-6ff1-41b4-805f-50e4ab09e906",
   "metadata": {},
   "outputs": [
    {
     "data": {
      "text/plain": [
       "'3D'"
      ]
     },
     "execution_count": 24,
     "metadata": {},
     "output_type": "execute_result"
    }
   ],
   "source": [
    "topic_title_tags[0].text"
   ]
  },
  {
   "cell_type": "code",
   "execution_count": 25,
   "id": "eff5e2e8-7685-4161-8d1a-8a41140bee32",
   "metadata": {},
   "outputs": [
    {
     "name": "stdout",
     "output_type": "stream",
     "text": [
      "['3D', 'Ajax', 'Algorithm', 'Amp', 'Android', 'Angular', 'Ansible', 'API', 'Arduino', 'ASP.NET', 'Awesome Lists', 'Amazon Web Services', 'Azure', 'Babel', 'Bash', 'Bitcoin', 'Bootstrap', 'Bot', 'C', 'Chrome', 'Chrome extension', 'Command-line interface', 'Clojure', 'Code quality', 'Code review', 'Compiler', 'Continuous integration', 'C++', 'Cryptocurrency', 'Crystal']\n"
     ]
    }
   ],
   "source": [
    "topic_titles = []\n",
    "for tag in topic_title_tags:\n",
    "    topic_titles.append(tag.next)\n",
    "print(topic_titles)"
   ]
  },
  {
   "cell_type": "code",
   "execution_count": 26,
   "id": "366eebb5-950c-4f5b-9c59-37f983bae2de",
   "metadata": {},
   "outputs": [
    {
     "data": {
      "text/plain": [
       "['3D refers to the use of three-dimensional graphics, modeling, and animation in various industries.',\n",
       " 'Ajax is a technique for creating interactive web applications.',\n",
       " 'Algorithms are self-contained sequences that carry out a variety of tasks.',\n",
       " 'Amp is a non-blocking concurrency library for PHP.',\n",
       " 'Android is an operating system built by Google designed for mobile devices.']"
      ]
     },
     "execution_count": 26,
     "metadata": {},
     "output_type": "execute_result"
    }
   ],
   "source": [
    "topic_descriptions = []\n",
    "\n",
    "for tag in topic_desc_tags:\n",
    "    topic_descriptions.append(tag.text.strip())\n",
    "\n",
    "topic_descriptions[:5]"
   ]
  },
  {
   "cell_type": "code",
   "execution_count": 27,
   "id": "7169de21-ec4e-416c-acc3-94b2412f8c02",
   "metadata": {},
   "outputs": [
    {
     "data": {
      "text/plain": [
       "['https://github.com/topics/3d',\n",
       " 'https://github.com/topics/ajax',\n",
       " 'https://github.com/topics/algorithm',\n",
       " 'https://github.com/topics/amphp',\n",
       " 'https://github.com/topics/android',\n",
       " 'https://github.com/topics/angular',\n",
       " 'https://github.com/topics/ansible',\n",
       " 'https://github.com/topics/api',\n",
       " 'https://github.com/topics/arduino',\n",
       " 'https://github.com/topics/aspnet',\n",
       " 'https://github.com/topics/awesome',\n",
       " 'https://github.com/topics/aws',\n",
       " 'https://github.com/topics/azure',\n",
       " 'https://github.com/topics/babel',\n",
       " 'https://github.com/topics/bash',\n",
       " 'https://github.com/topics/bitcoin',\n",
       " 'https://github.com/topics/bootstrap',\n",
       " 'https://github.com/topics/bot',\n",
       " 'https://github.com/topics/c',\n",
       " 'https://github.com/topics/chrome',\n",
       " 'https://github.com/topics/chrome-extension',\n",
       " 'https://github.com/topics/cli',\n",
       " 'https://github.com/topics/clojure',\n",
       " 'https://github.com/topics/code-quality',\n",
       " 'https://github.com/topics/code-review',\n",
       " 'https://github.com/topics/compiler',\n",
       " 'https://github.com/topics/continuous-integration',\n",
       " 'https://github.com/topics/cpp',\n",
       " 'https://github.com/topics/cryptocurrency',\n",
       " 'https://github.com/topics/crystal']"
      ]
     },
     "execution_count": 27,
     "metadata": {},
     "output_type": "execute_result"
    }
   ],
   "source": [
    "topic_urls = []\n",
    "base_url = \"https://github.com\"\n",
    "for tag in topic_link_tags:\n",
    "    topic_urls.append(base_url + tag['href'])\n",
    "\n",
    "topic_urls"
   ]
  },
  {
   "cell_type": "markdown",
   "id": "88d14842-841f-449c-a66a-449f204d8495",
   "metadata": {},
   "source": [
    "## List to dataframe for csv file"
   ]
  },
  {
   "cell_type": "code",
   "execution_count": 28,
   "id": "0dceb5b0-8da9-401c-b752-08b15501638f",
   "metadata": {},
   "outputs": [],
   "source": [
    "import pandas as pd"
   ]
  },
  {
   "cell_type": "code",
   "execution_count": 29,
   "id": "c51dc602-bb58-4d85-b9fb-1f2c0136135b",
   "metadata": {},
   "outputs": [],
   "source": [
    "topics_dict = {\n",
    "    'title': topic_titles,\n",
    "    'description' : topic_descriptions,\n",
    "    'url' : topic_urls\n",
    "    \n",
    "}"
   ]
  },
  {
   "cell_type": "code",
   "execution_count": 30,
   "id": "e0100b81-3497-4214-8f90-e131e8bacc4d",
   "metadata": {},
   "outputs": [],
   "source": [
    "topics_df = pd.DataFrame(topics_dict)"
   ]
  },
  {
   "cell_type": "code",
   "execution_count": 31,
   "id": "01b5d861-ad30-4fd6-8403-166966b5e30f",
   "metadata": {},
   "outputs": [
    {
     "data": {
      "text/html": [
       "<div>\n",
       "<style scoped>\n",
       "    .dataframe tbody tr th:only-of-type {\n",
       "        vertical-align: middle;\n",
       "    }\n",
       "\n",
       "    .dataframe tbody tr th {\n",
       "        vertical-align: top;\n",
       "    }\n",
       "\n",
       "    .dataframe thead th {\n",
       "        text-align: right;\n",
       "    }\n",
       "</style>\n",
       "<table border=\"1\" class=\"dataframe\">\n",
       "  <thead>\n",
       "    <tr style=\"text-align: right;\">\n",
       "      <th></th>\n",
       "      <th>title</th>\n",
       "      <th>description</th>\n",
       "      <th>url</th>\n",
       "    </tr>\n",
       "  </thead>\n",
       "  <tbody>\n",
       "    <tr>\n",
       "      <th>0</th>\n",
       "      <td>3D</td>\n",
       "      <td>3D refers to the use of three-dimensional grap...</td>\n",
       "      <td>https://github.com/topics/3d</td>\n",
       "    </tr>\n",
       "    <tr>\n",
       "      <th>1</th>\n",
       "      <td>Ajax</td>\n",
       "      <td>Ajax is a technique for creating interactive w...</td>\n",
       "      <td>https://github.com/topics/ajax</td>\n",
       "    </tr>\n",
       "    <tr>\n",
       "      <th>2</th>\n",
       "      <td>Algorithm</td>\n",
       "      <td>Algorithms are self-contained sequences that c...</td>\n",
       "      <td>https://github.com/topics/algorithm</td>\n",
       "    </tr>\n",
       "    <tr>\n",
       "      <th>3</th>\n",
       "      <td>Amp</td>\n",
       "      <td>Amp is a non-blocking concurrency library for ...</td>\n",
       "      <td>https://github.com/topics/amphp</td>\n",
       "    </tr>\n",
       "    <tr>\n",
       "      <th>4</th>\n",
       "      <td>Android</td>\n",
       "      <td>Android is an operating system built by Google...</td>\n",
       "      <td>https://github.com/topics/android</td>\n",
       "    </tr>\n",
       "    <tr>\n",
       "      <th>5</th>\n",
       "      <td>Angular</td>\n",
       "      <td>Angular is an open source web application plat...</td>\n",
       "      <td>https://github.com/topics/angular</td>\n",
       "    </tr>\n",
       "    <tr>\n",
       "      <th>6</th>\n",
       "      <td>Ansible</td>\n",
       "      <td>Ansible is a simple and powerful automation en...</td>\n",
       "      <td>https://github.com/topics/ansible</td>\n",
       "    </tr>\n",
       "    <tr>\n",
       "      <th>7</th>\n",
       "      <td>API</td>\n",
       "      <td>An API (Application Programming Interface) is ...</td>\n",
       "      <td>https://github.com/topics/api</td>\n",
       "    </tr>\n",
       "    <tr>\n",
       "      <th>8</th>\n",
       "      <td>Arduino</td>\n",
       "      <td>Arduino is an open source platform for buildin...</td>\n",
       "      <td>https://github.com/topics/arduino</td>\n",
       "    </tr>\n",
       "    <tr>\n",
       "      <th>9</th>\n",
       "      <td>ASP.NET</td>\n",
       "      <td>ASP.NET is a web framework for building modern...</td>\n",
       "      <td>https://github.com/topics/aspnet</td>\n",
       "    </tr>\n",
       "    <tr>\n",
       "      <th>10</th>\n",
       "      <td>Awesome Lists</td>\n",
       "      <td>An awesome list is a list of awesome things cu...</td>\n",
       "      <td>https://github.com/topics/awesome</td>\n",
       "    </tr>\n",
       "    <tr>\n",
       "      <th>11</th>\n",
       "      <td>Amazon Web Services</td>\n",
       "      <td>Amazon Web Services provides on-demand cloud c...</td>\n",
       "      <td>https://github.com/topics/aws</td>\n",
       "    </tr>\n",
       "    <tr>\n",
       "      <th>12</th>\n",
       "      <td>Azure</td>\n",
       "      <td>Azure is a cloud computing service created by ...</td>\n",
       "      <td>https://github.com/topics/azure</td>\n",
       "    </tr>\n",
       "    <tr>\n",
       "      <th>13</th>\n",
       "      <td>Babel</td>\n",
       "      <td>Babel is a compiler for writing next generatio...</td>\n",
       "      <td>https://github.com/topics/babel</td>\n",
       "    </tr>\n",
       "    <tr>\n",
       "      <th>14</th>\n",
       "      <td>Bash</td>\n",
       "      <td>Bash is a shell and command language interpret...</td>\n",
       "      <td>https://github.com/topics/bash</td>\n",
       "    </tr>\n",
       "    <tr>\n",
       "      <th>15</th>\n",
       "      <td>Bitcoin</td>\n",
       "      <td>Bitcoin is a cryptocurrency developed by Satos...</td>\n",
       "      <td>https://github.com/topics/bitcoin</td>\n",
       "    </tr>\n",
       "    <tr>\n",
       "      <th>16</th>\n",
       "      <td>Bootstrap</td>\n",
       "      <td>Bootstrap is an HTML, CSS, and JavaScript fram...</td>\n",
       "      <td>https://github.com/topics/bootstrap</td>\n",
       "    </tr>\n",
       "    <tr>\n",
       "      <th>17</th>\n",
       "      <td>Bot</td>\n",
       "      <td>A bot is an application that runs automated ta...</td>\n",
       "      <td>https://github.com/topics/bot</td>\n",
       "    </tr>\n",
       "    <tr>\n",
       "      <th>18</th>\n",
       "      <td>C</td>\n",
       "      <td>C is a general purpose programming language th...</td>\n",
       "      <td>https://github.com/topics/c</td>\n",
       "    </tr>\n",
       "    <tr>\n",
       "      <th>19</th>\n",
       "      <td>Chrome</td>\n",
       "      <td>Chrome is a web browser from the tech company ...</td>\n",
       "      <td>https://github.com/topics/chrome</td>\n",
       "    </tr>\n",
       "    <tr>\n",
       "      <th>20</th>\n",
       "      <td>Chrome extension</td>\n",
       "      <td>Chrome extensions enable users to customize th...</td>\n",
       "      <td>https://github.com/topics/chrome-extension</td>\n",
       "    </tr>\n",
       "    <tr>\n",
       "      <th>21</th>\n",
       "      <td>Command-line interface</td>\n",
       "      <td>A CLI, or command-line interface, is a console...</td>\n",
       "      <td>https://github.com/topics/cli</td>\n",
       "    </tr>\n",
       "    <tr>\n",
       "      <th>22</th>\n",
       "      <td>Clojure</td>\n",
       "      <td>Clojure is a dynamic, general-purpose programm...</td>\n",
       "      <td>https://github.com/topics/clojure</td>\n",
       "    </tr>\n",
       "    <tr>\n",
       "      <th>23</th>\n",
       "      <td>Code quality</td>\n",
       "      <td>Automate your code review with style, quality,...</td>\n",
       "      <td>https://github.com/topics/code-quality</td>\n",
       "    </tr>\n",
       "    <tr>\n",
       "      <th>24</th>\n",
       "      <td>Code review</td>\n",
       "      <td>Ensure your code meets quality standards and s...</td>\n",
       "      <td>https://github.com/topics/code-review</td>\n",
       "    </tr>\n",
       "    <tr>\n",
       "      <th>25</th>\n",
       "      <td>Compiler</td>\n",
       "      <td>Compilers are software that translate higher-l...</td>\n",
       "      <td>https://github.com/topics/compiler</td>\n",
       "    </tr>\n",
       "    <tr>\n",
       "      <th>26</th>\n",
       "      <td>Continuous integration</td>\n",
       "      <td>Automatically build and test your code as you ...</td>\n",
       "      <td>https://github.com/topics/continuous-integration</td>\n",
       "    </tr>\n",
       "    <tr>\n",
       "      <th>27</th>\n",
       "      <td>C++</td>\n",
       "      <td>C++ is a general purpose and object-oriented p...</td>\n",
       "      <td>https://github.com/topics/cpp</td>\n",
       "    </tr>\n",
       "    <tr>\n",
       "      <th>28</th>\n",
       "      <td>Cryptocurrency</td>\n",
       "      <td>A cryptocurrency is a digital currency that us...</td>\n",
       "      <td>https://github.com/topics/cryptocurrency</td>\n",
       "    </tr>\n",
       "    <tr>\n",
       "      <th>29</th>\n",
       "      <td>Crystal</td>\n",
       "      <td>Crystal is a self-hosted, general purpose prog...</td>\n",
       "      <td>https://github.com/topics/crystal</td>\n",
       "    </tr>\n",
       "  </tbody>\n",
       "</table>\n",
       "</div>"
      ],
      "text/plain": [
       "                     title                                        description  \\\n",
       "0                       3D  3D refers to the use of three-dimensional grap...   \n",
       "1                     Ajax  Ajax is a technique for creating interactive w...   \n",
       "2                Algorithm  Algorithms are self-contained sequences that c...   \n",
       "3                      Amp  Amp is a non-blocking concurrency library for ...   \n",
       "4                  Android  Android is an operating system built by Google...   \n",
       "5                  Angular  Angular is an open source web application plat...   \n",
       "6                  Ansible  Ansible is a simple and powerful automation en...   \n",
       "7                      API  An API (Application Programming Interface) is ...   \n",
       "8                  Arduino  Arduino is an open source platform for buildin...   \n",
       "9                  ASP.NET  ASP.NET is a web framework for building modern...   \n",
       "10           Awesome Lists  An awesome list is a list of awesome things cu...   \n",
       "11     Amazon Web Services  Amazon Web Services provides on-demand cloud c...   \n",
       "12                   Azure  Azure is a cloud computing service created by ...   \n",
       "13                   Babel  Babel is a compiler for writing next generatio...   \n",
       "14                    Bash  Bash is a shell and command language interpret...   \n",
       "15                 Bitcoin  Bitcoin is a cryptocurrency developed by Satos...   \n",
       "16               Bootstrap  Bootstrap is an HTML, CSS, and JavaScript fram...   \n",
       "17                     Bot  A bot is an application that runs automated ta...   \n",
       "18                       C  C is a general purpose programming language th...   \n",
       "19                  Chrome  Chrome is a web browser from the tech company ...   \n",
       "20        Chrome extension  Chrome extensions enable users to customize th...   \n",
       "21  Command-line interface  A CLI, or command-line interface, is a console...   \n",
       "22                 Clojure  Clojure is a dynamic, general-purpose programm...   \n",
       "23            Code quality  Automate your code review with style, quality,...   \n",
       "24             Code review  Ensure your code meets quality standards and s...   \n",
       "25                Compiler  Compilers are software that translate higher-l...   \n",
       "26  Continuous integration  Automatically build and test your code as you ...   \n",
       "27                     C++  C++ is a general purpose and object-oriented p...   \n",
       "28          Cryptocurrency  A cryptocurrency is a digital currency that us...   \n",
       "29                 Crystal  Crystal is a self-hosted, general purpose prog...   \n",
       "\n",
       "                                                 url  \n",
       "0                       https://github.com/topics/3d  \n",
       "1                     https://github.com/topics/ajax  \n",
       "2                https://github.com/topics/algorithm  \n",
       "3                    https://github.com/topics/amphp  \n",
       "4                  https://github.com/topics/android  \n",
       "5                  https://github.com/topics/angular  \n",
       "6                  https://github.com/topics/ansible  \n",
       "7                      https://github.com/topics/api  \n",
       "8                  https://github.com/topics/arduino  \n",
       "9                   https://github.com/topics/aspnet  \n",
       "10                 https://github.com/topics/awesome  \n",
       "11                     https://github.com/topics/aws  \n",
       "12                   https://github.com/topics/azure  \n",
       "13                   https://github.com/topics/babel  \n",
       "14                    https://github.com/topics/bash  \n",
       "15                 https://github.com/topics/bitcoin  \n",
       "16               https://github.com/topics/bootstrap  \n",
       "17                     https://github.com/topics/bot  \n",
       "18                       https://github.com/topics/c  \n",
       "19                  https://github.com/topics/chrome  \n",
       "20        https://github.com/topics/chrome-extension  \n",
       "21                     https://github.com/topics/cli  \n",
       "22                 https://github.com/topics/clojure  \n",
       "23            https://github.com/topics/code-quality  \n",
       "24             https://github.com/topics/code-review  \n",
       "25                https://github.com/topics/compiler  \n",
       "26  https://github.com/topics/continuous-integration  \n",
       "27                     https://github.com/topics/cpp  \n",
       "28          https://github.com/topics/cryptocurrency  \n",
       "29                 https://github.com/topics/crystal  "
      ]
     },
     "execution_count": 31,
     "metadata": {},
     "output_type": "execute_result"
    }
   ],
   "source": [
    "topics_df"
   ]
  },
  {
   "cell_type": "markdown",
   "id": "b293df0c-5f39-473d-b841-b296632c693c",
   "metadata": {},
   "source": [
    "## Create CSV file with the extracted info"
   ]
  },
  {
   "cell_type": "code",
   "execution_count": 32,
   "id": "a457fd68-5b35-41b6-951f-39b9d436b637",
   "metadata": {},
   "outputs": [],
   "source": [
    "topics_df.to_csv('topics.csv',index = None)"
   ]
  },
  {
   "cell_type": "code",
   "execution_count": null,
   "id": "40812431-e8b0-4da5-9211-20a3aed359c9",
   "metadata": {},
   "outputs": [],
   "source": []
  },
  {
   "cell_type": "code",
   "execution_count": null,
   "id": "e09e2551-3268-4d8b-bd71-ae1b478dfff9",
   "metadata": {},
   "outputs": [],
   "source": []
  },
  {
   "cell_type": "markdown",
   "id": "baf04450-50f6-45a6-9006-9f4e20a6c1c4",
   "metadata": {},
   "source": [
    "## Getting info out of a Topic page"
   ]
  },
  {
   "cell_type": "code",
   "execution_count": 33,
   "id": "6b633b3e-724b-4249-b7ea-704b1b40a2e9",
   "metadata": {},
   "outputs": [],
   "source": [
    "topic_page_url = topic_urls[0]"
   ]
  },
  {
   "cell_type": "code",
   "execution_count": 34,
   "id": "6333b732-40d3-4cf4-abca-ff273dc909c6",
   "metadata": {},
   "outputs": [
    {
     "data": {
      "text/plain": [
       "'https://github.com/topics/3d'"
      ]
     },
     "execution_count": 34,
     "metadata": {},
     "output_type": "execute_result"
    }
   ],
   "source": [
    "topic_page_url"
   ]
  },
  {
   "cell_type": "code",
   "execution_count": 35,
   "id": "5097cade-a53d-4b0f-9530-2b0c93372b60",
   "metadata": {},
   "outputs": [],
   "source": [
    "response = requests.get(topic_page_url)"
   ]
  },
  {
   "cell_type": "code",
   "execution_count": 36,
   "id": "18c339f4-9e1c-40f1-a88a-bdf03e713c60",
   "metadata": {},
   "outputs": [
    {
     "data": {
      "text/plain": [
       "200"
      ]
     },
     "execution_count": 36,
     "metadata": {},
     "output_type": "execute_result"
    }
   ],
   "source": [
    "response.status_code"
   ]
  },
  {
   "cell_type": "code",
   "execution_count": 37,
   "id": "489fc9a7-8e87-4e3f-99a9-bc8e658dd852",
   "metadata": {},
   "outputs": [
    {
     "data": {
      "text/plain": [
       "520748"
      ]
     },
     "execution_count": 37,
     "metadata": {},
     "output_type": "execute_result"
    }
   ],
   "source": [
    "len(response.text)"
   ]
  },
  {
   "cell_type": "code",
   "execution_count": 38,
   "id": "b231fe8e-fd04-48bc-8e00-58db49c0ccc8",
   "metadata": {},
   "outputs": [],
   "source": [
    "topic_doc = BeautifulSoup(response.text,'html.parser')"
   ]
  },
  {
   "cell_type": "code",
   "execution_count": 39,
   "id": "6aca0a6d-034b-405b-80f6-00bdbc65e8e4",
   "metadata": {},
   "outputs": [],
   "source": [
    "h3_selection_class = \"f3 color-fg-muted text-normal lh-condensed\"\n",
    "\n",
    "repo_tags = topic_doc.find_all('h3', class_=h3_selection_class)\n"
   ]
  },
  {
   "cell_type": "code",
   "execution_count": 40,
   "id": "7c7e99c1-a626-4787-b019-942dcc3aa37a",
   "metadata": {},
   "outputs": [
    {
     "data": {
      "text/plain": [
       "20"
      ]
     },
     "execution_count": 40,
     "metadata": {},
     "output_type": "execute_result"
    }
   ],
   "source": [
    "len(repo_tags)"
   ]
  },
  {
   "cell_type": "code",
   "execution_count": 41,
   "id": "b28f2642-245c-4a2f-a822-f66c62324ba6",
   "metadata": {},
   "outputs": [],
   "source": [
    "a_tags = repo_tags[0].find_all('a')"
   ]
  },
  {
   "cell_type": "code",
   "execution_count": 42,
   "id": "06048ce7-5cf5-4a4d-8620-a3563e94103a",
   "metadata": {},
   "outputs": [
    {
     "data": {
      "text/plain": [
       "'mrdoob'"
      ]
     },
     "execution_count": 42,
     "metadata": {},
     "output_type": "execute_result"
    }
   ],
   "source": [
    "a_tags[0].text"
   ]
  },
  {
   "cell_type": "code",
   "execution_count": 43,
   "id": "d327d4aa-e262-48d0-9034-26bab22f8c1c",
   "metadata": {},
   "outputs": [
    {
     "data": {
      "text/plain": [
       "'three.js'"
      ]
     },
     "execution_count": 43,
     "metadata": {},
     "output_type": "execute_result"
    }
   ],
   "source": [
    "a_tags[1].text"
   ]
  },
  {
   "cell_type": "code",
   "execution_count": 44,
   "id": "fbad0a47-5e31-4bb6-8f1a-9acbbeb805ba",
   "metadata": {},
   "outputs": [
    {
     "data": {
      "text/plain": [
       "'/mrdoob/three.js'"
      ]
     },
     "execution_count": 44,
     "metadata": {},
     "output_type": "execute_result"
    }
   ],
   "source": [
    "a_tags[1]['href']"
   ]
  },
  {
   "cell_type": "code",
   "execution_count": 45,
   "id": "77b2b1b6-4ac4-4692-bdfd-521b59f31bdc",
   "metadata": {},
   "outputs": [
    {
     "name": "stdout",
     "output_type": "stream",
     "text": [
      "https://github.com//mrdoob/three.js\n"
     ]
    }
   ],
   "source": [
    "base_url = \"https://github.com/\"\n",
    "repo_url = base_url + a_tags[1]['href']\n",
    "print(repo_url)"
   ]
  },
  {
   "cell_type": "code",
   "execution_count": 46,
   "id": "a16b9076-85c8-4055-bcbe-f69fab73378a",
   "metadata": {},
   "outputs": [],
   "source": [
    "star_tags = topic_doc.find_all('span',class_=\"Counter js-social-count\")"
   ]
  },
  {
   "cell_type": "code",
   "execution_count": 47,
   "id": "c6f4e6d1-6fea-416e-aa9a-8e0dbc6877e1",
   "metadata": {},
   "outputs": [
    {
     "data": {
      "text/plain": [
       "20"
      ]
     },
     "execution_count": 47,
     "metadata": {},
     "output_type": "execute_result"
    }
   ],
   "source": [
    "len(star_tags)"
   ]
  },
  {
   "cell_type": "code",
   "execution_count": 48,
   "id": "b47f3dcb-302b-4b3f-ae44-203c210aacf6",
   "metadata": {},
   "outputs": [
    {
     "data": {
      "text/plain": [
       "'107k'"
      ]
     },
     "execution_count": 48,
     "metadata": {},
     "output_type": "execute_result"
    }
   ],
   "source": [
    "star_tags[0].text"
   ]
  },
  {
   "cell_type": "code",
   "execution_count": 89,
   "id": "5a17eae4-affd-43f5-a180-e59ce73c6cd5",
   "metadata": {},
   "outputs": [],
   "source": [
    "def parse_star_count(stars_str):\n",
    "    stars_str = stars_str\n",
    "    if stars_str[-1] == 'k':\n",
    "        return int(float(stars_str[:-1])*1000)\n",
    "    return int(stars_str)\n",
    "        "
   ]
  },
  {
   "cell_type": "code",
   "execution_count": 90,
   "id": "91f1626d-8daa-462e-8d60-d2b4b8e5fbb8",
   "metadata": {},
   "outputs": [
    {
     "data": {
      "text/plain": [
       "107000"
      ]
     },
     "execution_count": 90,
     "metadata": {},
     "output_type": "execute_result"
    }
   ],
   "source": [
    "parse_star_count(star_tags[0].text)"
   ]
  },
  {
   "cell_type": "code",
   "execution_count": 91,
   "id": "e49b9135-7b23-439d-b27a-4ef87e9cec33",
   "metadata": {},
   "outputs": [],
   "source": [
    "def get_repo_info(h3_tag,star_tag):\n",
    "    a_tags = h3_tag.find_all('a')\n",
    "    username = a_tags[0].text\n",
    "    repo_name = a_tags[1].text\n",
    "    repo_url = base_url + a_tags[1]['href']\n",
    "    stars = parse_star_count(star_tag.text)\n",
    "    return username, repo_name, stars, repo_url"
   ]
  },
  {
   "cell_type": "code",
   "execution_count": 92,
   "id": "6525b854-3ede-47b7-bf24-25f43742433b",
   "metadata": {},
   "outputs": [
    {
     "data": {
      "text/plain": [
       "('mrdoob', 'three.js', 107000, 'https://github.com/mrdoob/three.js')"
      ]
     },
     "execution_count": 92,
     "metadata": {},
     "output_type": "execute_result"
    }
   ],
   "source": [
    "get_repo_info(repo_tags[0],star_tags[0])"
   ]
  },
  {
   "cell_type": "code",
   "execution_count": 93,
   "id": "715d867e-1140-4b1a-ac3e-f0585305ed07",
   "metadata": {},
   "outputs": [],
   "source": [
    "topic_repos_dict = {\n",
    "    'username' : [],\n",
    "    'repo_name' : [],\n",
    "    'stars' : [],\n",
    "    'repo_url' : []\n",
    "}\n",
    "\n",
    "for i in range(len(repo_tags)):\n",
    "    repo_info = get_repo_info(repo_tags[i],star_tags[i])\n",
    "    topic_repos_dict['username'].append(repo_info[0])\n",
    "    topic_repos_dict['repo_name'].append(repo_info[1])\n",
    "    topic_repos_dict['stars'].append(repo_info[2])\n",
    "    topic_repos_dict['repo_url'].append(repo_info[3])\n",
    "    "
   ]
  },
  {
   "cell_type": "code",
   "execution_count": 94,
   "id": "215a45c7-cd1e-433f-ba77-346e93e247c3",
   "metadata": {},
   "outputs": [],
   "source": [
    "topic_repos_df = pd.DataFrame(topic_repos_dict)"
   ]
  },
  {
   "cell_type": "code",
   "execution_count": 95,
   "id": "d7d0df93-c353-4c55-b1c2-d047519040e4",
   "metadata": {},
   "outputs": [
    {
     "data": {
      "text/html": [
       "<div>\n",
       "<style scoped>\n",
       "    .dataframe tbody tr th:only-of-type {\n",
       "        vertical-align: middle;\n",
       "    }\n",
       "\n",
       "    .dataframe tbody tr th {\n",
       "        vertical-align: top;\n",
       "    }\n",
       "\n",
       "    .dataframe thead th {\n",
       "        text-align: right;\n",
       "    }\n",
       "</style>\n",
       "<table border=\"1\" class=\"dataframe\">\n",
       "  <thead>\n",
       "    <tr style=\"text-align: right;\">\n",
       "      <th></th>\n",
       "      <th>username</th>\n",
       "      <th>repo_name</th>\n",
       "      <th>stars</th>\n",
       "      <th>repo_url</th>\n",
       "    </tr>\n",
       "  </thead>\n",
       "  <tbody>\n",
       "    <tr>\n",
       "      <th>0</th>\n",
       "      <td>mrdoob</td>\n",
       "      <td>three.js</td>\n",
       "      <td>107000</td>\n",
       "      <td>https://github.com/mrdoob/three.js</td>\n",
       "    </tr>\n",
       "    <tr>\n",
       "      <th>1</th>\n",
       "      <td>pmndrs</td>\n",
       "      <td>react-three-fiber</td>\n",
       "      <td>29000</td>\n",
       "      <td>https://github.com/pmndrs/react-three-fiber</td>\n",
       "    </tr>\n",
       "    <tr>\n",
       "      <th>2</th>\n",
       "      <td>FreeCAD</td>\n",
       "      <td>FreeCAD</td>\n",
       "      <td>24900</td>\n",
       "      <td>https://github.com/FreeCAD/FreeCAD</td>\n",
       "    </tr>\n",
       "    <tr>\n",
       "      <th>3</th>\n",
       "      <td>BabylonJS</td>\n",
       "      <td>Babylon.js</td>\n",
       "      <td>24200</td>\n",
       "      <td>https://github.com/BabylonJS/Babylon.js</td>\n",
       "    </tr>\n",
       "    <tr>\n",
       "      <th>4</th>\n",
       "      <td>libgdx</td>\n",
       "      <td>libgdx</td>\n",
       "      <td>24100</td>\n",
       "      <td>https://github.com/libgdx/libgdx</td>\n",
       "    </tr>\n",
       "    <tr>\n",
       "      <th>5</th>\n",
       "      <td>ssloy</td>\n",
       "      <td>tinyrenderer</td>\n",
       "      <td>22000</td>\n",
       "      <td>https://github.com/ssloy/tinyrenderer</td>\n",
       "    </tr>\n",
       "    <tr>\n",
       "      <th>6</th>\n",
       "      <td>lettier</td>\n",
       "      <td>3d-game-shaders-for-beginners</td>\n",
       "      <td>18800</td>\n",
       "      <td>https://github.com/lettier/3d-game-shaders-for...</td>\n",
       "    </tr>\n",
       "    <tr>\n",
       "      <th>7</th>\n",
       "      <td>aframevr</td>\n",
       "      <td>aframe</td>\n",
       "      <td>17100</td>\n",
       "      <td>https://github.com/aframevr/aframe</td>\n",
       "    </tr>\n",
       "    <tr>\n",
       "      <th>8</th>\n",
       "      <td>blender</td>\n",
       "      <td>blender</td>\n",
       "      <td>15300</td>\n",
       "      <td>https://github.com/blender/blender</td>\n",
       "    </tr>\n",
       "    <tr>\n",
       "      <th>9</th>\n",
       "      <td>4ian</td>\n",
       "      <td>GDevelop</td>\n",
       "      <td>14500</td>\n",
       "      <td>https://github.com/4ian/GDevelop</td>\n",
       "    </tr>\n",
       "    <tr>\n",
       "      <th>10</th>\n",
       "      <td>CesiumGS</td>\n",
       "      <td>cesium</td>\n",
       "      <td>13800</td>\n",
       "      <td>https://github.com/CesiumGS/cesium</td>\n",
       "    </tr>\n",
       "    <tr>\n",
       "      <th>11</th>\n",
       "      <td>DavidHDev</td>\n",
       "      <td>react-bits</td>\n",
       "      <td>12500</td>\n",
       "      <td>https://github.com/DavidHDev/react-bits</td>\n",
       "    </tr>\n",
       "    <tr>\n",
       "      <th>12</th>\n",
       "      <td>isl-org</td>\n",
       "      <td>Open3D</td>\n",
       "      <td>12400</td>\n",
       "      <td>https://github.com/isl-org/Open3D</td>\n",
       "    </tr>\n",
       "    <tr>\n",
       "      <th>13</th>\n",
       "      <td>MonoGame</td>\n",
       "      <td>MonoGame</td>\n",
       "      <td>12200</td>\n",
       "      <td>https://github.com/MonoGame/MonoGame</td>\n",
       "    </tr>\n",
       "    <tr>\n",
       "      <th>14</th>\n",
       "      <td>mapbox</td>\n",
       "      <td>mapbox-gl-js</td>\n",
       "      <td>11600</td>\n",
       "      <td>https://github.com/mapbox/mapbox-gl-js</td>\n",
       "    </tr>\n",
       "    <tr>\n",
       "      <th>15</th>\n",
       "      <td>metafizzy</td>\n",
       "      <td>zdog</td>\n",
       "      <td>10500</td>\n",
       "      <td>https://github.com/metafizzy/zdog</td>\n",
       "    </tr>\n",
       "    <tr>\n",
       "      <th>16</th>\n",
       "      <td>nerfstudio-project</td>\n",
       "      <td>nerfstudio</td>\n",
       "      <td>10300</td>\n",
       "      <td>https://github.com/nerfstudio-project/nerfstudio</td>\n",
       "    </tr>\n",
       "    <tr>\n",
       "      <th>17</th>\n",
       "      <td>Tencent-Hunyuan</td>\n",
       "      <td>Hunyuan3D-2</td>\n",
       "      <td>10100</td>\n",
       "      <td>https://github.com/Tencent-Hunyuan/Hunyuan3D-2</td>\n",
       "    </tr>\n",
       "    <tr>\n",
       "      <th>18</th>\n",
       "      <td>timzhang642</td>\n",
       "      <td>3D-Machine-Learning</td>\n",
       "      <td>10000</td>\n",
       "      <td>https://github.com/timzhang642/3D-Machine-Lear...</td>\n",
       "    </tr>\n",
       "    <tr>\n",
       "      <th>19</th>\n",
       "      <td>microsoft</td>\n",
       "      <td>TRELLIS</td>\n",
       "      <td>9700</td>\n",
       "      <td>https://github.com/microsoft/TRELLIS</td>\n",
       "    </tr>\n",
       "  </tbody>\n",
       "</table>\n",
       "</div>"
      ],
      "text/plain": [
       "              username                      repo_name   stars  \\\n",
       "0               mrdoob                       three.js  107000   \n",
       "1               pmndrs              react-three-fiber   29000   \n",
       "2              FreeCAD                        FreeCAD   24900   \n",
       "3            BabylonJS                     Babylon.js   24200   \n",
       "4               libgdx                         libgdx   24100   \n",
       "5                ssloy                   tinyrenderer   22000   \n",
       "6              lettier  3d-game-shaders-for-beginners   18800   \n",
       "7             aframevr                         aframe   17100   \n",
       "8              blender                        blender   15300   \n",
       "9                 4ian                       GDevelop   14500   \n",
       "10            CesiumGS                         cesium   13800   \n",
       "11           DavidHDev                     react-bits   12500   \n",
       "12             isl-org                         Open3D   12400   \n",
       "13            MonoGame                       MonoGame   12200   \n",
       "14              mapbox                   mapbox-gl-js   11600   \n",
       "15           metafizzy                           zdog   10500   \n",
       "16  nerfstudio-project                     nerfstudio   10300   \n",
       "17     Tencent-Hunyuan                    Hunyuan3D-2   10100   \n",
       "18         timzhang642            3D-Machine-Learning   10000   \n",
       "19           microsoft                        TRELLIS    9700   \n",
       "\n",
       "                                             repo_url  \n",
       "0                  https://github.com/mrdoob/three.js  \n",
       "1         https://github.com/pmndrs/react-three-fiber  \n",
       "2                  https://github.com/FreeCAD/FreeCAD  \n",
       "3             https://github.com/BabylonJS/Babylon.js  \n",
       "4                    https://github.com/libgdx/libgdx  \n",
       "5               https://github.com/ssloy/tinyrenderer  \n",
       "6   https://github.com/lettier/3d-game-shaders-for...  \n",
       "7                  https://github.com/aframevr/aframe  \n",
       "8                  https://github.com/blender/blender  \n",
       "9                    https://github.com/4ian/GDevelop  \n",
       "10                 https://github.com/CesiumGS/cesium  \n",
       "11            https://github.com/DavidHDev/react-bits  \n",
       "12                  https://github.com/isl-org/Open3D  \n",
       "13               https://github.com/MonoGame/MonoGame  \n",
       "14             https://github.com/mapbox/mapbox-gl-js  \n",
       "15                  https://github.com/metafizzy/zdog  \n",
       "16   https://github.com/nerfstudio-project/nerfstudio  \n",
       "17     https://github.com/Tencent-Hunyuan/Hunyuan3D-2  \n",
       "18  https://github.com/timzhang642/3D-Machine-Lear...  \n",
       "19               https://github.com/microsoft/TRELLIS  "
      ]
     },
     "execution_count": 95,
     "metadata": {},
     "output_type": "execute_result"
    }
   ],
   "source": [
    "topic_repos_df"
   ]
  },
  {
   "cell_type": "code",
   "execution_count": 128,
   "id": "1a1c4693-2194-4d21-a071-7dea4d80ce63",
   "metadata": {},
   "outputs": [],
   "source": [
    "def get_topic_page(topic_url):\n",
    "    response = requests.get(topic_url)\n",
    "    if response.status_code != 200:\n",
    "        raise Exception('Failed to load page {}'.format(topic_url))\n",
    "        \n",
    "    topic_doc = BeautifulSoup(response.text, 'html.parser')\n",
    "    return topic_doc\n",
    "\n",
    "\n",
    "def get_repo_info(h3_tag,star_tag):\n",
    "    a_tags = h3_tag.find_all('a')\n",
    "    username = a_tags[0].text\n",
    "    repo_name = a_tags[1].text\n",
    "    repo_url = base_url + a_tags[1]['href']\n",
    "    stars = parse_star_count(star_tag.text)\n",
    "    return username, repo_name, stars, repo_url\n",
    "    \n",
    "\n",
    "def get_topic_repos(topic_doc):\n",
    "    \n",
    "    h3_selection_class = \"f3 color-fg-muted text-normal lh-condensed\"\n",
    "    repo_tags = topic_doc.find_all('h3', class_=h3_selection_class)\n",
    "\n",
    "    star_tags = topic_doc.find_all('span',class_=\"Counter js-social-count\")\n",
    "\n",
    "\n",
    "    topic_repos_dict = {\n",
    "    'username' : [],\n",
    "    'repo_name' : [],\n",
    "    'stars' : [],\n",
    "    'repo_url' : []\n",
    "    }\n",
    "\n",
    "    for i in range(len(repo_tags)):\n",
    "        repo_info = get_repo_info(repo_tags[i],star_tags[i])\n",
    "        topic_repos_dict['username'].append(repo_info[0])\n",
    "        topic_repos_dict['repo_name'].append(repo_info[1])\n",
    "        topic_repos_dict['stars'].append(repo_info[2])\n",
    "        topic_repos_dict['repo_url'].append(repo_info[3])\n",
    "    \n",
    "    return pd.DataFrame(topic_repos_dict)\n",
    "\n",
    "def scrape_topic(topic_url, topic_name):\n",
    "    topic_df = get_topic_repos(get_topic_page(topic_url))\n",
    "    topic_df.to_csv(topic_name + '.csv', index=None)"
   ]
  },
  {
   "cell_type": "code",
   "execution_count": 129,
   "id": "cc6a3db2-8246-4378-9021-138abe48c2b0",
   "metadata": {},
   "outputs": [
    {
     "data": {
      "text/plain": [
       "'https://github.com/topics/android'"
      ]
     },
     "execution_count": 129,
     "metadata": {},
     "output_type": "execute_result"
    }
   ],
   "source": [
    "url4 = topic_urls[4]\n",
    "url4"
   ]
  },
  {
   "cell_type": "code",
   "execution_count": 130,
   "id": "1d1e8e37-818b-4710-b105-ff9b8b45c0d6",
   "metadata": {},
   "outputs": [],
   "source": [
    "topic4_doc = get_topic_page(url4)\n",
    "#topic4_doc"
   ]
  },
  {
   "cell_type": "code",
   "execution_count": 131,
   "id": "e90b88f5-4cdb-477f-a589-be4729c14178",
   "metadata": {},
   "outputs": [],
   "source": [
    "topic4_repos = get_topic_repos(topic4_doc)"
   ]
  },
  {
   "cell_type": "code",
   "execution_count": 132,
   "id": "c8c5ad3b-8257-4f98-a780-cd0d4deb54cc",
   "metadata": {},
   "outputs": [
    {
     "data": {
      "text/html": [
       "<div>\n",
       "<style scoped>\n",
       "    .dataframe tbody tr th:only-of-type {\n",
       "        vertical-align: middle;\n",
       "    }\n",
       "\n",
       "    .dataframe tbody tr th {\n",
       "        vertical-align: top;\n",
       "    }\n",
       "\n",
       "    .dataframe thead th {\n",
       "        text-align: right;\n",
       "    }\n",
       "</style>\n",
       "<table border=\"1\" class=\"dataframe\">\n",
       "  <thead>\n",
       "    <tr style=\"text-align: right;\">\n",
       "      <th></th>\n",
       "      <th>username</th>\n",
       "      <th>repo_name</th>\n",
       "      <th>stars</th>\n",
       "      <th>repo_url</th>\n",
       "    </tr>\n",
       "  </thead>\n",
       "  <tbody>\n",
       "    <tr>\n",
       "      <th>0</th>\n",
       "      <td>flutter</td>\n",
       "      <td>flutter</td>\n",
       "      <td>171000</td>\n",
       "      <td>https://github.com/flutter/flutter</td>\n",
       "    </tr>\n",
       "    <tr>\n",
       "      <th>1</th>\n",
       "      <td>Genymobile</td>\n",
       "      <td>scrcpy</td>\n",
       "      <td>123000</td>\n",
       "      <td>https://github.com/Genymobile/scrcpy</td>\n",
       "    </tr>\n",
       "    <tr>\n",
       "      <th>2</th>\n",
       "      <td>facebook</td>\n",
       "      <td>react-native</td>\n",
       "      <td>123000</td>\n",
       "      <td>https://github.com/facebook/react-native</td>\n",
       "    </tr>\n",
       "    <tr>\n",
       "      <th>3</th>\n",
       "      <td>justjavac</td>\n",
       "      <td>free-programming-books-zh_CN</td>\n",
       "      <td>114000</td>\n",
       "      <td>https://github.com/justjavac/free-programming-...</td>\n",
       "    </tr>\n",
       "    <tr>\n",
       "      <th>4</th>\n",
       "      <td>Hack-with-Github</td>\n",
       "      <td>Awesome-Hacking</td>\n",
       "      <td>93300</td>\n",
       "      <td>https://github.com/Hack-with-Github/Awesome-Ha...</td>\n",
       "    </tr>\n",
       "    <tr>\n",
       "      <th>5</th>\n",
       "      <td>Solido</td>\n",
       "      <td>awesome-flutter</td>\n",
       "      <td>56000</td>\n",
       "      <td>https://github.com/Solido/awesome-flutter</td>\n",
       "    </tr>\n",
       "    <tr>\n",
       "      <th>6</th>\n",
       "      <td>tldr-pages</td>\n",
       "      <td>tldr</td>\n",
       "      <td>55900</td>\n",
       "      <td>https://github.com/tldr-pages/tldr</td>\n",
       "    </tr>\n",
       "    <tr>\n",
       "      <th>7</th>\n",
       "      <td>wasabeef</td>\n",
       "      <td>awesome-android-ui</td>\n",
       "      <td>52700</td>\n",
       "      <td>https://github.com/wasabeef/awesome-android-ui</td>\n",
       "    </tr>\n",
       "    <tr>\n",
       "      <th>8</th>\n",
       "      <td>google</td>\n",
       "      <td>material-design-icons</td>\n",
       "      <td>51600</td>\n",
       "      <td>https://github.com/google/material-design-icons</td>\n",
       "    </tr>\n",
       "    <tr>\n",
       "      <th>9</th>\n",
       "      <td>appwrite</td>\n",
       "      <td>appwrite</td>\n",
       "      <td>50900</td>\n",
       "      <td>https://github.com/appwrite/appwrite</td>\n",
       "    </tr>\n",
       "    <tr>\n",
       "      <th>10</th>\n",
       "      <td>laurent22</td>\n",
       "      <td>joplin</td>\n",
       "      <td>49600</td>\n",
       "      <td>https://github.com/laurent22/joplin</td>\n",
       "    </tr>\n",
       "    <tr>\n",
       "      <th>11</th>\n",
       "      <td>square</td>\n",
       "      <td>okhttp</td>\n",
       "      <td>46400</td>\n",
       "      <td>https://github.com/square/okhttp</td>\n",
       "    </tr>\n",
       "    <tr>\n",
       "      <th>12</th>\n",
       "      <td>android</td>\n",
       "      <td>architecture-samples</td>\n",
       "      <td>45100</td>\n",
       "      <td>https://github.com/android/architecture-samples</td>\n",
       "    </tr>\n",
       "    <tr>\n",
       "      <th>13</th>\n",
       "      <td>skylot</td>\n",
       "      <td>jadx</td>\n",
       "      <td>44200</td>\n",
       "      <td>https://github.com/skylot/jadx</td>\n",
       "    </tr>\n",
       "    <tr>\n",
       "      <th>14</th>\n",
       "      <td>square</td>\n",
       "      <td>retrofit</td>\n",
       "      <td>43500</td>\n",
       "      <td>https://github.com/square/retrofit</td>\n",
       "    </tr>\n",
       "    <tr>\n",
       "      <th>15</th>\n",
       "      <td>termux</td>\n",
       "      <td>termux-app</td>\n",
       "      <td>42000</td>\n",
       "      <td>https://github.com/termux/termux-app</td>\n",
       "    </tr>\n",
       "    <tr>\n",
       "      <th>16</th>\n",
       "      <td>2dust</td>\n",
       "      <td>v2rayNG</td>\n",
       "      <td>41400</td>\n",
       "      <td>https://github.com/2dust/v2rayNG</td>\n",
       "    </tr>\n",
       "    <tr>\n",
       "      <th>17</th>\n",
       "      <td>dcloudio</td>\n",
       "      <td>uni-app</td>\n",
       "      <td>40800</td>\n",
       "      <td>https://github.com/dcloudio/uni-app</td>\n",
       "    </tr>\n",
       "    <tr>\n",
       "      <th>18</th>\n",
       "      <td>expo</td>\n",
       "      <td>expo</td>\n",
       "      <td>40800</td>\n",
       "      <td>https://github.com/expo/expo</td>\n",
       "    </tr>\n",
       "    <tr>\n",
       "      <th>19</th>\n",
       "      <td>KRTirtho</td>\n",
       "      <td>spotube</td>\n",
       "      <td>40600</td>\n",
       "      <td>https://github.com/KRTirtho/spotube</td>\n",
       "    </tr>\n",
       "  </tbody>\n",
       "</table>\n",
       "</div>"
      ],
      "text/plain": [
       "            username                     repo_name   stars  \\\n",
       "0            flutter                       flutter  171000   \n",
       "1         Genymobile                        scrcpy  123000   \n",
       "2           facebook                  react-native  123000   \n",
       "3          justjavac  free-programming-books-zh_CN  114000   \n",
       "4   Hack-with-Github               Awesome-Hacking   93300   \n",
       "5             Solido               awesome-flutter   56000   \n",
       "6         tldr-pages                          tldr   55900   \n",
       "7           wasabeef            awesome-android-ui   52700   \n",
       "8             google         material-design-icons   51600   \n",
       "9           appwrite                      appwrite   50900   \n",
       "10         laurent22                        joplin   49600   \n",
       "11            square                        okhttp   46400   \n",
       "12           android          architecture-samples   45100   \n",
       "13            skylot                          jadx   44200   \n",
       "14            square                      retrofit   43500   \n",
       "15            termux                    termux-app   42000   \n",
       "16             2dust                       v2rayNG   41400   \n",
       "17          dcloudio                       uni-app   40800   \n",
       "18              expo                          expo   40800   \n",
       "19          KRTirtho                       spotube   40600   \n",
       "\n",
       "                                             repo_url  \n",
       "0                  https://github.com/flutter/flutter  \n",
       "1                https://github.com/Genymobile/scrcpy  \n",
       "2            https://github.com/facebook/react-native  \n",
       "3   https://github.com/justjavac/free-programming-...  \n",
       "4   https://github.com/Hack-with-Github/Awesome-Ha...  \n",
       "5           https://github.com/Solido/awesome-flutter  \n",
       "6                  https://github.com/tldr-pages/tldr  \n",
       "7      https://github.com/wasabeef/awesome-android-ui  \n",
       "8     https://github.com/google/material-design-icons  \n",
       "9                https://github.com/appwrite/appwrite  \n",
       "10                https://github.com/laurent22/joplin  \n",
       "11                   https://github.com/square/okhttp  \n",
       "12    https://github.com/android/architecture-samples  \n",
       "13                     https://github.com/skylot/jadx  \n",
       "14                 https://github.com/square/retrofit  \n",
       "15               https://github.com/termux/termux-app  \n",
       "16                   https://github.com/2dust/v2rayNG  \n",
       "17                https://github.com/dcloudio/uni-app  \n",
       "18                       https://github.com/expo/expo  \n",
       "19                https://github.com/KRTirtho/spotube  "
      ]
     },
     "execution_count": 132,
     "metadata": {},
     "output_type": "execute_result"
    }
   ],
   "source": [
    "topic4_repos"
   ]
  },
  {
   "cell_type": "code",
   "execution_count": 133,
   "id": "8654c017-f480-4cea-8595-8ab158b5717a",
   "metadata": {},
   "outputs": [
    {
     "data": {
      "text/plain": [
       "'https://github.com/topics/amphp'"
      ]
     },
     "execution_count": 133,
     "metadata": {},
     "output_type": "execute_result"
    }
   ],
   "source": [
    "topic_urls[3]"
   ]
  },
  {
   "cell_type": "code",
   "execution_count": 134,
   "id": "a6b7a14a-3b73-435b-b988-0ff7f434e1d7",
   "metadata": {},
   "outputs": [
    {
     "data": {
      "text/html": [
       "<div>\n",
       "<style scoped>\n",
       "    .dataframe tbody tr th:only-of-type {\n",
       "        vertical-align: middle;\n",
       "    }\n",
       "\n",
       "    .dataframe tbody tr th {\n",
       "        vertical-align: top;\n",
       "    }\n",
       "\n",
       "    .dataframe thead th {\n",
       "        text-align: right;\n",
       "    }\n",
       "</style>\n",
       "<table border=\"1\" class=\"dataframe\">\n",
       "  <thead>\n",
       "    <tr style=\"text-align: right;\">\n",
       "      <th></th>\n",
       "      <th>username</th>\n",
       "      <th>repo_name</th>\n",
       "      <th>stars</th>\n",
       "      <th>repo_url</th>\n",
       "    </tr>\n",
       "  </thead>\n",
       "  <tbody>\n",
       "    <tr>\n",
       "      <th>0</th>\n",
       "      <td>amphp</td>\n",
       "      <td>amp</td>\n",
       "      <td>4300</td>\n",
       "      <td>https://github.com/amphp/amp</td>\n",
       "    </tr>\n",
       "    <tr>\n",
       "      <th>1</th>\n",
       "      <td>danog</td>\n",
       "      <td>MadelineProto</td>\n",
       "      <td>3100</td>\n",
       "      <td>https://github.com/danog/MadelineProto</td>\n",
       "    </tr>\n",
       "    <tr>\n",
       "      <th>2</th>\n",
       "      <td>amphp</td>\n",
       "      <td>parallel</td>\n",
       "      <td>817</td>\n",
       "      <td>https://github.com/amphp/parallel</td>\n",
       "    </tr>\n",
       "    <tr>\n",
       "      <th>3</th>\n",
       "      <td>unreal4u</td>\n",
       "      <td>telegram-api</td>\n",
       "      <td>795</td>\n",
       "      <td>https://github.com/unreal4u/telegram-api</td>\n",
       "    </tr>\n",
       "    <tr>\n",
       "      <th>4</th>\n",
       "      <td>amphp</td>\n",
       "      <td>http-client</td>\n",
       "      <td>719</td>\n",
       "      <td>https://github.com/amphp/http-client</td>\n",
       "    </tr>\n",
       "    <tr>\n",
       "      <th>5</th>\n",
       "      <td>amphp</td>\n",
       "      <td>byte-stream</td>\n",
       "      <td>380</td>\n",
       "      <td>https://github.com/amphp/byte-stream</td>\n",
       "    </tr>\n",
       "    <tr>\n",
       "      <th>6</th>\n",
       "      <td>amphp</td>\n",
       "      <td>mysql</td>\n",
       "      <td>374</td>\n",
       "      <td>https://github.com/amphp/mysql</td>\n",
       "    </tr>\n",
       "    <tr>\n",
       "      <th>7</th>\n",
       "      <td>php-service-bus</td>\n",
       "      <td>service-bus</td>\n",
       "      <td>349</td>\n",
       "      <td>https://github.com/php-service-bus/service-bus</td>\n",
       "    </tr>\n",
       "    <tr>\n",
       "      <th>8</th>\n",
       "      <td>amphp</td>\n",
       "      <td>parallel-functions</td>\n",
       "      <td>273</td>\n",
       "      <td>https://github.com/amphp/parallel-functions</td>\n",
       "    </tr>\n",
       "    <tr>\n",
       "      <th>9</th>\n",
       "      <td>xtrime-ru</td>\n",
       "      <td>TelegramRSS</td>\n",
       "      <td>272</td>\n",
       "      <td>https://github.com/xtrime-ru/TelegramRSS</td>\n",
       "    </tr>\n",
       "    <tr>\n",
       "      <th>10</th>\n",
       "      <td>amphp</td>\n",
       "      <td>socket</td>\n",
       "      <td>247</td>\n",
       "      <td>https://github.com/amphp/socket</td>\n",
       "    </tr>\n",
       "    <tr>\n",
       "      <th>11</th>\n",
       "      <td>amphp</td>\n",
       "      <td>process</td>\n",
       "      <td>241</td>\n",
       "      <td>https://github.com/amphp/process</td>\n",
       "    </tr>\n",
       "    <tr>\n",
       "      <th>12</th>\n",
       "      <td>amphp</td>\n",
       "      <td>sync</td>\n",
       "      <td>175</td>\n",
       "      <td>https://github.com/amphp/sync</td>\n",
       "    </tr>\n",
       "    <tr>\n",
       "      <th>13</th>\n",
       "      <td>amphp</td>\n",
       "      <td>dns</td>\n",
       "      <td>175</td>\n",
       "      <td>https://github.com/amphp/dns</td>\n",
       "    </tr>\n",
       "    <tr>\n",
       "      <th>14</th>\n",
       "      <td>amphp</td>\n",
       "      <td>redis</td>\n",
       "      <td>163</td>\n",
       "      <td>https://github.com/amphp/redis</td>\n",
       "    </tr>\n",
       "    <tr>\n",
       "      <th>15</th>\n",
       "      <td>amphp</td>\n",
       "      <td>websocket-client</td>\n",
       "      <td>155</td>\n",
       "      <td>https://github.com/amphp/websocket-client</td>\n",
       "    </tr>\n",
       "    <tr>\n",
       "      <th>16</th>\n",
       "      <td>amphp</td>\n",
       "      <td>serialization</td>\n",
       "      <td>122</td>\n",
       "      <td>https://github.com/amphp/serialization</td>\n",
       "    </tr>\n",
       "    <tr>\n",
       "      <th>17</th>\n",
       "      <td>amphp</td>\n",
       "      <td>websocket-server</td>\n",
       "      <td>121</td>\n",
       "      <td>https://github.com/amphp/websocket-server</td>\n",
       "    </tr>\n",
       "    <tr>\n",
       "      <th>18</th>\n",
       "      <td>kelunik</td>\n",
       "      <td>acme</td>\n",
       "      <td>120</td>\n",
       "      <td>https://github.com/kelunik/acme</td>\n",
       "    </tr>\n",
       "    <tr>\n",
       "      <th>19</th>\n",
       "      <td>amphp</td>\n",
       "      <td>cache</td>\n",
       "      <td>112</td>\n",
       "      <td>https://github.com/amphp/cache</td>\n",
       "    </tr>\n",
       "  </tbody>\n",
       "</table>\n",
       "</div>"
      ],
      "text/plain": [
       "           username           repo_name  stars  \\\n",
       "0             amphp                 amp   4300   \n",
       "1             danog       MadelineProto   3100   \n",
       "2             amphp            parallel    817   \n",
       "3          unreal4u        telegram-api    795   \n",
       "4             amphp         http-client    719   \n",
       "5             amphp         byte-stream    380   \n",
       "6             amphp               mysql    374   \n",
       "7   php-service-bus         service-bus    349   \n",
       "8             amphp  parallel-functions    273   \n",
       "9         xtrime-ru         TelegramRSS    272   \n",
       "10            amphp              socket    247   \n",
       "11            amphp             process    241   \n",
       "12            amphp                sync    175   \n",
       "13            amphp                 dns    175   \n",
       "14            amphp               redis    163   \n",
       "15            amphp    websocket-client    155   \n",
       "16            amphp       serialization    122   \n",
       "17            amphp    websocket-server    121   \n",
       "18          kelunik                acme    120   \n",
       "19            amphp               cache    112   \n",
       "\n",
       "                                          repo_url  \n",
       "0                     https://github.com/amphp/amp  \n",
       "1           https://github.com/danog/MadelineProto  \n",
       "2                https://github.com/amphp/parallel  \n",
       "3         https://github.com/unreal4u/telegram-api  \n",
       "4             https://github.com/amphp/http-client  \n",
       "5             https://github.com/amphp/byte-stream  \n",
       "6                   https://github.com/amphp/mysql  \n",
       "7   https://github.com/php-service-bus/service-bus  \n",
       "8      https://github.com/amphp/parallel-functions  \n",
       "9         https://github.com/xtrime-ru/TelegramRSS  \n",
       "10                 https://github.com/amphp/socket  \n",
       "11                https://github.com/amphp/process  \n",
       "12                   https://github.com/amphp/sync  \n",
       "13                    https://github.com/amphp/dns  \n",
       "14                  https://github.com/amphp/redis  \n",
       "15       https://github.com/amphp/websocket-client  \n",
       "16          https://github.com/amphp/serialization  \n",
       "17       https://github.com/amphp/websocket-server  \n",
       "18                 https://github.com/kelunik/acme  \n",
       "19                  https://github.com/amphp/cache  "
      ]
     },
     "execution_count": 134,
     "metadata": {},
     "output_type": "execute_result"
    }
   ],
   "source": [
    "get_topic_repos(get_topic_page(topic_urls[3]))"
   ]
  },
  {
   "cell_type": "code",
   "execution_count": 135,
   "id": "fbe6c5c7-a191-4cf6-bbb4-1ded12db570b",
   "metadata": {},
   "outputs": [
    {
     "data": {
      "text/plain": [
       "'https://github.com/topics/ansible'"
      ]
     },
     "execution_count": 135,
     "metadata": {},
     "output_type": "execute_result"
    }
   ],
   "source": [
    "topic_urls[6]"
   ]
  },
  {
   "cell_type": "code",
   "execution_count": 136,
   "id": "edefa7a4-cb5d-4589-84bf-82d339f871f1",
   "metadata": {},
   "outputs": [],
   "source": [
    "get_topic_repos(get_topic_page(topic_urls[3])).to_csv('ansible.csv',index = None)"
   ]
  },
  {
   "cell_type": "markdown",
   "id": "39d6fadf-259b-4c29-acd7-d58d3923b7c8",
   "metadata": {},
   "source": [
    "#### Write a single function to :\n",
    "\n",
    "- Get the list of topics from the topics page\n",
    "- Get the list of top repos from the individual topic pages\n",
    "- For each topic, create a CSV of the top repos for the topic"
   ]
  },
  {
   "cell_type": "code",
   "execution_count": 137,
   "id": "66e0021a-51d3-445e-8218-5da352431150",
   "metadata": {},
   "outputs": [],
   "source": [
    "def get_topic_titles(doc):\n",
    "    selection_class = 'f3 lh-condensed mb-0 mt-1 Link--primary'\n",
    "    topic_title_tags = doc.find_all('p',{'class': selection_class})\n",
    "    topic_titles = []\n",
    "    for tag in topic_title_tags:\n",
    "        topic_titles.append(tag.text)\n",
    "    return topic_titles\n",
    "\n",
    "def get_topic_descs(doc):\n",
    "    desc_selector = \"f5 color-fg-muted mb-0 mt-1\"\n",
    "    topic_desc_tags = doc.find_all('p',class_ = desc_selector)\n",
    "    topic_descs = []\n",
    "    for tag in topic_desc_tags:\n",
    "        topic_descs.append(tag.text.strip())\n",
    "    return topic_descs\n",
    "\n",
    "def get_topic_urls(doc):\n",
    "    topic_link_tags = doc.find_all('a',class_ = \"no-underline flex-grow-0\")\n",
    "    topic_urls = []\n",
    "    base_url = 'https://github.com'\n",
    "    for tag in topic_link_tags:\n",
    "        topic_urls.append(base_url + tag['href'])\n",
    "    return topic_urls\n",
    "\n",
    "\n",
    "def scrape_topics():\n",
    "    topics_url = 'https://github.com/topics'\n",
    "    response = requests.get(topics_url)\n",
    "    if response.status_code != 200:\n",
    "        raise Exception('Failed to load page {}'.format(topic_url))\n",
    "    topics_dict = {\n",
    "        'title': get_topic_titles(doc),\n",
    "        'description': get_topic_descs(doc),\n",
    "        'url': get_topic_urls(doc)\n",
    "    }\n",
    "    return pd.DataFrame(topics_dict)\n"
   ]
  },
  {
   "cell_type": "code",
   "execution_count": 138,
   "id": "1478774d-4c8e-46ea-8a5e-c2c790fbcaf8",
   "metadata": {},
   "outputs": [
    {
     "data": {
      "text/html": [
       "<div>\n",
       "<style scoped>\n",
       "    .dataframe tbody tr th:only-of-type {\n",
       "        vertical-align: middle;\n",
       "    }\n",
       "\n",
       "    .dataframe tbody tr th {\n",
       "        vertical-align: top;\n",
       "    }\n",
       "\n",
       "    .dataframe thead th {\n",
       "        text-align: right;\n",
       "    }\n",
       "</style>\n",
       "<table border=\"1\" class=\"dataframe\">\n",
       "  <thead>\n",
       "    <tr style=\"text-align: right;\">\n",
       "      <th></th>\n",
       "      <th>title</th>\n",
       "      <th>description</th>\n",
       "      <th>url</th>\n",
       "    </tr>\n",
       "  </thead>\n",
       "  <tbody>\n",
       "    <tr>\n",
       "      <th>0</th>\n",
       "      <td>3D</td>\n",
       "      <td>3D refers to the use of three-dimensional grap...</td>\n",
       "      <td>https://github.com/topics/3d</td>\n",
       "    </tr>\n",
       "    <tr>\n",
       "      <th>1</th>\n",
       "      <td>Ajax</td>\n",
       "      <td>Ajax is a technique for creating interactive w...</td>\n",
       "      <td>https://github.com/topics/ajax</td>\n",
       "    </tr>\n",
       "    <tr>\n",
       "      <th>2</th>\n",
       "      <td>Algorithm</td>\n",
       "      <td>Algorithms are self-contained sequences that c...</td>\n",
       "      <td>https://github.com/topics/algorithm</td>\n",
       "    </tr>\n",
       "    <tr>\n",
       "      <th>3</th>\n",
       "      <td>Amp</td>\n",
       "      <td>Amp is a non-blocking concurrency library for ...</td>\n",
       "      <td>https://github.com/topics/amphp</td>\n",
       "    </tr>\n",
       "    <tr>\n",
       "      <th>4</th>\n",
       "      <td>Android</td>\n",
       "      <td>Android is an operating system built by Google...</td>\n",
       "      <td>https://github.com/topics/android</td>\n",
       "    </tr>\n",
       "    <tr>\n",
       "      <th>5</th>\n",
       "      <td>Angular</td>\n",
       "      <td>Angular is an open source web application plat...</td>\n",
       "      <td>https://github.com/topics/angular</td>\n",
       "    </tr>\n",
       "    <tr>\n",
       "      <th>6</th>\n",
       "      <td>Ansible</td>\n",
       "      <td>Ansible is a simple and powerful automation en...</td>\n",
       "      <td>https://github.com/topics/ansible</td>\n",
       "    </tr>\n",
       "    <tr>\n",
       "      <th>7</th>\n",
       "      <td>API</td>\n",
       "      <td>An API (Application Programming Interface) is ...</td>\n",
       "      <td>https://github.com/topics/api</td>\n",
       "    </tr>\n",
       "    <tr>\n",
       "      <th>8</th>\n",
       "      <td>Arduino</td>\n",
       "      <td>Arduino is an open source platform for buildin...</td>\n",
       "      <td>https://github.com/topics/arduino</td>\n",
       "    </tr>\n",
       "    <tr>\n",
       "      <th>9</th>\n",
       "      <td>ASP.NET</td>\n",
       "      <td>ASP.NET is a web framework for building modern...</td>\n",
       "      <td>https://github.com/topics/aspnet</td>\n",
       "    </tr>\n",
       "    <tr>\n",
       "      <th>10</th>\n",
       "      <td>Awesome Lists</td>\n",
       "      <td>An awesome list is a list of awesome things cu...</td>\n",
       "      <td>https://github.com/topics/awesome</td>\n",
       "    </tr>\n",
       "    <tr>\n",
       "      <th>11</th>\n",
       "      <td>Amazon Web Services</td>\n",
       "      <td>Amazon Web Services provides on-demand cloud c...</td>\n",
       "      <td>https://github.com/topics/aws</td>\n",
       "    </tr>\n",
       "    <tr>\n",
       "      <th>12</th>\n",
       "      <td>Azure</td>\n",
       "      <td>Azure is a cloud computing service created by ...</td>\n",
       "      <td>https://github.com/topics/azure</td>\n",
       "    </tr>\n",
       "    <tr>\n",
       "      <th>13</th>\n",
       "      <td>Babel</td>\n",
       "      <td>Babel is a compiler for writing next generatio...</td>\n",
       "      <td>https://github.com/topics/babel</td>\n",
       "    </tr>\n",
       "    <tr>\n",
       "      <th>14</th>\n",
       "      <td>Bash</td>\n",
       "      <td>Bash is a shell and command language interpret...</td>\n",
       "      <td>https://github.com/topics/bash</td>\n",
       "    </tr>\n",
       "    <tr>\n",
       "      <th>15</th>\n",
       "      <td>Bitcoin</td>\n",
       "      <td>Bitcoin is a cryptocurrency developed by Satos...</td>\n",
       "      <td>https://github.com/topics/bitcoin</td>\n",
       "    </tr>\n",
       "    <tr>\n",
       "      <th>16</th>\n",
       "      <td>Bootstrap</td>\n",
       "      <td>Bootstrap is an HTML, CSS, and JavaScript fram...</td>\n",
       "      <td>https://github.com/topics/bootstrap</td>\n",
       "    </tr>\n",
       "    <tr>\n",
       "      <th>17</th>\n",
       "      <td>Bot</td>\n",
       "      <td>A bot is an application that runs automated ta...</td>\n",
       "      <td>https://github.com/topics/bot</td>\n",
       "    </tr>\n",
       "    <tr>\n",
       "      <th>18</th>\n",
       "      <td>C</td>\n",
       "      <td>C is a general purpose programming language th...</td>\n",
       "      <td>https://github.com/topics/c</td>\n",
       "    </tr>\n",
       "    <tr>\n",
       "      <th>19</th>\n",
       "      <td>Chrome</td>\n",
       "      <td>Chrome is a web browser from the tech company ...</td>\n",
       "      <td>https://github.com/topics/chrome</td>\n",
       "    </tr>\n",
       "    <tr>\n",
       "      <th>20</th>\n",
       "      <td>Chrome extension</td>\n",
       "      <td>Chrome extensions enable users to customize th...</td>\n",
       "      <td>https://github.com/topics/chrome-extension</td>\n",
       "    </tr>\n",
       "    <tr>\n",
       "      <th>21</th>\n",
       "      <td>Command-line interface</td>\n",
       "      <td>A CLI, or command-line interface, is a console...</td>\n",
       "      <td>https://github.com/topics/cli</td>\n",
       "    </tr>\n",
       "    <tr>\n",
       "      <th>22</th>\n",
       "      <td>Clojure</td>\n",
       "      <td>Clojure is a dynamic, general-purpose programm...</td>\n",
       "      <td>https://github.com/topics/clojure</td>\n",
       "    </tr>\n",
       "    <tr>\n",
       "      <th>23</th>\n",
       "      <td>Code quality</td>\n",
       "      <td>Automate your code review with style, quality,...</td>\n",
       "      <td>https://github.com/topics/code-quality</td>\n",
       "    </tr>\n",
       "    <tr>\n",
       "      <th>24</th>\n",
       "      <td>Code review</td>\n",
       "      <td>Ensure your code meets quality standards and s...</td>\n",
       "      <td>https://github.com/topics/code-review</td>\n",
       "    </tr>\n",
       "    <tr>\n",
       "      <th>25</th>\n",
       "      <td>Compiler</td>\n",
       "      <td>Compilers are software that translate higher-l...</td>\n",
       "      <td>https://github.com/topics/compiler</td>\n",
       "    </tr>\n",
       "    <tr>\n",
       "      <th>26</th>\n",
       "      <td>Continuous integration</td>\n",
       "      <td>Automatically build and test your code as you ...</td>\n",
       "      <td>https://github.com/topics/continuous-integration</td>\n",
       "    </tr>\n",
       "    <tr>\n",
       "      <th>27</th>\n",
       "      <td>C++</td>\n",
       "      <td>C++ is a general purpose and object-oriented p...</td>\n",
       "      <td>https://github.com/topics/cpp</td>\n",
       "    </tr>\n",
       "    <tr>\n",
       "      <th>28</th>\n",
       "      <td>Cryptocurrency</td>\n",
       "      <td>A cryptocurrency is a digital currency that us...</td>\n",
       "      <td>https://github.com/topics/cryptocurrency</td>\n",
       "    </tr>\n",
       "    <tr>\n",
       "      <th>29</th>\n",
       "      <td>Crystal</td>\n",
       "      <td>Crystal is a self-hosted, general purpose prog...</td>\n",
       "      <td>https://github.com/topics/crystal</td>\n",
       "    </tr>\n",
       "  </tbody>\n",
       "</table>\n",
       "</div>"
      ],
      "text/plain": [
       "                     title                                        description  \\\n",
       "0                       3D  3D refers to the use of three-dimensional grap...   \n",
       "1                     Ajax  Ajax is a technique for creating interactive w...   \n",
       "2                Algorithm  Algorithms are self-contained sequences that c...   \n",
       "3                      Amp  Amp is a non-blocking concurrency library for ...   \n",
       "4                  Android  Android is an operating system built by Google...   \n",
       "5                  Angular  Angular is an open source web application plat...   \n",
       "6                  Ansible  Ansible is a simple and powerful automation en...   \n",
       "7                      API  An API (Application Programming Interface) is ...   \n",
       "8                  Arduino  Arduino is an open source platform for buildin...   \n",
       "9                  ASP.NET  ASP.NET is a web framework for building modern...   \n",
       "10           Awesome Lists  An awesome list is a list of awesome things cu...   \n",
       "11     Amazon Web Services  Amazon Web Services provides on-demand cloud c...   \n",
       "12                   Azure  Azure is a cloud computing service created by ...   \n",
       "13                   Babel  Babel is a compiler for writing next generatio...   \n",
       "14                    Bash  Bash is a shell and command language interpret...   \n",
       "15                 Bitcoin  Bitcoin is a cryptocurrency developed by Satos...   \n",
       "16               Bootstrap  Bootstrap is an HTML, CSS, and JavaScript fram...   \n",
       "17                     Bot  A bot is an application that runs automated ta...   \n",
       "18                       C  C is a general purpose programming language th...   \n",
       "19                  Chrome  Chrome is a web browser from the tech company ...   \n",
       "20        Chrome extension  Chrome extensions enable users to customize th...   \n",
       "21  Command-line interface  A CLI, or command-line interface, is a console...   \n",
       "22                 Clojure  Clojure is a dynamic, general-purpose programm...   \n",
       "23            Code quality  Automate your code review with style, quality,...   \n",
       "24             Code review  Ensure your code meets quality standards and s...   \n",
       "25                Compiler  Compilers are software that translate higher-l...   \n",
       "26  Continuous integration  Automatically build and test your code as you ...   \n",
       "27                     C++  C++ is a general purpose and object-oriented p...   \n",
       "28          Cryptocurrency  A cryptocurrency is a digital currency that us...   \n",
       "29                 Crystal  Crystal is a self-hosted, general purpose prog...   \n",
       "\n",
       "                                                 url  \n",
       "0                       https://github.com/topics/3d  \n",
       "1                     https://github.com/topics/ajax  \n",
       "2                https://github.com/topics/algorithm  \n",
       "3                    https://github.com/topics/amphp  \n",
       "4                  https://github.com/topics/android  \n",
       "5                  https://github.com/topics/angular  \n",
       "6                  https://github.com/topics/ansible  \n",
       "7                      https://github.com/topics/api  \n",
       "8                  https://github.com/topics/arduino  \n",
       "9                   https://github.com/topics/aspnet  \n",
       "10                 https://github.com/topics/awesome  \n",
       "11                     https://github.com/topics/aws  \n",
       "12                   https://github.com/topics/azure  \n",
       "13                   https://github.com/topics/babel  \n",
       "14                    https://github.com/topics/bash  \n",
       "15                 https://github.com/topics/bitcoin  \n",
       "16               https://github.com/topics/bootstrap  \n",
       "17                     https://github.com/topics/bot  \n",
       "18                       https://github.com/topics/c  \n",
       "19                  https://github.com/topics/chrome  \n",
       "20        https://github.com/topics/chrome-extension  \n",
       "21                     https://github.com/topics/cli  \n",
       "22                 https://github.com/topics/clojure  \n",
       "23            https://github.com/topics/code-quality  \n",
       "24             https://github.com/topics/code-review  \n",
       "25                https://github.com/topics/compiler  \n",
       "26  https://github.com/topics/continuous-integration  \n",
       "27                     https://github.com/topics/cpp  \n",
       "28          https://github.com/topics/cryptocurrency  \n",
       "29                 https://github.com/topics/crystal  "
      ]
     },
     "execution_count": 138,
     "metadata": {},
     "output_type": "execute_result"
    }
   ],
   "source": [
    "scrape_topics()"
   ]
  },
  {
   "cell_type": "code",
   "execution_count": 141,
   "id": "5762fd5f-fe44-42bc-998c-6d3f414d9455",
   "metadata": {},
   "outputs": [],
   "source": [
    "def scrape_topic_repos():\n",
    "    print('Scraping list of topics')\n",
    "    topics_df = scrape_topics()  \n",
    "    \n",
    "    for index, row in topics_df.iterrows():\n",
    "        print(\"Scraping top repositories for {}\".format(row['title']))\n",
    "        scrape_topic(row['url'], row['title'])  "
   ]
  },
  {
   "cell_type": "code",
   "execution_count": 142,
   "id": "5a45645b-e787-4805-a91c-92b693121d9c",
   "metadata": {},
   "outputs": [
    {
     "name": "stdout",
     "output_type": "stream",
     "text": [
      "Scraping list of topics\n",
      "Scraping top repositories for 3D\n",
      "Scraping top repositories for Ajax\n",
      "Scraping top repositories for Algorithm\n",
      "Scraping top repositories for Amp\n",
      "Scraping top repositories for Android\n",
      "Scraping top repositories for Angular\n",
      "Scraping top repositories for Ansible\n",
      "Scraping top repositories for API\n",
      "Scraping top repositories for Arduino\n",
      "Scraping top repositories for ASP.NET\n",
      "Scraping top repositories for Awesome Lists\n",
      "Scraping top repositories for Amazon Web Services\n",
      "Scraping top repositories for Azure\n",
      "Scraping top repositories for Babel\n",
      "Scraping top repositories for Bash\n",
      "Scraping top repositories for Bitcoin\n",
      "Scraping top repositories for Bootstrap\n",
      "Scraping top repositories for Bot\n",
      "Scraping top repositories for C\n",
      "Scraping top repositories for Chrome\n",
      "Scraping top repositories for Chrome extension\n",
      "Scraping top repositories for Command-line interface\n",
      "Scraping top repositories for Clojure\n",
      "Scraping top repositories for Code quality\n",
      "Scraping top repositories for Code review\n",
      "Scraping top repositories for Compiler\n",
      "Scraping top repositories for Continuous integration\n",
      "Scraping top repositories for C++\n",
      "Scraping top repositories for Cryptocurrency\n",
      "Scraping top repositories for Crystal\n"
     ]
    }
   ],
   "source": [
    "scrape_topic_repos()"
   ]
  },
  {
   "cell_type": "code",
   "execution_count": null,
   "id": "b3222f62-66e0-4e4a-a108-79dea2252121",
   "metadata": {},
   "outputs": [],
   "source": []
  }
 ],
 "metadata": {
  "kernelspec": {
   "display_name": "Python 3 (ipykernel)",
   "language": "python",
   "name": "python3"
  },
  "language_info": {
   "codemirror_mode": {
    "name": "ipython",
    "version": 3
   },
   "file_extension": ".py",
   "mimetype": "text/x-python",
   "name": "python",
   "nbconvert_exporter": "python",
   "pygments_lexer": "ipython3",
   "version": "3.10.2"
  }
 },
 "nbformat": 4,
 "nbformat_minor": 5
}
